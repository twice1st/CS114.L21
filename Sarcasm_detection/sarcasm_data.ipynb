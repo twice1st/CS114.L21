{
  "nbformat": 4,
  "nbformat_minor": 0,
  "metadata": {
    "colab": {
      "name": "sarcasm_data.ipynb",
      "provenance": [],
      "collapsed_sections": [],
      "authorship_tag": "ABX9TyPhlULmxcguZTM1DVMmR22p",
      "include_colab_link": true
    },
    "kernelspec": {
      "name": "python3",
      "display_name": "Python 3"
    },
    "language_info": {
      "name": "python"
    }
  },
  "cells": [
    {
      "cell_type": "markdown",
      "metadata": {
        "id": "view-in-github",
        "colab_type": "text"
      },
      "source": [
        "<a href=\"https://colab.research.google.com/github/twice1st/CS114.L21/blob/main/Sarcasm_detection/sarcasm_data.ipynb\" target=\"_parent\"><img src=\"https://colab.research.google.com/assets/colab-badge.svg\" alt=\"Open In Colab\"/></a>"
      ]
    },
    {
      "cell_type": "markdown",
      "metadata": {
        "id": "-GYkPjsaUHy4"
      },
      "source": [
        "# Import thư viện cần thiết"
      ]
    },
    {
      "cell_type": "code",
      "metadata": {
        "colab": {
          "base_uri": "https://localhost:8080/"
        },
        "id": "4Vys_D_djBcX",
        "outputId": "d22b81d7-0b9c-4afd-f7c1-05aa6c92450b"
      },
      "source": [
        "pip install bs4"
      ],
      "execution_count": null,
      "outputs": [
        {
          "output_type": "stream",
          "text": [
            "Requirement already satisfied: bs4 in /usr/local/lib/python3.7/dist-packages (0.0.1)\n",
            "Requirement already satisfied: beautifulsoup4 in /usr/local/lib/python3.7/dist-packages (from bs4) (4.6.3)\n"
          ],
          "name": "stdout"
        }
      ]
    },
    {
      "cell_type": "code",
      "metadata": {
        "colab": {
          "base_uri": "https://localhost:8080/"
        },
        "id": "SnXm5VVCjMPT",
        "outputId": "e3864aff-c459-4e59-d3ff-23ce39cc1342"
      },
      "source": [
        "pip install requests"
      ],
      "execution_count": null,
      "outputs": [
        {
          "output_type": "stream",
          "text": [
            "Requirement already satisfied: requests in /usr/local/lib/python3.7/dist-packages (2.23.0)\n",
            "Requirement already satisfied: urllib3!=1.25.0,!=1.25.1,<1.26,>=1.21.1 in /usr/local/lib/python3.7/dist-packages (from requests) (1.24.3)\n",
            "Requirement already satisfied: chardet<4,>=3.0.2 in /usr/local/lib/python3.7/dist-packages (from requests) (3.0.4)\n",
            "Requirement already satisfied: idna<3,>=2.5 in /usr/local/lib/python3.7/dist-packages (from requests) (2.10)\n",
            "Requirement already satisfied: certifi>=2017.4.17 in /usr/local/lib/python3.7/dist-packages (from requests) (2021.5.30)\n"
          ],
          "name": "stdout"
        }
      ]
    },
    {
      "cell_type": "code",
      "metadata": {
        "id": "iqzCZ5kmjfnQ"
      },
      "source": [
        "import requests\n",
        "from bs4 import BeautifulSoup\n",
        "import json\n",
        "from datetime import datetime"
      ],
      "execution_count": null,
      "outputs": []
    },
    {
      "cell_type": "code",
      "metadata": {
        "id": "dMf23VDjmEif"
      },
      "source": [
        "def format(url, title,is_sarcastic):\n",
        "    data={\n",
        "        \"article_link\": url,\n",
        "        \"headline\": title,\n",
        "        \"is_sarcastic\": is_sarcastic\n",
        "    }\n",
        "    return data"
      ],
      "execution_count": null,
      "outputs": []
    },
    {
      "cell_type": "markdown",
      "metadata": {
        "id": "gRWB3toMizFU"
      },
      "source": [
        "## **https://www.nytimes.com**"
      ]
    },
    {
      "cell_type": "markdown",
      "metadata": {
        "id": "DyfgbQk0UYWo"
      },
      "source": [
        "# Hàm lấy thông tin của trang web, rồi phân tích và lấy title, link tile"
      ]
    },
    {
      "cell_type": "code",
      "metadata": {
        "id": "E9aOVuHyY4GI"
      },
      "source": [
        "def taketitle4(url): \n",
        "  ulrs = []\n",
        "  headline = []\n",
        "  re = requests.get(url) # gửi yêu cầu đến web\n",
        "  soup = BeautifulSoup(re.content, \"html.parser\") # lấy thông tin của trang web\n",
        "  detail = soup.findAll(\"div\", class_=\"css-141drxa\") # lọc thông tin để tìm tiêu đề và link tiêu đề\n",
        "  urls = [x.find('a').attrs[\"href\"] for x in detail] # tìm link\n",
        "  link = ['https://www.nytimes.com'+x for x in urls] # ghép link hoàn chỉnh\n",
        "  headline = [x.find('a').text for x in detail] # tìm tiêu đề\n",
        "  return headline, link"
      ],
      "execution_count": null,
      "outputs": []
    },
    {
      "cell_type": "markdown",
      "metadata": {
        "id": "ret4dAzUUL0c"
      },
      "source": [
        "# Hàm ghép các yếu tổ để tạo thành link hoàn chỉnh"
      ]
    },
    {
      "cell_type": "code",
      "metadata": {
        "id": "61VTEfI1TXyy"
      },
      "source": [
        "URL = 'https://www.nytimes.com'\n",
        "year = ['2020','2019','2018','2017']\n",
        "month= ['01','02','03','04','05','06','07','08','09','10','11','12']\n",
        "date = ['01','02','03','04','05','06','07','08','09','10','11','12','13','14','15','16','17','18','19','20','21','22','23','24','25','26','27','28','29','30','31']\n",
        "data4 = []\n",
        "for y in year:\n",
        "  for m in month:\n",
        "    for d in date:\n",
        "      url = 'https://www.nytimes.com/issue/todayspaper/' + y + '/' + m + '/' + d + '/todays-new-york-times' # ghép các yếu tố để tạo link phù hợp\n",
        "      title, urls  = taketitle4(url)\n",
        "      for i in range(len(urls)): # định dạng lại theo form yêu cầu\n",
        "        element= format(urls[i],title[i],0)\n",
        "        data4.append(element)"
      ],
      "execution_count": null,
      "outputs": []
    },
    {
      "cell_type": "markdown",
      "metadata": {
        "id": "VKFIUgC8WrJo"
      },
      "source": [
        "# Code chạy thử để kiểm tra yêu cầu"
      ]
    },
    {
      "cell_type": "code",
      "metadata": {
        "id": "ZrGAh0sUSm4e",
        "colab": {
          "base_uri": "https://localhost:8080/"
        },
        "outputId": "e5cf9152-1710-4756-edc9-647883cc019c"
      },
      "source": [
        "#test\n",
        "data = []\n",
        "ur = []\n",
        "title, urls = taketitle4('https://www.nytimes.com/issue/todayspaper/2017/12/31/todays-new-york-times')\n",
        "element= format(url,title,0)\n",
        "data.append(element)\n",
        "print(data)"
      ],
      "execution_count": null,
      "outputs": [
        {
          "output_type": "stream",
          "text": [
            "[{'article_link': 'https://www.nytimes.com/issue/todayspaper/2017/12/31/todays-new-york-times', 'headline': ['In Fire-Scarred Bronx Neighborhood, a World of New Arrivals, Children and CommunityMany were drawn to Belmont, where a fire killed 12, because it is affordable and safe. They stayed because they found a small town amid a metropolis.By Rick Rojas', 'Kazakhstan Prizes Its Cowboys, but Few Want to Saddle Up for Harsh LifeKazakh cowboys, while proud of providing their rapidly modernizing nation with a link to its nomadic past, rarely want their children to follow them onto the frigid steppes.By Andrew Higgins', 'Republican Attacks on Mueller and F.B.I. Open New Rift in G.O.P.By Nicholas Fandos', 'Coming Out in LebanonBy Laura Boushnak and Mona Boshnaq', 'We Asked Women in Blue-Collar Workplaces About Harassment. Here Are Their Stories.By Susan Chira', 'John Portman, Architect Who Made Skylines Soar, Dies at 93By Robert D. McFadden', 'San Francisco’s Skyline, Now Inescapably Transformed by TechBy David Streitfeld', 'Kazakhstan Prizes Its Cowboys, but Few Want to Saddle Up for Harsh LifeBy Andrew Higgins', 'E.U. Hoped Balkan Border Deal Would Be Model for Peace. Then It Collapsed.By Barbara Surk', 'Some Afghan Children Find an Alternative to Jail — for NowBy Rod Nordland', 'We Asked Women in Blue-Collar Workplaces About Harassment. Here Are Their Stories.By Susan Chira', 'Republicans’ 2018 Resolution: Bipartisanship. Will It Last?By Carl Hulse', 'Trump Ends Terms of Remaining Members of H.I.V. and AIDS CouncilBy Matt Stevens and Daniel Victor', 'John Portman, Architect Who Made Skylines Soar, Dies at 93By Robert D. McFadden', 'Ben Barres, Neuroscientist and Equal-Opportunity Advocate, Dies at 63By Neil Genzlinger', 'Marcus Raskin, Co-Founder of Liberal Think Tank, Dies at 83By Richard Sandomir', 'Want to Be Happy? Think Like an Old PersonBy John Leland', 'A House for Women Leaving Prison Sits EmptyBy Zoe Greenberg', 'The Year of Living AngrilyBy Ginia Bellafante', '10 Cultural Battles That Ruled 2017By Jennifer Schuessler', 'Behind the Scenes of ‘Tosca,’ the Messiest Production in Met HistoryBy Michael Cooper', 'Yara Shahidi Leaves Her TV Nest and Preps for Real LifeBy Kathryn Shattuck', 'Inside the Hollywood Home of Social Media’s Stars. (Don’t Be Shy.)By Daisuke Wakabayashi', 'San Francisco’s Skyline, Now Inescapably Transformed by TechBy David Streitfeld', 'Why Are Mutual Fund Fees So High? This Billionaire KnowsBy Landon Thomas Jr.', 'The Only Way to Keep Your ResolutionsBy David DeSteno', 'The Patriarchs Are Falling. The Patriarchy Is Stronger Than Ever.By Susan Faludi', 'When Forecasters Get It Wrong: AlwaysBy Ruchir Sharma', 'Francine Prose’s Oaxaca: An Immersion Course in Mexico’s DelightsBy Francine Prose', 'In Palm Springs, to Pool Hop Is to Time Travel By Bonnie Tsui', 'In Philadelphia, a Comic Book Store Dedicated to DiversityBy John L. Dorman', 'New & Noteworthy', 'Letters to the Editor', 'Notes From the Book Review Archives', 'The Year in SportsBy Christopher Clarey', 'Where Are the American Women in Olympic Figure Skating?By Jeré Longman', 'Orange Bowl Win Over Miami Caps Wisconsin’s Stellar SeasonBy The Associated Press', 'The Most Vexing Unanswered Questions of 2017Compiled by The Styles Desk', 'Taking Out the Trash? That’s Still a Man’s Job, Even for the Liberal Coastal EliteBy Rachel Levin', 'Don’t Call It Street StyleBy Eve Lyons', 'Of All the Blogs in the World, He Walks Into MineBy Katherine Rosman', 'Ava Bastian, Stephanie Lizza', 'Kelly Jones, Daniel Howell', 'Manhattan Prices Stable in 2017, Even as Luxury Takes a BreatherBy Vivian Marino', 'Landlords and Sellers AdjustBy Michael Kolomatsky', 'Can I Divide My Apartment Into Two?By Ronda Kaysen', 'Corrections: December 31, 2017'], 'is_sarcastic': 0}]\n"
          ],
          "name": "stdout"
        }
      ]
    },
    {
      "cell_type": "markdown",
      "metadata": {
        "id": "g6IyqKGPjIIa"
      },
      "source": [
        "## **https://www.euronews.com**"
      ]
    },
    {
      "cell_type": "markdown",
      "metadata": {
        "id": "GRAh-le1VpkE"
      },
      "source": [
        "# Hàm lấy thông tin của trang web, rồi phân tích và lấy title, link tile"
      ]
    },
    {
      "cell_type": "code",
      "metadata": {
        "id": "84bz8vJ8huJ0"
      },
      "source": [
        "def taketitle5(url): \n",
        "  ulrs = []\n",
        "  headline = []\n",
        "  re = requests.get(url) # gửi yêu cầu đến web\n",
        "  soup = BeautifulSoup(re.text, \"lxml\") # lấy thông tin của trang web\n",
        "  detail = soup.findAll(\"a\", class_=\"m-object__title__link \") # lọc thông tin để tìm tiêu đề và link tiêu đề\n",
        "  headline = [x.get('title') for x in detail] # tìm tiêu đề\n",
        "  urls = ['https://www.euronews.com'+ x.get('href') for x in detail] # tìm và ghép link hoàn chỉnh\n",
        "  return headline, urls"
      ],
      "execution_count": null,
      "outputs": []
    },
    {
      "cell_type": "markdown",
      "metadata": {
        "id": "3Be4ylIUWA8h"
      },
      "source": [
        "# Hàm ghép các yếu tổ để tạo thành link hoàn chỉnh"
      ]
    },
    {
      "cell_type": "code",
      "metadata": {
        "id": "MQYh4onehWEH"
      },
      "source": [
        "year = ['2020','2019','2018','2017']\n",
        "month= ['01','02','03','04','05','06','07','08','09','10','11','12']\n",
        "date = ['01','02','03','04','05','06','07','08','09','10','11','12','13','14','15','16','17','18','19','20','21','22','23','24','25','26','27','28','29','30','31']\n",
        "data5 = []\n",
        "URL = 'https://www.euronews.com/'\n",
        "for y in year:\n",
        "  for m in month:\n",
        "    for d in date:\n",
        "      url = URL + y + '/' + m + '/' + d # ghép các yếu tổ để tạo link phù hợp\n",
        "      title, urls = taketitle5(url)\n",
        "      for i in range(len(urls)): # định dạng lại theo form yêu cầu\n",
        "        element= format(urls[i],title[i],0)\n",
        "        data5.append(element)"
      ],
      "execution_count": null,
      "outputs": []
    },
    {
      "cell_type": "markdown",
      "metadata": {
        "id": "SBxj-UEsWqoC"
      },
      "source": [
        "# Code chạy thử để kiểm tra yêu cầu"
      ]
    },
    {
      "cell_type": "code",
      "metadata": {
        "id": "A31tuiASY3Lp",
        "colab": {
          "base_uri": "https://localhost:8080/"
        },
        "outputId": "9e5a1024-bb86-4c61-e21f-1f9de1efa926"
      },
      "source": [
        "#test\n",
        "data5=[]\n",
        "url = 'https://www.euronews.com/2015/06/05'\n",
        "title, urls = taketitle5(url)\n",
        "for i in range(len(urls)):\n",
        "    element= format(urls[i],title[i],0)\n",
        "    data5.append(element)\n",
        "print(data5)"
      ],
      "execution_count": null,
      "outputs": [
        {
          "output_type": "stream",
          "text": [
            "[{'article_link': 'https://www.euronews.com/2015/06/05/explosions-kill-2-injure-100-at-kurdish-rally-in-eastern-turkey', 'headline': 'Explosions kill 2, injure 100 at Kurdish rally in eastern Turkey', 'is_sarcastic': 0}, {'article_link': 'https://www.euronews.com/2015/06/05/malala-yousafzai-suspects-acquitted-not-convicted-as-first-reported', 'headline': 'Malala Yousafzai suspects acquitted not convicted as first reported', 'is_sarcastic': 0}, {'article_link': 'https://www.euronews.com/2015/06/05/juventus-and-barcelona-looking-to-complete-stunning-trebles', 'headline': 'Juventus and Barcelona looking to complete stunning trebles', 'is_sarcastic': 0}, {'article_link': 'https://www.euronews.com/2015/06/05/activists-call-on-g7-summit-to-be-more-than-hot-air', 'headline': 'Activists call on G7 summit to be more than hot air', 'is_sarcastic': 0}, {'article_link': 'https://www.euronews.com/2015/06/05/wawrinka-reaches-french-open-final', 'headline': 'Wawrinka reaches French Open final', 'is_sarcastic': 0}, {'article_link': 'https://www.euronews.com/2015/06/05/turkey-can-count-on-a-repeat-of-upcoming-watershed-election', 'headline': \"Turkey can 'count on a repeat' of upcoming watershed election\", 'is_sarcastic': 0}, {'article_link': 'https://www.euronews.com/2015/06/05/reynders-urges-more-pooling-of-intelligence-against-terrorism', 'headline': 'Reynders urges more pooling of intelligence against terrorism', 'is_sarcastic': 0}, {'article_link': 'https://www.euronews.com/2015/06/05/european-commission-reform-proposals-absurd-says-greek-prime-minister', 'headline': \"'Conclusive solution needed' for Greece and Europe, says Tsipras\", 'is_sarcastic': 0}, {'article_link': 'https://www.euronews.com/2015/06/05/live-turkish-parliamentary-election', 'headline': 'AKP loses its majority as Kurdish party enter Turkish Parliament', 'is_sarcastic': 0}, {'article_link': 'https://www.euronews.com/2015/06/05/mixed-reaction-in-athens-to-debt-repayment-delay', 'headline': 'Mixed reaction in Athens to debt repayment delay', 'is_sarcastic': 0}, {'article_link': 'https://www.euronews.com/2015/06/05/enlightening-education-projects-for-blind-and-visually-impaired', 'headline': 'Enlightening education: inspiring projects for blind and visually impaired students', 'is_sarcastic': 0}, {'article_link': 'https://www.euronews.com/2015/06/05/europe-weekly-greece-misses-imf-deadline', 'headline': 'Europe Weekly: Greece misses IMF deadline', 'is_sarcastic': 0}, {'article_link': 'https://www.euronews.com/2015/06/05/collins-dies-in-car-crash', 'headline': 'Collins dies in car crash', 'is_sarcastic': 0}, {'article_link': 'https://www.euronews.com/2015/06/05/tariq-aziz-iraq-s-former-deputy-pm-in-hussein-regime-dies', 'headline': \"Tariq Aziz, Iraq's former deputy PM in Hussein regime, dies\", 'is_sarcastic': 0}, {'article_link': 'https://www.euronews.com/2015/06/05/greece-has-bought-itself-some-time-by-bundling-together-its-payments-to-the-imf', 'headline': 'Greece has bought itself some time by bundling together its payments to the IMF', 'is_sarcastic': 0}, {'article_link': 'https://www.euronews.com/2015/06/05/a-brief-history-of-transsexuality', 'headline': 'A brief history of Transsexuality', 'is_sarcastic': 0}, {'article_link': 'https://www.euronews.com/2015/06/05/fighting-isil-in-syria-and-iraq', 'headline': 'Fighting ISIL in Syria and Iraq', 'is_sarcastic': 0}, {'article_link': 'https://www.euronews.com/2015/06/05/ukrainian-president-says-embattled-town-of-maryinka-free-of-separatists', 'headline': 'Ukrainian president says embattled town of Maryinka free of separatists', 'is_sarcastic': 0}, {'article_link': 'https://www.euronews.com/2015/06/05/and-also-french-mummy-found-morocco-expels-topless-protesters-selfie-taker', 'headline': 'And also... French mummy found; Morocco expels topless protesters, selfie-taker topples Lenin statue', 'is_sarcastic': 0}, {'article_link': 'https://www.euronews.com/2015/06/05/jurassic-world-dinos-walk-again', 'headline': 'Jurassic World: dinos walk again', 'is_sarcastic': 0}, {'article_link': 'https://www.euronews.com/2015/06/05/nathan-sykes-and-walk-the-moon-have-new-tunes-out', 'headline': 'Nathan Sykes and Walk the Moon have new tunes out', 'is_sarcastic': 0}, {'article_link': 'https://www.euronews.com/2015/06/05/turkey-vote-and-beyond-election-monitoring-group-rejected-by-ruling-akp', 'headline': \"Turkey: Ruling AKP won't work with Vote and Beyond election monitors\", 'is_sarcastic': 0}, {'article_link': 'https://www.euronews.com/2015/06/05/romania-rocked-over-pm-ponta-s-alleged-corruption', 'headline': 'Romania rocked over PM Ponta’s alleged corruption', 'is_sarcastic': 0}, {'article_link': 'https://www.euronews.com/2015/06/05/france-can-take-man-off-life-support-following-court-decision', 'headline': 'France can take man off life support following court decision', 'is_sarcastic': 0}, {'article_link': 'https://www.euronews.com/2015/06/05/new-us-middle-east-task-force-set-to-find-new-solutions-to-tackle-isil', 'headline': 'New US Middle East task force set to find new solutions to tackle ISIL', 'is_sarcastic': 0}, {'article_link': 'https://www.euronews.com/2015/06/05/roomarkable-leap-from-hairless-orphan-to-muscular-marsupial', 'headline': 'Roomarkable leap: from hairless orphan to muscular marsupial', 'is_sarcastic': 0}, {'article_link': 'https://www.euronews.com/2015/06/05/arab-and-israeli-musicians-in-sweet-harmony', 'headline': 'Arab and Israeli musicians in sweet harmony', 'is_sarcastic': 0}, {'article_link': 'https://www.euronews.com/next/2015/06/05/azerbaijan-excited-ahead-of-first-ever-european-games', 'headline': 'Azerbaijan excited ahead of first-ever European Games', 'is_sarcastic': 0}, {'article_link': 'https://www.euronews.com/2015/06/05/enter-the-elephant-eu-relationship-finally-takes-centre-stage-in-uk-as', 'headline': 'Enter the elephant - EU relationship finally takes UK centre stage', 'is_sarcastic': 0}, {'article_link': 'https://www.euronews.com/2015/06/05/stricken-chinese-cruise-ship-righted-in-yangtze-as-dozens-of-bodies-brought', 'headline': 'Stricken Chinese cruise ship righted in Yangtze as dozens of bodies brought ashore', 'is_sarcastic': 0}]\n"
          ],
          "name": "stdout"
        }
      ]
    },
    {
      "cell_type": "markdown",
      "metadata": {
        "id": "MlpEeB7TjRWq"
      },
      "source": [
        "## **https://www.thetimes.co.uk/**"
      ]
    },
    {
      "cell_type": "markdown",
      "metadata": {
        "id": "tjBtuLGzWa0v"
      },
      "source": [
        "# Hàm lấy thông tin của trang web, rồi phân tích và lấy title, link tile"
      ]
    },
    {
      "cell_type": "code",
      "metadata": {
        "id": "3uvhvW0ZjFrX"
      },
      "source": [
        "def taketitle6(url): \n",
        "  ulrs = []\n",
        "  headline = []\n",
        "  re = requests.get(url) # gửi yêu cầu đến web\n",
        "  soup = BeautifulSoup(re.text, \"lxml\") # lấy thông tin của trang web\n",
        "  detail = soup.findAll(\"ul\", class_=\"Sitemap-links\") # lọc thông tin để tìm tiêu đề và link tiêu đề\n",
        "  for x in detail: # tìm tiêu đề\n",
        "    headline = [y.text for y in x]\n",
        "  urls = [\"https://www.thetimes.co.uk\" + x.a['href'] for x in detail] # tìm và ghép link hoàn chỉnh\n",
        "  return headline, urls"
      ],
      "execution_count": null,
      "outputs": []
    },
    {
      "cell_type": "markdown",
      "metadata": {
        "id": "sNtUJGPxWY5o"
      },
      "source": [
        "# Hàm ghép các yếu tổ để tạo thành link hoàn chỉnh"
      ]
    },
    {
      "cell_type": "code",
      "metadata": {
        "id": "ci4-y1-PjFxr"
      },
      "source": [
        "year = ['2020','2019','2018','2017']\n",
        "month= ['01','02','03','04','05','06','07','08','09','10','11','12']\n",
        "date = ['01','02','03','04','05','06','07','08','09','10','11','12','13','14','15','16','17','18','19','20','21','22','23','24','25','26','27','28','29','30','31']\n",
        "data6 = []\n",
        "for y in year:\n",
        "  for m in month:\n",
        "    for d in date:\n",
        "      url = 'https://www.thetimes.co.uk/html-sitemap/' + y + '-' + m + '-' + d # ghép các yếu tổ để tạo link phù hợp\n",
        "      title, urls = taketitle6(url)\n",
        "      n = min(len(title), len(urls))\n",
        "      for i in range(n): # định dạng theo form yêu cầu\n",
        "        element= format(urls[i],title[i],0)\n",
        "        data6.append(element)"
      ],
      "execution_count": null,
      "outputs": []
    },
    {
      "cell_type": "markdown",
      "metadata": {
        "id": "Ji5J3IT_WhV6"
      },
      "source": [
        "# Code chạy thử để kiểm tra yêu cầu"
      ]
    },
    {
      "cell_type": "code",
      "metadata": {
        "colab": {
          "base_uri": "https://localhost:8080/"
        },
        "id": "oUkgYO_MjF4j",
        "outputId": "6e8ecdbf-6eec-4697-8579-38de1e505a00"
      },
      "source": [
        "#test\n",
        "data6 = []\n",
        "url = 'https://www.thetimes.co.uk/html-sitemap/2015-01-4'\n",
        "title, urls = taketitle6(url)\n",
        "for i in range(len(urls)):\n",
        "  element= format(urls[i],title[i],0)\n",
        "  data6.append(element)\n",
        "print(data6)"
      ],
      "execution_count": null,
      "outputs": [
        {
          "output_type": "stream",
          "text": [
            "[{'article_link': 'https://www.thetimes.co.uk/article/admissions-reforms-have-unexpected-consequences-08vl7km5dz2', 'headline': '9,000 Russian troops ‘fighting with Ukraine separatists’', 'is_sarcastic': 0}, {'article_link': 'https://www.thetimes.co.uk/article/bridge-january-22-7xmwjrd6d79', 'headline': '200 operations cancelled every day as NHS crisis spreads', 'is_sarcastic': 0}, {'article_link': 'https://www.thetimes.co.uk/article/challenging-soft-sentences-for-drivers-who-kill-vh6f9wzxbgt', 'headline': '€1.1trn bid to pull Eurozone from the mire', 'is_sarcastic': 0}, {'article_link': 'https://www.thetimes.co.uk/article/dictator-churchill-3qdj2pgcj9x', 'headline': '13 killed as shell hits bus in rebel held Donetsk', 'is_sarcastic': 0}, {'article_link': 'https://www.thetimes.co.uk/article/experts-brand-exercise-guides-a-bit-of-a-stretch-f0s7j0b6pg9', 'headline': '. . . and shoes', 'is_sarcastic': 0}, {'article_link': 'https://www.thetimes.co.uk/article/fourth-in-line-makes-danny-cipriani-a-pauper-not-a-prince-sph7q67v8gq', 'headline': '7,000 arrested over protests in Bangladesh', 'is_sarcastic': 0}, {'article_link': 'https://www.thetimes.co.uk/article/ghosts-in-the-machine-kzg3zpgxn8w', 'headline': '£47m man back from wilderness', 'is_sarcastic': 0}, {'article_link': 'https://www.thetimes.co.uk/article/he-liked-it-so-he-put-a-ringtone-on-it-goves-beyonce-cabinet-gaffe-revealed-8thxjq509gf', 'headline': '260 mile round trip? ‘No problem. Training is my addiction’', 'is_sarcastic': 0}, {'article_link': 'https://www.thetimes.co.uk/article/if-bumpkins-hold-up-fracking-blame-the-coalition-hm3dfsxf6jz', 'headline': '260 mile round trip? ‘No problem. Training is my addiction’', 'is_sarcastic': 0}, {'article_link': 'https://www.thetimes.co.uk/article/john-bayley-gmw8qktk9vd', 'headline': '12 ways to get unplugged', 'is_sarcastic': 0}, {'article_link': 'https://www.thetimes.co.uk/article/king-continues-search-for-chasing-glory-ccmd7f5wdbv', 'headline': '1974: As miners prepare to down tools, BP strikes it big', 'is_sarcastic': 0}, {'article_link': 'https://www.thetimes.co.uk/article/lib-dem-peer-lord-oakeshott-switches-cash-to-labour-6lnhr80w98s', 'headline': '30 died in NHS turf war', 'is_sarcastic': 0}, {'article_link': 'https://www.thetimes.co.uk/article/man-takes-step-upwards-on-evolutionary-ladder-8stnw9pfk0l', 'headline': '£15m Ford plea  for Welsh plant', 'is_sarcastic': 0}, {'article_link': 'https://www.thetimes.co.uk/article/new-laboratory-identified-nurse-as-ebola-victim-k6tnzbcwmn7', 'headline': '260 mile round trip? ‘No problem. Training is my addiction’', 'is_sarcastic': 0}, {'article_link': 'https://www.thetimes.co.uk/article/out-of-date-windows-xp-in-shops-puts-your-credit-card-at-risk-2l9rmtvr8xd', 'headline': 'Ángel Rangel retains confidence after latest bump in road for Swansea', 'is_sarcastic': 0}, {'article_link': 'https://www.thetimes.co.uk/article/pets-at-home-pampering-puts-glossy-coat-on-sales-h67nnff886m', 'headline': '£400,000 ‘loan’ helps Mandelson to pay less tax', 'is_sarcastic': 0}, {'article_link': 'https://www.thetimes.co.uk/article/queens-rare-porcelain-reunited-with-its-king-znpmpf8s3bw', 'headline': '20mph zones on the rise . . . and so are accidents', 'is_sarcastic': 0}, {'article_link': 'https://www.thetimes.co.uk/article/royal-mint-set-for-gold-rush-with-bullion-brand-zz99qfc2j85', 'headline': '£10m drug gives kidney patients extra 25 years', 'is_sarcastic': 0}, {'article_link': 'https://www.thetimes.co.uk/article/sociopathic-robots-must-be-taught-to-serve-dhj8xs5x32q', 'headline': '20mph statistics', 'is_sarcastic': 0}, {'article_link': 'https://www.thetimes.co.uk/article/tempus-playing-the-long-game-with-earnings-rs5s8kkjb2m', 'headline': '\\u200bLate Kim Jong Il demanded $10bn for summit, says former South Korean leader', 'is_sarcastic': 0}, {'article_link': 'https://www.thetimes.co.uk/article/uk-cycling-b87l7wc7vl8', 'headline': '15 reasons to love the richest 0.1 per cent', 'is_sarcastic': 0}, {'article_link': 'https://www.thetimes.co.uk/article/video-replay-refereeing-mistakes-that-caused-uproar-jm3fzccqjf3', 'headline': '£100m boost for naval base at Portsmouth', 'is_sarcastic': 0}, {'article_link': 'https://www.thetimes.co.uk/article/wages-surge-as-jobless-rate-falls-to-six-year-low-hz0nx5vcjx7', 'headline': '32 rue Vandenbranden at Barbican', 'is_sarcastic': 0}, {'article_link': 'https://www.thetimes.co.uk/article/youre-hanging-around-all-day-but-dont-think-work-is-boring-b8kddfv2bsq', 'headline': '20 best adventure holidays for softies', 'is_sarcastic': 0}, {'article_link': 'https://www.thetimes.co.uk/article/9000-russian-troops-fighting-with-ukraine-separatists-qgfwcngkvsc', 'headline': '20 Tudor walks through castles, ruins and stately homes', 'is_sarcastic': 0}]\n"
          ],
          "name": "stdout"
        }
      ]
    },
    {
      "cell_type": "markdown",
      "metadata": {
        "id": "sztjVIt7ocTy"
      },
      "source": [
        "## **https://www.thedailybeast.com/**"
      ]
    },
    {
      "cell_type": "markdown",
      "metadata": {
        "id": "rq0kZGGMWdlF"
      },
      "source": [
        "# Hàm lấy thông tin của trang web, rồi phân tích và lấy title, link tile"
      ]
    },
    {
      "cell_type": "code",
      "metadata": {
        "id": "LXwzb910clxJ"
      },
      "source": [
        "def taketitle7(url): \n",
        "  ulrs = []\n",
        "  headline = []\n",
        "  re = requests.get(url) # gửi yêu cầu đến web\n",
        "  soup = BeautifulSoup(re.text, \"lxml\") # lấy thông tin của trang web\n",
        "  detail = soup.findAll(\"a\", class_=\"SitemapMonthPage__headline-link\") # lọc thông tin để tìm tiêu đề và link tiêu đề\n",
        "  urls = ['https://www.thedailybeast.com'+ x.get('href') for x in detail] # tìm và ghép link title\n",
        "  for x in detail:\n",
        "    lst = x.findAll(\"h4\", class_='SitemapMonthPage__headline') # lọc thêm thông tin để tìm tiêu đề\n",
        "    for y in lst: # tìm tiêu đề\n",
        "      h = y.text\n",
        "      headline.append(h)\n",
        "  return headline, urls"
      ],
      "execution_count": null,
      "outputs": []
    },
    {
      "cell_type": "markdown",
      "metadata": {
        "id": "aPteC5AnWfFS"
      },
      "source": [
        "# Hàm ghép các yếu tổ để tạo thành link hoàn chỉnh"
      ]
    },
    {
      "cell_type": "code",
      "metadata": {
        "id": "SF8I3bXOcl3o"
      },
      "source": [
        "year = ['2020','2019','2018','2017']\n",
        "month= ['1','2','3','4','5','6','7','8','9','10','11','12']\n",
        "data7 = []\n",
        "for y in year:\n",
        "  for m in month:\n",
        "    url = 'https://www.thedailybeast.com/sitemap/' + y + '/' + m + '/article' # ghép các yếu tổ để tạo link phù hợp\n",
        "    title, urls = taketitle7(url)\n",
        "    for i in range(len(urls)): # định dạng theo form yêu cầu\n",
        "      element= format(urls[i],title[i],0)\n",
        "      data7.append(element)"
      ],
      "execution_count": null,
      "outputs": []
    },
    {
      "cell_type": "markdown",
      "metadata": {
        "id": "roX0GECYXY0B"
      },
      "source": [
        "# Code chạy thử để kiểm tra yêu cầu"
      ]
    },
    {
      "cell_type": "code",
      "metadata": {
        "colab": {
          "base_uri": "https://localhost:8080/"
        },
        "id": "LHvn5_VgdSWh",
        "outputId": "b4d8fe90-c472-4e98-95a7-c5fd3cd5c57c"
      },
      "source": [
        "#test\n",
        "url = 'https://www.thedailybeast.com/sitemap/2020/2/article'\n",
        "headline = []\n",
        "urls = []\n",
        "re = requests.get(url)\n",
        "soup = BeautifulSoup(re.text, \"lxml\")\n",
        "detail = soup.findAll(\"a\", class_=\"SitemapMonthPage__headline-link\")\n",
        "urls = ['https://www.thedailybeast.com'+ x.get('href') for x in detail]\n",
        "for x in detail:\n",
        "  lst = x.findAll(\"h4\", class_='SitemapMonthPage__headline')\n",
        "  for y in lst:\n",
        "    h = y.text\n",
        "    headline.append(h)\n",
        "print(urls)\n",
        "print(headline)"
      ],
      "execution_count": null,
      "outputs": [
        {
          "output_type": "stream",
          "text": [
            "['https://www.thedailybeast.com/person-in-washington-state-is-first-in-us-to-die-from-coronavirus', 'https://www.thedailybeast.com/jackie-speiers-question-to-doj-on-whether-epstein-was-fbi-informant-raises-eyebrows-in-house-intel-committee', 'https://www.thedailybeast.com/whats-the-difference-between-memory-foam-and-down-pillows-find-out-which-pillow-works-for-you', 'https://www.thedailybeast.com/vladislav-surkov-the-puppet-master-of-putins-kremlin-is-out-but-his-sinister-policies-are-still-in', 'https://www.thedailybeast.com/the-next-big-thing-in-scotch-whisky-could-be-homegrown', 'https://www.thedailybeast.com/how-whitmer-thomas-used-comedy-to-survive-after-his-mom-partied-to-death', 'https://www.thedailybeast.com/we-need-to-talk-about-hillary-clintons-disturbing-harvey-weinstein-ties', 'https://www.thedailybeast.com/tony-smith-designed-a-stunning-sculpture-it-ended-up-at-the-scrapyard', 'https://www.thedailybeast.com/calgary-central-library-is-one-of-the-worlds-most-beautiful-libraries', 'https://www.thedailybeast.com/the-afghanistan-taliban-peace-deal-might-have-been-had-many-years-and-thousands-of-lives-ago', 'https://www.thedailybeast.com/how-bernie-went-from-surviving-to-thriving-in-south-carolina', 'https://www.thedailybeast.com/at-cpac-they-hate-socialism-but-love-bernie-sanders', 'https://www.thedailybeast.com/john-sonny-franzese-new-yorks-last-bigtime-mafia-boss-gets-sendoff-from-his-spark-plug', 'https://www.thedailybeast.com/italy-shows-just-how-crazy-coronavirus-panic-can-get', 'https://www.thedailybeast.com/in-bernie-land-dollar42-trillion-in-revenue-pays-for-dollar97-trillion-in-spending', 'https://www.thedailybeast.com/cheating-parents-are-robbing-the-girl-scouts-at-cookie-time', 'https://www.thedailybeast.com/celebrity-endorsements-2020-all-the-a-listers-backing-bernie-sanders-elizabeth-warren-buttigieg-and-more', 'https://www.thedailybeast.com/theres-an-unexpected-feeling-at-a-biden-rally-jubilance', 'https://www.thedailybeast.com/amy-klobuchars-approach-to-gender-draws-virginia-presidential-primary-voters', 'https://www.thedailybeast.com/oregon-school-employee-tests-positive-for-coronavirus', 'https://www.thedailybeast.com/trump-identifies-the-real-coronavirus-victim-his-presidency', 'https://www.thedailybeast.com/trump-appoints-congressman-john-ratcliffe-to-be-director-of-national-intelligence', 'https://www.thedailybeast.com/coronavirus-epidemic-is-chinese-leader-xi-jinpings-epic-fail', 'https://www.thedailybeast.com/custody-battle-with-doomsday-mom-lori-vallows-niece-airs-claims-of-cults-child-stealing-and-attempted-murder', 'https://www.thedailybeast.com/us-navy-coronavirus-quarantine-could-get-ugly', 'https://www.thedailybeast.com/free-bacon-and-dollar13-million-in-ads-have-made-tom-steyer-a-household-name-in-sc', 'https://www.thedailybeast.com/laura-bassett-accuses-msnbc-host-chris-matthews-of-sexually-harassing-her-in-2016', 'https://www.thedailybeast.com/normani-addresses-fellow-fifth-harmony-alum-camilla-cabellos-old-racist-posts-devastating', 'https://www.thedailybeast.com/weinstein-juror-says-nude-photos-of-weinstein-were-a-turn-off-for-jury', 'https://www.thedailybeast.com/meghan-mccain-compares-herself-to-lady-gaga-says-my-husbands-ex-was-not-happy-he-dated-me', 'https://www.thedailybeast.com/visible-out-on-television-the-entire-history-of-gay-tv-as-told-by-the-gays-themselves', 'https://www.thedailybeast.com/rep-john-garamendi-threatens-to-beat-up-donald-trump-jr-for-claiming-democrats-want-coronavirus-pandemic', 'https://www.thedailybeast.com/nadler-demands-barr-hands-over-trump-messages-related-to-stone-sentencing', 'https://www.thedailybeast.com/the-coronavirus-stock-market-rollercoaster-isnt-stopping-anytime-soon', 'https://www.thedailybeast.com/my-five-favorite-meals-with-chef-daniel-boulud', 'https://www.thedailybeast.com/how-a-top-gop-recruit-is-getting-his-dark-money-cash', 'https://www.thedailybeast.com/jaffna-sri-lanka-is-the-countrys-forgotten-gem', 'https://www.thedailybeast.com/our-best-hope-amid-coronavirus-fears-for-trump-to-quarantine-himself', 'https://www.thedailybeast.com/mike-bloomberg-is-trump-loving-cpacs-favorite-democratic-presidential-candidate', 'https://www.thedailybeast.com/tv-superman-and-bootleg-buffy-flop-in-creepy-cpac-show-intended-to-humiliate-trump-foes', 'https://www.thedailybeast.com/porn-stars-are-all-in-on-president-bernie-sanders', 'https://www.thedailybeast.com/trump-didnt-just-botch-the-coronavirus-response-he-enabled-its-spread', 'https://www.thedailybeast.com/love-is-blind-jessica-batten-on-dumping-mark-her-connection-with-barnett', 'https://www.thedailybeast.com/please-dont-make-us-vote-for-bernie-sanders-these-carolina-voters-say', 'https://www.thedailybeast.com/trump-campaigns-new-york-times-lawsuit-might-be-a-nightmarefor-trump', 'https://www.thedailybeast.com/prince-harry-and-meghan-markle-say-farewell-to-royal-duties-quietly', 'https://www.thedailybeast.com/at-cpac-the-only-villain-bigger-than-socialism-is-mitt-romney', 'https://www.thedailybeast.com/halsey-says-she-was-passed-over-for-grammy-glory-after-slamming-president-neil-portnows-sexism-remarks', 'https://www.thedailybeast.com/daily-show-grills-black-voters-on-south-carolina-field', 'https://www.thedailybeast.com/tucker-carlson-turns-to-aoc-creepshot-guy-eddie-scarry-for-coronavirus-expertise', 'https://www.thedailybeast.com/james-okeefe-takes-victory-lap-on-abc-news-sting-but-his-favorite-media-sage-isnt-celebrating-good-grief', 'https://www.thedailybeast.com/fit-students-reveal-why-schools-racist-runway-controversy-just-opened-up-a-bigger-wound', 'https://www.thedailybeast.com/authorities-identify-gunman-5-victims-in-molson-coors-shooting', 'https://www.thedailybeast.com/amid-coronavirus-mayhem-trump-takes-time-to-meet-with-actors-in-deep-state-play', 'https://www.thedailybeast.com/dolores-morgan-enlisted-son-ted-connors-to-murder-husband-daughter-for-insurance-money-prosecutors-say', 'https://www.thedailybeast.com/doomsday-mom-lori-vallow-told-her-husbands-kids-their-dad-was-dead-via-text-message', 'https://www.thedailybeast.com/parachutes-new-linen-towels-will-turn-your-bathroom-into-a-spa', 'https://www.thedailybeast.com/coronavirus-testing-in-the-us-is-somehow-looking-worse-by-the-day', 'https://www.thedailybeast.com/even-meghan-mccain-thinks-mike-pence-will-screw-up-coronavirus-response', 'https://www.thedailybeast.com/lori-loughlins-lawyer-fbi-told-college-admissions-scam-artist-to-lie', 'https://www.thedailybeast.com/taylor-swift-takes-aim-at-scooter-braun-leonardo-dicaprio-and-kanye-in-the-man-music-video', 'https://www.thedailybeast.com/this-portable-keyboard-folds-down-smaller-than-a-paperback-and-will-help-you-enjoy-typing-on-your-phone', 'https://www.thedailybeast.com/meghan-markle-believes-she-and-prince-harry-are-being-picked-on', 'https://www.thedailybeast.com/iran-cant-hide-its-coronavirus-explosion-but-its-trying-hard-and-putting-the-world-in-danger', 'https://www.thedailybeast.com/bernie-sanders-could-be-the-first-jewish-nomineeand-get-fewer-jewish-votes-than-hillary-clinton', 'https://www.thedailybeast.com/10-rounds-with-christopher-longoria-bar-director-at-che-fico-in-san-francisco', 'https://www.thedailybeast.com/love-is-blind-star-giannina-milady-gibelli-on-that-disaster-runaway-bride-wedding', 'https://www.thedailybeast.com/coronavirus-could-explode-in-the-us-overnight-like-it-did-in-italy', 'https://www.thedailybeast.com/anthony-mackie-on-altered-carbon-captain-americas-future-and-why-he-doesnt-take-his-kids-to-the-movies', 'https://www.thedailybeast.com/coronavirus-drug-trials-overseen-by-dr-andre-kalil-start-testing-on-diamond-princess-evacuee', 'https://www.thedailybeast.com/we-found-campaign-2020s-worst-merch-from-the-trump-babygro-to-the-cup-o-joe-biden-mug', 'https://www.thedailybeast.com/stuck-in-wuhan-chinas-coronavirus-capital-russian-models-instagram-their-stories', 'https://www.thedailybeast.com/the-miir-camp-cup-keeps-coffee-hot-or-cold-no-matter-where-you-are', 'https://www.thedailybeast.com/michael-bloombergs-stop-and-frisk-word-vomit-is-actually-sad', 'https://www.thedailybeast.com/daily-show-host-trevor-noah-is-terrified-by-trumps-coronavirus-response', 'https://www.thedailybeast.com/can-south-carolina-legend-jim-clyburns-endorsement-rescue-joe-bidens-2020-presidential-campaign', 'https://www.thedailybeast.com/doomsday-mom-lori-vallow-drops-fight-to-stay-in-hawaii-will-return-to-idaho-to-face-charges', 'https://www.thedailybeast.com/coronavirus-is-spreading-so-are-bogus-fears-of-shen-yun-dancers', 'https://www.thedailybeast.com/finnegan-elder-and-gabriel-natale-accused-of-taking-an-italian-cops-life-fight-for-their-lives', 'https://www.thedailybeast.com/milwaukee-police-respond-to-critical-incident-near-millercoors-headquarters', 'https://www.thedailybeast.com/bernie-sanders-looks-to-spoil-home-state-advantages', 'https://www.thedailybeast.com/lori-isenburg-charged-with-murdering-husband-larry-isenberg-who-was-found-dead-in-lake-cops-say', 'https://www.thedailybeast.com/msnbc-benches-contributor-jason-johnson-who-said-bernie-sanders-staffers-are-island-of-misfit-black-girls', 'https://www.thedailybeast.com/donald-trump-wants-you-to-know-he-has-the-coronavirus-totally-under-control', 'https://www.thedailybeast.com/meet-harikrishnan-the-designer-behind-the-internets-favorite-ballbottom-pants', 'https://www.thedailybeast.com/alleged-ex-atomwaffen-division-leader-john-cameron-denton-arrested-charged-with-swatting', 'https://www.thedailybeast.com/glenn-beck-steve-king-go-conspiracy-crazy-over-dhs-officials-death', 'https://www.thedailybeast.com/the-view-warns-warren-about-going-after-bloomberg-tells-her-she-must-be-very-careful', 'https://www.thedailybeast.com/barstool-goons-follow-founder-dave-portnoys-order-to-attack-nascar-reporter', 'https://www.thedailybeast.com/howard-stern-calls-out-staffers-racist-remark-about-bts-coronavirus', 'https://www.thedailybeast.com/fixing-the-craft-cocktail-menu', 'https://www.thedailybeast.com/clearview-ai-facial-recognition-company-that-works-with-law-enforcement-says-entire-client-list-was-stolen', 'https://www.thedailybeast.com/prince-harry-no-more-as-mr-windsor-declares-call-me-harry', 'https://www.thedailybeast.com/the-working-class-people-of-russia-give-putin-the-finger-in-new-documentary', 'https://www.thedailybeast.com/the-8-year-old-boy-brutally-tortured-and-killed-by-his-own-mother-because-she-thought-he-was-gay', 'https://www.thedailybeast.com/inside-the-living-hell-of-london-in-the-plague-year', 'https://www.thedailybeast.com/coronavirus-panic-has-bat-people-pleading-for-mercy', 'https://www.thedailybeast.com/jason-blum-on-the-invisible-mans-metoo-message-and-elisabeth-moss-scientology-ties', 'https://www.thedailybeast.com/harvey-weinstein-is-in-for-a-rude-awakening-on-rikers-island', 'https://www.thedailybeast.com/harry-and-meghan-megxit-will-help-future-royal-spares-says-queens-biographer-robert-lacey', 'https://www.thedailybeast.com/stephen-colbert-booed-for-brutal-takedown-of-bloombergs-debate-performance', 'https://www.thedailybeast.com/chris-matthews-ask-elizabeth-warren-why-she-believes-a-woman-over-bloomberg', 'https://www.thedailybeast.com/elizabeth-warren-inspired-a-debate-that-fucking-sucked', 'https://www.thedailybeast.com/desperate-dems-wanted-a-debate-they-got-a-trainwreck-instead', 'https://www.thedailybeast.com/joe-bidens-last-stand-ended-up-awfully-shaky', 'https://www.thedailybeast.com/seth-meyers-mocks-mike-bloombergs-terrible-twitter-jokes-about-bernie-sanders', 'https://www.thedailybeast.com/elizabeth-warren-decides-to-murder-michael-bloomberg-6-days-after-killing-him', 'https://www.thedailybeast.com/lucas-hnath-turns-his-mothers-brutal-kidnapping-into-the-stunning-play-dana-h', 'https://www.thedailybeast.com/the-entire-democratic-debate-field-piles-on-bernie-sanders', 'https://www.thedailybeast.com/ambra-gutierrez-says-da-cy-vance-should-absolutely-resign-for-dropping-her-harvey-weinstein-case', 'https://www.thedailybeast.com/the-one-corporate-tax-shelter-bernie-sanders-supported-is-vermonts', 'https://www.thedailybeast.com/singer-duffy-says-she-was-raped-drugged-held-captive', 'https://www.thedailybeast.com/dior-is-selling-feminism-on-the-paris-runway-are-we-buying-it', 'https://www.thedailybeast.com/pete-davidson-says-he-was-forced-to-apologize-to-dan-crenshaw-in-new-netflix-special', 'https://www.thedailybeast.com/in-2006-bloomberg-said-john-bolton-did-a-great-job-at-united-nations', 'https://www.thedailybeast.com/trump-hints-coronavirus-vaccine-is-very-close-heres-the-scarier-reality', 'https://www.thedailybeast.com/the-bachelor-verse-alum-chad-johnson-arrested-for-domestic-violence', 'https://www.thedailybeast.com/donald-trump-celebrates-harvey-weinstein-verdict-by-slamming-democrats', 'https://www.thedailybeast.com/whoopi-goldberg-goes-off-on-bernies-castro-remarks-says-theres-nothing-groovy-about-a-dictatorship', 'https://www.thedailybeast.com/sasha-krause-missing-mennonite-woman-was-kidnapped-and-murdered-police-say', 'https://www.thedailybeast.com/pedophile-politicians-were-shielded-from-justice-by-the-establishment-says-british-child-abuse-inquiry', 'https://www.thedailybeast.com/progressive-groups-launch-medicare-for-all-ad-blitz', 'https://www.thedailybeast.com/the-tyranny-and-tragedy-of-hosni-mubarak', 'https://www.thedailybeast.com/gwyneth-paltrows-vagina-candle-is-back-in-stock-she-tells-jimmy-kimmel', 'https://www.thedailybeast.com/its-time-for-elizabeth-warren-to-burn-the-bernie-bridge', 'https://www.thedailybeast.com/pamela-adlon-on-better-things-king-of-the-hill-and-why-shes-still-proud-of-her-work-with-louis-ck', 'https://www.thedailybeast.com/chinas-paranoid-party-line-america-is-the-enemy-and-needs-to-butt-out', 'https://www.thedailybeast.com/pentagon-prepping-nuclear-moon-rocket-to-beat-china-into-cislunar-space', 'https://www.thedailybeast.com/michael-bloombergs-campaign-is-enraging-the-homeless-community', 'https://www.thedailybeast.com/elizabeth-warren-built-an-unrivaled-ground-game-heres-why-it-failed', 'https://www.thedailybeast.com/trumps-post-impeachment-staff-purge-has-folks-in-ukraine-nervous', 'https://www.thedailybeast.com/mayor-pete-says-hell-fight-environmental-racism-but-he-fell-short-at-home', 'https://www.thedailybeast.com/the-2020-race-has-become-the-cable-news-primary', 'https://www.thedailybeast.com/burden-is-a-truly-appalling-white-supremacist-redemption-movie', 'https://www.thedailybeast.com/kobe-and-gianna-bryant-memorial-attendee-says-i-came-down-here-just-to-feel-the-energy', 'https://www.thedailybeast.com/the-bachelor-chaos-did-peter-webers-disastrous-sex-confession-ruin-everything', 'https://www.thedailybeast.com/daily-show-host-trevor-noah-brutally-mocks-trump-for-butchering-india-speech', 'https://www.thedailybeast.com/seth-meyers-unloads-on-chris-matthews-for-deranged-bernie-sanders-attacks', 'https://www.thedailybeast.com/cambodian-rock-band-makes-music-from-khmer-rouge-horrors-and-hero-worship-in-all-the-natalie-portmans', 'https://www.thedailybeast.com/did-new-spy-chief-richard-grenell-advise-george-clooney', 'https://www.thedailybeast.com/bernie-sanders-staffer-mocked-elizabeth-warrens-looks-pete-buttigiegs-sexuality-on-private-twitter-account', 'https://www.thedailybeast.com/msnbcs-chris-matthews-apologizes-to-bernie-sanders-for-nazi-analogy-saying-senator-sanders-im-sorry', 'https://www.thedailybeast.com/guns-akimbo-director-tries-to-combat-online-bullying-by-bullying', 'https://www.thedailybeast.com/dont-tell-me-to-be-happy-about-the-harvey-weinstein-verdict', 'https://www.thedailybeast.com/rosie-perez-ashley-judd-applaud-harvey-weinsteins-guilty-verdict', 'https://www.thedailybeast.com/this-policy-change-could-be-the-solution-to-our-physician-shortage', 'https://www.thedailybeast.com/us-coronavirus-cases-jump-again-as-more-diamond-princess-passengers-test-positive', 'https://www.thedailybeast.com/the-supreme-court-fulton-case-is-about-anti-lgbtq-discriminationnot-religious-freedom', 'https://www.thedailybeast.com/donald-melania-ivanka-and-jared-visited-the-taj-mahal-their-poses-spoke-volumes', 'https://www.thedailybeast.com/jussie-smollett-pleads-not-guilty-again-released-to-await-trial', 'https://www.thedailybeast.com/meghan-mccain-says-its-really-hard-to-decide-if-bernie-or-trump-is-more-in-the-tank-for-russia', 'https://www.thedailybeast.com/weinstein-jury-movie-mogul-guilty-of-rape-criminal-sex-act', 'https://www.thedailybeast.com/italy-south-korea-iran-coronavirus-outbreaks-cause-global-panic', 'https://www.thedailybeast.com/prince-harry-and-meghan-markle-urged-be-more-gracious', 'https://www.thedailybeast.com/a-day-in-the-life-of-star-dc-chef-kwame-onwuachi-from-restaurant-kith-and-kin', 'https://www.thedailybeast.com/can-the-center-lane-democrats-get-their-sht-together-and-unite-unlikely', 'https://www.thedailybeast.com/a-small-town-louisiana-cops-fight-to-stop-angry-men-with-guns-from-killing-women', 'https://www.thedailybeast.com/the-republican-partys-biggest-state-investment-so-far-in-2020-will-surprise-you', 'https://www.thedailybeast.com/if-bernies-the-nominee-theres-a-new-red-scare-coming', 'https://www.thedailybeast.com/vladimir-putin-sent-her-activist-boyfriend-to-siberia-now-she-wants-to-go-too', 'https://www.thedailybeast.com/can-aoc-inspire-female-2020-candidates-to-dress-how-they-damn-well-want', 'https://www.thedailybeast.com/japans-coronavirus-cruise-ship-debacle-shows-epidemic-can-be-a-gift-for-would-be-dictators', 'https://www.thedailybeast.com/kobe-and-vanessa-bryant-had-a-complicated-love-story', 'https://www.thedailybeast.com/trust-and-will-easy-living-trust', 'https://www.thedailybeast.com/john-oliver-urges-the-country-to-not-vote-for-mike-bloomberg', 'https://www.thedailybeast.com/the-walking-dead-premieres-bizarre-sex-scene-might-foreshadow-a-death', 'https://www.thedailybeast.com/undine-is-a-mermaid-love-story-unlike-any-youve-seen', 'https://www.thedailybeast.com/bloomberg-killed-the-best-chance-at-justice-for-the-911-attacks', 'https://www.thedailybeast.com/anand-giridharadas-msnbc-analyst-calls-out-chris-matthews-for-comparing-bernie-win-to-nazi-invasion', 'https://www.thedailybeast.com/chris-wallace-relentlessly-grills-marc-short-on-russia-briefing-asks-you-say-none-of-this-happened', 'https://www.thedailybeast.com/prince-harry-and-meghan-go-to-war-with-the-royalsand-sabotage-themselves', 'https://www.thedailybeast.com/why-a-pair-of-legendary-directors-took-on-islamic-terrorism', 'https://www.thedailybeast.com/coronavirus-explodes-in-italy-threatening-europe-can-it-be-contained', 'https://www.thedailybeast.com/los-angeles-first-olympics-changed-it-forever', 'https://www.thedailybeast.com/inside-the-lachish-temple-the-earliest-example-of-the-letter-samekh', 'https://www.thedailybeast.com/one-of-jane-austens-most-famous-women-is-actually-a-total-dick', 'https://www.thedailybeast.com/school-vouchers-are-just-code-for-segregation-forever', 'https://www.thedailybeast.com/omg-i-want-this-house-palm-desert-ca', 'https://www.thedailybeast.com/nevertrumpers-never-had-a-chance-but-consultants-still-cashed-in', 'https://www.thedailybeast.com/samuel-heber-butler-beat-sex-allegations-in-utah-for-years-a-6-year-old-may-change-that', 'https://www.thedailybeast.com/i-love-these-women-only-sex-orgies-but-where-are-the-lesbians', 'https://www.thedailybeast.com/netflixs-gentefied-is-a-brilliant-answer-to-latino-trauma-porn', 'https://www.thedailybeast.com/this-is-what-three-years-of-trump-ravaging-the-earth-looks-like', 'https://www.thedailybeast.com/flat-earther-mad-mike-hughes-killed-in-barstow-rocket-crash-reports-say', 'https://www.thedailybeast.com/team-trump-is-gutting-our-national-security-like-a-fish', 'https://www.thedailybeast.com/this-is-the-only-move-that-will-stop-bernie-sanders-now', 'https://www.thedailybeast.com/bernie-sanders-runs-away-with-nevada-caucuses-cements-status-as-democratic-frontrunner', 'https://www.thedailybeast.com/trumps-national-security-adviser-robert-obrien-conveniently-forgets-his-boss-ties-to-russia', 'https://www.thedailybeast.com/chris-matthews-likens-bernies-strong-nevada-showing-to-france-falling-to-nazi-germany-in-wwii', 'https://www.thedailybeast.com/the-7-year-old-trans-girl-thats-captivated-the-berlin-film-festival', 'https://www.thedailybeast.com/20-year-old-woman-boyfriend-arrested-in-las-vegas-after-calif-rental-dispute-triple-homicide', 'https://www.thedailybeast.com/myriam-gurba-author-who-sparked-american-dirt-controversy-placed-on-leave-amid-calif-teacher-abuse-probe', 'https://www.thedailybeast.com/in-south-korea-coronavirus-meets-the-second-coming', 'https://www.thedailybeast.com/the-best-mens-compression-socks-for-workouts-travel-and-everything-in-between', 'https://www.thedailybeast.com/critics-trashed-dee-rees-ambitious-new-netflix-movie-but-its-much-better-than-youve-heard', 'https://www.thedailybeast.com/after-coronavirus-locusts-could-be-the-next-plague-that-hits-china', 'https://www.thedailybeast.com/bernie-2016-wanted-dnc-to-change-the-rules-bernie-2020-just-wants-to-win', 'https://www.thedailybeast.com/did-rome-archeologists-uncover-proof-of-romulus', 'https://www.thedailybeast.com/la-burlesque-beyond-bumping-and-grinding-in-the-city-of-angels', 'https://www.thedailybeast.com/democrats-are-the-real-party-of-life', 'https://www.thedailybeast.com/will-medicare-for-all-doom-bernie-sanders-and-elizabeth-warren-in-nevada', 'https://www.thedailybeast.com/bloombergs-money-wont-right-the-wrong-of-guantanamo-on-hudson', 'https://www.thedailybeast.com/netflixs-unabomber-in-his-own-words-reveals-ted-kaczynskis-plan-to-team-up-with-muslim-terrorists', 'https://www.thedailybeast.com/why-ivanka-trump-and-georgina-bloomberg-will-stay-bffs', 'https://www.thedailybeast.com/the-mysterious-death-of-pop-smoke-a-rapper-on-the-rise', 'https://www.thedailybeast.com/black-milk-is-a-feminist-saga-about-a-woman-who-repels-bad-men-with-black-breast-milk', 'https://www.thedailybeast.com/donald-trump-hater-of-parasite-has-the-absolute-worst-taste-in-movies', 'https://www.thedailybeast.com/team-bernie-fingers-richard-grenell-for-leaking-russia-story', 'https://www.thedailybeast.com/msnbc-star-dr-jason-johnsons-misogynistic-smear-of-bernie-sanders-staffers-island-of-misfit-black-girls', 'https://www.thedailybeast.com/jeremy-christian-white-nationalist-convicted-of-2017-portland-max-train-stabbing', 'https://www.thedailybeast.com/the-best-new-launches-from-puma-everlane-bombas-and-more', 'https://www.thedailybeast.com/coronavirus-now-a-tremendous-public-health-threat-cdc', 'https://www.thedailybeast.com/weinstein-jury-appears-deadlocked-on-most-serious-charge-against-disgraced-mogul', 'https://www.thedailybeast.com/fox-news-anchor-chris-wallace-says-trump-has-good-reason-to-be-paranoid-about-pelosi-and-schiff', 'https://www.thedailybeast.com/broadways-west-side-story-mess-continues-as-dozens-protest-opening-night', 'https://www.thedailybeast.com/the-daily-beasts-pop-culture-obsessions-of-the-week', 'https://www.thedailybeast.com/how-amy-klobuchars-signature-bill-became-a-disaster-for-her-own-party', 'https://www.thedailybeast.com/conde-nast-agrees-to-end-the-use-of-ndas-across-the-entire-company', 'https://www.thedailybeast.com/this-drying-rack-changed-my-entire-kitchen-routine', 'https://www.thedailybeast.com/biden-campaign-repeating-iowa-mistakes-in-nevada', 'https://www.thedailybeast.com/10-rounds-with-onofrio-raimondi-the-head-bartender-at-fiola-in-washington-dc', 'https://www.thedailybeast.com/inside-netflixs-reality-tv-invasion-the-circle-love-is-blind-queer-eye-and-beyond', 'https://www.thedailybeast.com/elizabeth-warren-wanted-to-be-the-unity-candidate-now-shes-playing-for-keeps', 'https://www.thedailybeast.com/yes-nevada-matters-but-a-lot-more-in-november-than-in-february', 'https://www.thedailybeast.com/coronavirus-is-a-ticking-time-bomb-for-americas-uninsured', 'https://www.thedailybeast.com/why-amazons-nazi-killing-show-hunters-is-so-much-more-satisfying-than-jojo-rabbit', 'https://www.thedailybeast.com/ilhan-omars-challenger-danielle-stella-is-literally-on-the-run-from-the-law', 'https://www.thedailybeast.com/sussex-royal-is-dead-long-live-harry-and-meghan', 'https://www.thedailybeast.com/donald-trumps-fury-at-intel-briefing-shows-vladimir-putins-bet-keeps-paying-off', 'https://www.thedailybeast.com/pete-buttigieg-fires-back-at-rush-limbaughs-homophobic-attacks-on-ellen', 'https://www.thedailybeast.com/doomsday-mom-lori-vallow-arrested-in-hawaii-for-failing-to-produce-missing-kids', 'https://www.thedailybeast.com/trump-attacks-fox-news-neil-cavuto-at-rally-fox-personalities-immediately-jump-to-cavutos-defense', 'https://www.thedailybeast.com/roger-stone-judge-amy-berman-jackson-lookout-america-abj-is-the-new-rbg', 'https://www.thedailybeast.com/nyt-publishes-taliban-terrorist-op-ed-all-hell-breaks-loose', 'https://www.thedailybeast.com/ivo-van-hoves-west-side-story-broadway-revival-aims-to-shock-but-ends-up-lost-in-time', 'https://www.thedailybeast.com/experts-call-bs-on-bernies-russian-bot-theory', 'https://www.thedailybeast.com/russia-is-helping-elect-trump-again-intel-official-says', 'https://www.thedailybeast.com/why-i-chose-the-arlo-pro-3-security-system-for-my-home', 'https://www.thedailybeast.com/hbo-mcmillions-timeline', 'https://www.thedailybeast.com/bloomberg-claims-he-pays-women-equally-company-data-says-otherwise', 'https://www.thedailybeast.com/why-not-team-trumps-plans-to-attack-bloomberg-for-racist-sexist-things-trump-has-also-done', 'https://www.thedailybeast.com/iowa-professor-gowun-park-bound-and-gagged-husband-before-his-death-authorities-say', 'https://www.thedailybeast.com/sonam-saxena-seattle-google-manager-arrested-after-wife-smriti-saxenas-body-found-on-hawaii-beach', 'https://www.thedailybeast.com/fox-news-anchor-harris-faulkner-says-trump-shouldnt-pay-any-political-price-for-pardoning-roger-stone', 'https://www.thedailybeast.com/white-guys-get-pardons-black-folks-get-a-super-bowl-commercial', 'https://www.thedailybeast.com/ruth-bader-ginsburg-hails-groundswell-of-ordinary-people-fighting-for-womens-equality-at-dvf-awards', 'https://www.thedailybeast.com/matt-gaetz-embarrasses-himself-on-the-view', 'https://www.thedailybeast.com/financially-plagued-gop-group-turns-to-trump-to-save-it', 'https://www.thedailybeast.com/racist-german-shooter-tobias-rathjen-in-hanau-exposes-the-global-network-of-hate', 'https://www.thedailybeast.com/trump-ally-roger-stone-gets-40-months-for-lying-witness-tampering', 'https://www.thedailybeast.com/elizabeth-warren-brings-her-bloomberg-knockout-punch-to-the-view', 'https://www.thedailybeast.com/katie-hill-speaks-out-rampant-biphobia-forced-me-out-of-congress', 'https://www.thedailybeast.com/ozzy-osbourne-im-in-unbelievable-pain-247-but-ill-be-back', 'https://www.thedailybeast.com/colombias-drug-funded-eln-rebels-and-farc-dissidents-are-back-in-action-big-time', 'https://www.thedailybeast.com/life-in-the-canada-real-europes-largest-shanty-town-as-photographed-by-its-children', 'https://www.thedailybeast.com/trump-confesses-to-just-how-bigly-the-olympics-screws-over-the-poor', 'https://www.thedailybeast.com/follow-jane-fonda-and-sharon-osbournes-hair-example-go-white-not-gray', 'https://www.thedailybeast.com/the-wuhan-coronavirus-is-spreading-from-china-to-the-us-heres-what-you-need-to-know', 'https://www.thedailybeast.com/the-battle-over-jane-austens-whiteness', 'https://www.thedailybeast.com/dwyane-wades-acceptance-of-his-trans-daughter-zaya-triggers-ugly-hip-hop-hate-from-boosie-young-thug', 'https://www.thedailybeast.com/the-vegas-debate-showed-that-democrats-are-missing-the-ingredient-that-will-defeat-trump', 'https://www.thedailybeast.com/you-counted-elizabeth-warren-out-big-mistake', 'https://www.thedailybeast.com/cnns-van-jones-says-titanic-bloomberg-was-hit-by-iceberg-elizabeth-warren-at-debate', 'https://www.thedailybeast.com/bloomberg-spent-hundreds-of-millions-to-get-his-ass-kicked', 'https://www.thedailybeast.com/mayor-pete-buttegieg-and-senator-amy-klobuchar-have-pure-hatred-for-each-other', 'https://www.thedailybeast.com/elizabeth-warren-torches-michael-bloomberg-on-metoo-and-secret-settlements', 'https://www.thedailybeast.com/trumps-choice-for-intel-chief-richard-grenell-leaves-officials-blindsided', 'https://www.thedailybeast.com/bernie-some-of-my-angriest-online-bros-may-be-russian-bots', 'https://www.thedailybeast.com/bloomberg-gets-savaged-seconds-into-nevada-debate', 'https://www.thedailybeast.com/oracles-larry-ellison-criticized-by-employee-for-trump-fundraising', 'https://www.thedailybeast.com/why-abc-news-icon-sam-donaldson-is-backing-bloomberg-to-beat-sick-trump', 'https://www.thedailybeast.com/bill-barr-is-not-quittinghes-doing-some-weapons-grade-gaslighting-of-america', 'https://www.thedailybeast.com/the-best-indoor-and-outdoor-thermometers-for-every-situation', 'https://www.thedailybeast.com/demarcus-little-named-person-of-interest-in-death-of-anitra-gunn-authorities-say', 'https://www.thedailybeast.com/how-to-watch-stream-the-2020-nevada-democratic-presidential-debate', 'https://www.thedailybeast.com/the-view-host-meghan-mccain-confronts-alexandria-ocasio-cortez-how-do-you-defend-bernie-bros', 'https://www.thedailybeast.com/university-of-michigan-hit-by-second-metoo-scandal-in-a-month', 'https://www.thedailybeast.com/trump-offered-assange-pardon-if-he-covered-up-russian-hack-court-hears', 'https://www.thedailybeast.com/e-jean-carroll-claims-elle-magazine-fired-her-after-trump-smear-campaign', 'https://www.thedailybeast.com/ben-affleck-gets-candid-about-his-alcoholism-and-the-biggest-regret-of-his-life', 'https://www.thedailybeast.com/at-debate-bloomberg-must-answer-for-muslim-surveillance-program', 'https://www.thedailybeast.com/bernie-sanders-campaign-says-asking-for-his-health-records-is-a-smear-like-birtherism', 'https://www.thedailybeast.com/prince-harry-and-meghan-markle-banned-from-trading-off-sussex-royal-name', 'https://www.thedailybeast.com/what-to-drink-at-brooklyns-new-bar-goto-niban-from-bartender-kenta-goto', 'https://www.thedailybeast.com/savage-bloomberg-or-criticize-bernie-dems-like-the-easy-option-in-next-debate', 'https://www.thedailybeast.com/how-i-got-lost-in-british-columbia', 'https://www.thedailybeast.com/gray-ellis-could-make-transgender-political-history-in-north-carolina-its-very-personal', 'https://www.thedailybeast.com/roger-stone-allies-optimistic-thoughtful-and-judicious-trump-will-save-convicted-pal-after-clemency-blitz', 'https://www.thedailybeast.com/the-democrats-surest-path-to-victory-is-clear-defend-the-aca-from-trumps-attacks', 'https://www.thedailybeast.com/barney-frank-democratic-primary-voters-are-the-problem', 'https://www.thedailybeast.com/could-love-island-host-caroline-flacks-death-by-suicide-urge-a-reality-tv-reckoning', 'https://www.thedailybeast.com/bernie-kerik-was-as-corrupt-as-they-come-just-like-trump', 'https://www.thedailybeast.com/why-rosario-dawson-and-jameela-jamils-coming-out-moments-ring-hollow', 'https://www.thedailybeast.com/ex-boyfriend-threatened-amie-harwick-years-before-her-murder', 'https://www.thedailybeast.com/russian-intelligence-recruited-mexican-man-to-spy-on-fbi-informant-in-miami-feds-say', 'https://www.thedailybeast.com/cardi-bs-pal-star-brim-charged-in-sweeping-bloods-gang-bust', 'https://www.thedailybeast.com/trump-pardons-crooks-to-feel-like-a-king', 'https://www.thedailybeast.com/hayden-panettieres-boyfriend-arrested-after-allegedly-punching-her', 'https://www.thedailybeast.com/coty-scott-taylor-who-killed-himself-in-home-abducted-asphyxiated-faye-swetlik-authorities-say', 'https://www.thedailybeast.com/the-gop-doesnt-need-trumpits-already-rigged-the-system', 'https://www.thedailybeast.com/trump-grants-clemency-to-another-round-of-people-he-saw-on-fox-news', 'https://www.thedailybeast.com/us-coronavirus-cases-nearly-double-with-no-end-in-sight', 'https://www.thedailybeast.com/trump-commute-sentences-of-former-illinois-gov-rod-blagojevich-and-former-nypd-boss-bernie-kerik', 'https://www.thedailybeast.com/rush-limbaugh-claims-trump-told-me-to-never-apologize-over-his-homophobic-buttigieg-remarks', 'https://www.thedailybeast.com/can-hasan-minhaj-and-kenan-thompson-actually-save-the-white-house-correspondents-dinner', 'https://www.thedailybeast.com/meghan-mccain-and-joy-behar-blow-up-over-bloomberg-and-trump-none-of-your-business', 'https://www.thedailybeast.com/ivanka-finally-found-her-perfect-quid-pro-quo-pals', 'https://www.thedailybeast.com/kenan-thompson-hasan-minhaj-will-bring-white-house-correspondents-dinner-back-to-comedy', 'https://www.thedailybeast.com/david-linley-splits-from-wife-serena-as-another-divorce-rocks-the-royals', 'https://www.thedailybeast.com/inside-the-high-stakes-missions-of-nasas-oldest-deep-space-probes', 'https://www.thedailybeast.com/can-german-activists-stop-the-neo-nazi-resurgence', 'https://www.thedailybeast.com/its-suddenly-obvious-amy-klobuchar-is-the-democrats-best-bet', 'https://www.thedailybeast.com/why-does-whiskey-taste-like-whiskey-an-excerpt-from-lew-brysons-new-book-whiskey-master-class', 'https://www.thedailybeast.com/true-grit-author-charles-portis-a-comic-genius-is-dead', 'https://www.thedailybeast.com/ben-schwartz-talks-billy-crystal-star-wars-and-how-he-almost-missed-out-on-parks-and-recreation', 'https://www.thedailybeast.com/fox-news-keeps-rudy-giuliani-on-air-despite-internal-disinformation-docs', 'https://www.thedailybeast.com/chronic-illness-influencers-say-being-sick-made-them-famousand-a-target-of-trolls', 'https://www.thedailybeast.com/actor-ethan-suplee-knows-body-transformations-like-his-are-not-for-everyone', 'https://www.thedailybeast.com/right-wing-activists-discussed-wiretapping-seth-richs-family-three-people-in-the-room-say', 'https://www.thedailybeast.com/dracula-and-frankenstein-team-up-in-nycwith-mixed-results-and-happy-birthday-doug-tells-gay-truths', 'https://www.thedailybeast.com/i-loathe-mike-bloomberg-but-hes-doing-one-thing-right', 'https://www.thedailybeast.com/amie-harwick-slain-hollywood-sex-therapist-asked-court-to-protect-her-from-ex-boyfriend', 'https://www.thedailybeast.com/coronavirus-snafus-on-diamond-princess-and-ms-westerdam-stoke-fears-of-global-pandemic', 'https://www.thedailybeast.com/trump-gives-up-on-endless-warsand-russia-china-and-iran-move-in', 'https://www.thedailybeast.com/andrew-sabisky-wrote-that-black-americans-are-dumber-than-white-americans', 'https://www.thedailybeast.com/elton-john-tearfully-walks-off-stage-suffering-pneumonia-can-he-really-tour-for-another-three-years', 'https://www.thedailybeast.com/ubers-autonomous-cars-are-backand-i-took-one-for-a-test-drive', 'https://www.thedailybeast.com/did-the-cias-dr-frank-olson-jump-to-his-death-or-was-he-pushed', 'https://www.thedailybeast.com/heres-why-divorces-follow-after-women-advance-in-the-world', 'https://www.thedailybeast.com/how-to-drink-vodka-like-a-russian-an-excerpt-from-the-new-book-beyond-the-north-wind-by-darra-goldstein', 'https://www.thedailybeast.com/forget-fake-news-why-were-wrong-about-nearly-everything', 'https://www.thedailybeast.com/lise-meitner-helped-discover-nuclear-fissionand-was-then-forgotten', 'https://www.thedailybeast.com/ronald-reagans-daughter-patti-davis-presidents-didnt-used-to-be-dictators', 'https://www.thedailybeast.com/the-socialist-candidate-backed-by-hollywoods-elite', 'https://www.thedailybeast.com/the-cult-of-onision-a-body-positivity-youtuber-accused-of-preying-on-young-girls', 'https://www.thedailybeast.com/trumps-top-trade-adviser-peter-navarro-has-a-side-project-secretly-hunting-for-anonymous', 'https://www.thedailybeast.com/john-oliver-absolutely-goes-off-on-susan-collins-fox-news-over-trump-impeachment-acquittal', 'https://www.thedailybeast.com/hollywood-therapist-amie-harwick-plunges-to-death-ex-boyfriend-arrested', 'https://www.thedailybeast.com/democrats-come-up-with-an-election-system-that-could-hand-victory-to-trump', 'https://www.thedailybeast.com/ms-westerdam-passengers-coronavirus-diagnosis-raises-new-fears', 'https://www.thedailybeast.com/joe-biden-claims-bernie-sanders-has-never-gotten-anything-done-on-health-care', 'https://www.thedailybeast.com/kate-middleton-reveals-how-she-struggles-with-mom-guilt-and-other-royal-parenting-pressures', 'https://www.thedailybeast.com/probation-officer-on-how-to-destroy-prisons-revolving-door', 'https://www.thedailybeast.com/slouching-towards-chinatown-how-a-masterpiece-got-made', 'https://www.thedailybeast.com/lizzo-billy-porter-and-kristen-wiig-bring-evening-gloves-to-the-red-carpet', 'https://www.thedailybeast.com/in-gustav-klimt-painting-mystery-italian-police-question-wife-of-late-museum-curator', 'https://www.thedailybeast.com/bill-barr-just-cost-doj-its-prized-public-corruption-fighter', 'https://www.thedailybeast.com/omg-i-want-to-rent-this-house-playa-flamingo-costa-rica', 'https://www.thedailybeast.com/eliseo-gil-trial-highlights-how-forgers-prey-on-true-believers', 'https://www.thedailybeast.com/the-luxury-city-is-going-bust', 'https://www.thedailybeast.com/confronting-fantasy-islands-thorniest-legacy-herve-villechaize-sex-and-disabled-representation', 'https://www.thedailybeast.com/donald-trumps-shady-bid-to-divide-black-voters-and-conquer-the-dems', 'https://www.thedailybeast.com/our-picks-from-the-best-presidents-day-sales', 'https://www.thedailybeast.com/the-women-fighting-to-expose-olympic-taekwondo-legends-steven-and-jean-lopez-as-predators', 'https://www.thedailybeast.com/photographer-juliette-parker-drugged-new-mom-planned-to-steal-baby-cops-say', 'https://www.thedailybeast.com/former-national-security-director-john-negropontes-daughter-sophia-charged-with-maryland-murder', 'https://www.thedailybeast.com/second-teenager-charged-with-murder-of-barnard-college-student-tessa-majors-in-new-york', 'https://www.thedailybeast.com/cokehead-womanizing-fag-michael-bloombergs-book-of-wisdom-resurfaces', 'https://www.thedailybeast.com/joe-hill-reveals-the-secrets-of-netflixs-locke-and-key-and-the-comic-book-series-future', 'https://www.thedailybeast.com/eating-at-dennys-sleeping-at-walmart-what-could-go-wrong', 'https://www.thedailybeast.com/is-beanpole-the-first-great-movie-of-2020', 'https://www.thedailybeast.com/bill-barrs-power-grab-puts-politics-above-prosecutors', 'https://www.thedailybeast.com/the-ancient-sculptor-who-first-disrobed-aphrodite-the-goddess-of-love', 'https://www.thedailybeast.com/the-coronavirus-and-the-chinese-communist-party-a-black-swan-vs-the-red-dragon', 'https://www.thedailybeast.com/in-mike-bloomberg-are-democrats-now-turning-to-an-authoritarian-of-their-own', 'https://www.thedailybeast.com/ukrainian-oligarch-rinat-akhmetov-bought-the-most-infamous-mansion-on-the-riviera', 'https://www.thedailybeast.com/is-a-fake-labor-union-infiltrating-the-weed-industry', 'https://www.thedailybeast.com/hollywoods-vain-obsession-with-celebrating-itself', 'https://www.thedailybeast.com/bill-maher-booed-for-defending-mike-bloombergs-racist-stop-and-frisk-comments', 'https://www.thedailybeast.com/justin-biebers-changes-sees-the-pop-star-wifed-up-and-no-longer-the-swingin-dick', 'https://www.thedailybeast.com/the-best-new-launches-from-serena-williams-for-away-wandp-and-more', 'https://www.thedailybeast.com/anna-invictus-slams-white-supremacist-augustus-sol-invictus-calls-him-a-master-manipulator', 'https://www.thedailybeast.com/federal-judge-blasted-doj-for-leaving-andrew-mccabe-in-limbo', 'https://www.thedailybeast.com/kristen-bell-deserves-an-emmy-nod-for-the-good-place-finale', 'https://www.thedailybeast.com/michael-avenatti-guilty-on-all-counts-in-nike-extortion-case', 'https://www.thedailybeast.com/case-of-6-year-old-faye-swetlik-linked-to-coty-scott-taylor-neighbor-found-dead-in-home-authorities-said', 'https://www.thedailybeast.com/justice-department-wont-charge-former-fbi-deputy-director-andrew-mccabe-in-lying-case', 'https://www.thedailybeast.com/the-view-hosts-meghan-mccain-and-joy-behar-explode-over-bloomberg-and-trump', 'https://www.thedailybeast.com/harvey-weinstein-was-an-abusive-rapist-who-stepped-on-women-prosecutors-allege-at-rape-trial', 'https://www.thedailybeast.com/dem-pro-israel-group-goes-on-air-in-nevada-attacking-sanders', 'https://www.thedailybeast.com/dick-pics-doom-benjamin-griveaux-president-emmanuel-macrons-chosen-candidate-for-mayor-of-paris', 'https://www.thedailybeast.com/lets-be-real-chris-messina-is-the-best-hollywood-chris', 'https://www.thedailybeast.com/cherries-doe-tattoo-revealed-in-new-york-cold-case-that-may-be-tied-to-gilgo-beach-serial-killer', 'https://www.thedailybeast.com/conde-nast-backs-vanity-fair-editor-rhadika-jones-as-rumors-of-her-exit-swirl', 'https://www.thedailybeast.com/general-john-kelly-trump-stooge-is-no-lieutenant-colonel-alexander-vindman-patriot', 'https://www.thedailybeast.com/grab-brooklinen-sheets-and-towels-while-theyre-on-sale', 'https://www.thedailybeast.com/sir-john-soanes-museum-this-architects-house-will-leave-you-reeling-with-wonder', 'https://www.thedailybeast.com/can-craft-beer-survive-the-white-claw-hard-seltzer-craze', 'https://www.thedailybeast.com/how-the-horror-of-parkland-led-bill-galvano-to-buck-his-party-on-gun-laws', 'https://www.thedailybeast.com/on-the-border-in-trumps-twilight-zone-for-migrants-where-no-ones-in-charge', 'https://www.thedailybeast.com/sergio-hudson-wants-to-be-the-next-versace-michelle-obama-and-beyonce-approve', 'https://www.thedailybeast.com/sanctuary-city-for-the-unborn-is-the-wacky-new-anti-abortion-tactic-taking-off-across-america', 'https://www.thedailybeast.com/us-readied-sanctions-on-russian-oligarch-oleg-deripaskas-associates-then-mysteriously-backed-off', 'https://www.thedailybeast.com/short-people-are-pissed-at-trump-for-his-bloomberg-height-attacks', 'https://www.thedailybeast.com/the-photograph-is-the-rare-hollywood-movie-showing-modern-black-love-if-only-it-were-a-better-film', 'https://www.thedailybeast.com/prince-harry-and-meghan-markles-megxit-bloodbath-reveals-where-their-american-loyalties-lie', 'https://www.thedailybeast.com/mike-bloomberg-once-said-taking-from-the-rich-was-a-bigger-problem-than-income-inequality', 'https://www.thedailybeast.com/i-was-a-sonic-kid-the-new-sonic-the-hedgehog-movie-haunts-and-fascinates-me', 'https://www.thedailybeast.com/seth-meyers-mocks-trumps-very-dumb-obsession-with-badgers', 'https://www.thedailybeast.com/daily-show-host-trevor-noah-takes-mike-bloomberg-to-task-for-stop-and-frisk', 'https://www.thedailybeast.com/lou-dobbs-loses-it-over-bill-barrs-criticism-of-trumps-tweets-attacks-rancid-justice-department', 'https://www.thedailybeast.com/trumps-new-york-shakedown-shows-hell-never-get-out-of-the-gutter', 'https://www.thedailybeast.com/billie-eilishs-bond-theme-no-time-to-die-is-sleek-sexy-and-a-bit-of-a-bore', 'https://www.thedailybeast.com/former-waymo-operator-tricks-self-driving-car-into-crashing-in-tempe-cops-say', 'https://www.thedailybeast.com/nevadas-most-powerful-union-endorsesno-one', 'https://www.thedailybeast.com/rogue-professor-ran-sexual-arousal-experiments-on-disabled-patients-in-iowa-suit-claims', 'https://www.thedailybeast.com/faye-swetliks-body-found-in-her-south-carolina-neighborhood', 'https://www.thedailybeast.com/fox-news-anchor-harris-faulkner-says-roger-stone-controversy-would-be-avoidable-if-trump-just-pardons-him', 'https://www.thedailybeast.com/everyone-came-to-gayle-kings-defense-against-snoop-dogg-except-cbsviacom-bosses', 'https://www.thedailybeast.com/a-top-wh-official-a-pentagon-lobbyist-and-a-pawn-star-tried-to-enlist-trump-in-a-west-wing-reality-show', 'https://www.thedailybeast.com/trump-critics-join-donald-trump-in-dunking-on-former-wh-chief-of-staff-john-kelly', 'https://www.thedailybeast.com/joe-biden-bombs-big-time-on-the-view', 'https://www.thedailybeast.com/a-valentines-day-gift-makeover', 'https://www.thedailybeast.com/trump-plans-to-use-national-guard-budget-for-border-fencing', 'https://www.thedailybeast.com/harvey-weinsteins-defense-team-tells-jurors-to-forget-their-gut-feelings', 'https://www.thedailybeast.com/coronavirus-keeps-spreading-with-new-cases-in-california-and-texas', 'https://www.thedailybeast.com/michigan-mom-who-brought-young-daughters-along-to-dump-dads-body-nabbed-in-italy-after-18-years-on-the-run', 'https://www.thedailybeast.com/target-launches-new-travel-brand-to-upgrade-your-entire-luggage-collection', 'https://www.thedailybeast.com/sean-spicer-finally-gets-a-tv-show-but-its-only-on-newsmax', 'https://www.thedailybeast.com/the-noise-complaints-and-car-bombing-that-rocked-a-tiny-new-england-town', 'https://www.thedailybeast.com/the-un-is-playing-hunger-games-with-desperate-migrants-in-libya-and-displaced-persons-in-south-sudan', 'https://www.thedailybeast.com/netflixs-love-is-blind-is-a-delightfully-weird-chaotic-cousin-to-the-bachelor', 'https://www.thedailybeast.com/ayanna-maertens-griffin-joel-bianda-found-slain-on-highway', 'https://www.thedailybeast.com/why-gretchen-carlson-cant-tell-you-the-full-truth-about-fox', 'https://www.thedailybeast.com/freshly-acquitted-trump-will-now-face-gop-defiance-on-iran', 'https://www.thedailybeast.com/little-americas-kumail-nanjiani-and-emily-v-gordon-say-hollywood-is-scared-of-telling-immigrant-stories', 'https://www.thedailybeast.com/why-is-iran-now-pushing-right-wing-fake-news', 'https://www.thedailybeast.com/narcos-mexico-season-2-on-netflix-is-more-bloody-druggy-and-chaotic-than-ever', 'https://www.thedailybeast.com/one-of-amy-klobuchars-biggest-backers-is-the-worst-company-in-the-world', 'https://www.thedailybeast.com/daily-shows-trevor-noah-explains-why-he-feels-bad-for-black-pinocchio-jussie-smollett', 'https://www.thedailybeast.com/colorado-cops-say-they-dont-think-missing-11-year-old-gannon-stauch-was-abducted', 'https://www.thedailybeast.com/jeff-bezos-unloads-dollar41-billion-in-amazon-stock-buys-las-most-expensive-house-ever', 'https://www.thedailybeast.com/bernie-sanders-fires-back-at-james-carville-calls-him-a-political-hack', 'https://www.thedailybeast.com/miley-cyrus-walks-the-runway-for-marc-jacobs-plus-fe-noel-and-sukeina-close-out-new-york-fashion-week', 'https://www.thedailybeast.com/msnbcs-chuck-todd-says-i-dont-understand-how-bernies-considered-a-frontrunner', 'https://www.thedailybeast.com/this-isnt-about-roger-stone-its-about-bill-barr-letting-donald-trump-show-that-hes-above-the-law-now', 'https://www.thedailybeast.com/mark-zuckerbergs-private-notebook-shows-fixation-on-illusion-of-privacy', 'https://www.thedailybeast.com/gary-walker-charged-in-gruesome-murder-of-a-woman-found-in-a-suitcase', 'https://www.thedailybeast.com/trump-reveals-the-lesson-he-learned-from-impeachment', 'https://www.thedailybeast.com/army-isnt-investigating-lt-col-alexander-vindman-despite-trumps-tweets', 'https://www.thedailybeast.com/video-shows-minutes-before-6-year-old-faye-swetlik-vanished-from-her-yard-in-south-carolina', 'https://www.thedailybeast.com/brewing-coronavirus-mutiny-at-california-marine-base-slams-cdc-response', 'https://www.thedailybeast.com/at-nyfw-michael-kors-not-so-wild-west-christian-cowans-pop-star-appeal-and-aliettes-red-carpet-glamor', 'https://www.thedailybeast.com/rush-limbaugh-claims-mr-man-trump-will-have-fun-with-gay-guy-buttigieg-kissing-his-husband', 'https://www.thedailybeast.com/trump-turns-to-tucker-carlson-to-help-decide-roger-stones-fate', 'https://www.thedailybeast.com/this-samsung-smartwatch-tracks-everything-in-your-life', 'https://www.thedailybeast.com/rose-mcgowan-rips-natalie-portmans-oscars-cape-you-are-the-problem', 'https://www.thedailybeast.com/san-bernardino-cops-chasing-serial-killer-gang-who-killed-middle-school-teacher-and-2-year-old', 'https://www.thedailybeast.com/with-a-big-no-to-married-priests-pope-francis-shows-that-yes-hes-still-catholic', 'https://www.thedailybeast.com/staff-photos-from-jeffrey-morgenthaler-bar-manager-of-portland-oregon-bars-clyde-common-and-pepe-le-moko', 'https://www.thedailybeast.com/vfw-sees-grizzled-boomers-get-their-bloody-revenge-on-opioid-pushing-millennials', 'https://www.thedailybeast.com/to-all-the-boys-ps-i-still-love-you-proves-teen-romance-can-be-very-boring', 'https://www.thedailybeast.com/zach-woods-hollywoods-favorite-awkward-tall-boy-should-maybe-be-its-spiritual-guru-instead', 'https://www.thedailybeast.com/nevada-is-do-or-die-for-elizabeth-warren-if-she-can-even-make-it-here', 'https://www.thedailybeast.com/jojo-rabbit-and-the-oscars-other-big-diversity-problem', 'https://www.thedailybeast.com/why-does-trump-want-to-spend-billions-on-new-nukes', 'https://www.thedailybeast.com/mike-bloomberg-cant-hide-how-he-helped-terrorize-black-people-with-stop-and-frisk-policing', 'https://www.thedailybeast.com/accused-marie-yovanovitch-stalker-robert-hyde-now-supplying-documents-to-congress', 'https://www.thedailybeast.com/oklahomas-universal-aryan-brotherhood-gang-allegedly-murdered-member-over-broken-air-conditioner', 'https://www.thedailybeast.com/jeanna-de-waal-stars-as-princess-diana-on-broadway-it-is-done-with-tact-no-one-is-playing-a-caricature', 'https://www.thedailybeast.com/jimmy-kimmel-attacks-trump-for-calling-mike-bloomberg-a-total-racist', 'https://www.thedailybeast.com/bernie-sanders-wins-new-hampshire-primary-cant-shake-pete-buttigieg-and-amy-klobuchar', 'https://www.thedailybeast.com/amy-klobuchar-stakes-her-claim-as-new-hampshires-new-comeback-kid', 'https://www.thedailybeast.com/the-gloves-are-off-trump-pushes-revenge-operations', 'https://www.thedailybeast.com/tucker-carlson-signals-to-trump-says-roger-stone-needs-a-pardon', 'https://www.thedailybeast.com/ryan-seacrest-nodded-a-lot-at-naeem-khans-new-york-fashion-week-show', 'https://www.thedailybeast.com/andrew-yang-ends-his-2020-presidential-bid', 'https://www.thedailybeast.com/trump-iran-man-brian-hook-met-with-a-former-terror-groups-rep-after-soleimani-strike', 'https://www.thedailybeast.com/thirsty-moderate-democrats-are-lining-up-to-endorse-michael-bloomberg', 'https://www.thedailybeast.com/trump-tweets-about-roger-stone-william-barr-grovels-and-the-justice-department-turns-on-itself', 'https://www.thedailybeast.com/the-best-bedtime-routine-for-a-great-nights-sleep-is-a-simple-one', 'https://www.thedailybeast.com/empire-actor-jussie-smollett-indicted-again-for-making-up-hate-crime-attack-special-prosecutor', 'https://www.thedailybeast.com/jason-blums-the-hunt-to-open-in-march-despite-cancellation-controversy', 'https://www.thedailybeast.com/authorities-search-for-gannon-stauch-11-year-old-colorado-boy-who-went-missing-two-weeks-ago', 'https://www.thedailybeast.com/the-best-mens-chinos-to-add-to-your-outfit-rotation', 'https://www.thedailybeast.com/coronavirus-diamond-princess-cruise-ship-fiasco-points-to-possible-super-spreader', 'https://www.thedailybeast.com/democratic-voter-tells-msnbc-she-voted-for-bernie-sanders-because-of-their-cynical-coverage-of-him', 'https://www.thedailybeast.com/how-to-watch-stream-2020-new-hampshire-primary-coverage', 'https://www.thedailybeast.com/trump-world-hammers-bloomberg-for-racism-that-trump-previously-said-himself', 'https://www.thedailybeast.com/michael-bloomberg-in-2015-saw-russias-point-in-invading-ukraine', 'https://www.thedailybeast.com/doj-overrides-grossly-disproportionate-sentencing-recommendation-for-trump-ally-roger-stone', 'https://www.thedailybeast.com/istandwithgayle-takes-off-as-stars-journalists-rally-around-gayle-king', 'https://www.thedailybeast.com/joy-behar-chides-the-view-co-host-sunny-hostin-for-prosecuting-amy-klobuchar', 'https://www.thedailybeast.com/this-air-fryer-is-also-a-convection-oven-and-has-changed-how-i-cook', 'https://www.thedailybeast.com/lawrence-ray-ran-a-sex-cult-out-of-daughters-sarah-lawrence-dorm-feds-say', 'https://www.thedailybeast.com/michael-bloomberg-hovers-over-the-new-hampshire-primary-like-a-ghost', 'https://www.thedailybeast.com/as-assad-and-putin-forces-advance-in-syria-its-the-death-rattle-of-the-arab-spring', 'https://www.thedailybeast.com/donald-trump-acquitted-is-more-russias-trump-than-ever', 'https://www.thedailybeast.com/remembering-legendary-drinks-writer-gary-gaz-regan', 'https://www.thedailybeast.com/russell-peters-defends-comedic-stereotypes-nothing-hacky-about-indian-accent', 'https://www.thedailybeast.com/theyre-voting-in-new-hampshire-but-this-democrat-just-wants-to-jump-off-a-bridge', 'https://www.thedailybeast.com/ballerinas-secretly-ruled-fashion-trends-for-over-50-years', 'https://www.thedailybeast.com/will-elon-musk-create-an-orbiting-garbage-pile-around-earth', 'https://www.thedailybeast.com/will-bernie-sanders-and-mike-bloomberg-do-to-the-democrats-what-donald-trump-did-to-the-gop', 'https://www.thedailybeast.com/absolutely-no-one-knows-how-new-hampshire-is-going-to-vote-but-here-are-some-clues', 'https://www.thedailybeast.com/right-richter-michelle-malkin-endorses-racist-cpac-rival-america-first-political-action-conference', 'https://www.thedailybeast.com/bernie-sanders-is-a-blunt-political-force-and-hes-planning-to-bend-the-democratic-party-to-his-will', 'https://www.thedailybeast.com/how-birds-of-prey-director-cathy-yan-saved-margot-robbies-harley-quinn-from-joker-and-the-male-gaze', 'https://www.thedailybeast.com/the-top-bluetooth-headphones-for-the-best-listening-experience', 'https://www.thedailybeast.com/coronavirus-casualties-hit-grim-milestone-as-china-fudges-numbers', 'https://www.thedailybeast.com/trump-tweets-curb-your-enthusiasm-clip-but-larry-david-could-give-a-fck-about-maga-fans', 'https://www.thedailybeast.com/harrison-ford-calls-out-son-of-a-bitch-trump-on-jimmy-kimmel', 'https://www.thedailybeast.com/daily-shows-trevor-noah-goes-after-joe-biden-for-attacking-civilians-on-the-campaign-trail', 'https://www.thedailybeast.com/tulsi-gabbard-tells-sean-hannity-she-supports-trump-axing-alexander-vindman-and-gordon-sondland', 'https://www.thedailybeast.com/seth-meyers-disgusted-by-fox-news-host-jeanine-pirros-insane-screed-against-mitt-romney', 'https://www.thedailybeast.com/team-bernie-blasts-chuck-todd-for-segment-likening-supporters-to-brown-shirts', 'https://www.thedailybeast.com/the-fbi-makes-a-bizarre-claim-about-pro-choice-terrorism', 'https://www.thedailybeast.com/cynthia-nixon-shuts-down-boos-for-hillary-clinton-at-bernie-sanders-new-hampshire-rally', 'https://www.thedailybeast.com/at-new-york-fashion-week-alice-olivia-herve-leger-anna-sui-and-veronica-beard-glam-up-a-rainy-day', 'https://www.thedailybeast.com/anti-trans-bill-killed-in-south-dakota-senate-commitee-vote', 'https://www.thedailybeast.com/how-to-take-care-of-your-plants-simplified', 'https://www.thedailybeast.com/parasites-historic-oscar-wins-matter-more-than-you-think-even-if-you-hate-the-oscars', 'https://www.thedailybeast.com/coronavirus-deadliest-24-hours-yet-as-new-wave-of-americans-infected-on-cruise-ship', 'https://www.thedailybeast.com/my-favorite-robe-for-everything-is-this-one-from-weezie', 'https://www.thedailybeast.com/fox-news-brit-hume-says-its-a-conspiracy-theory-to-think-billionaires-are-running-the-country', 'https://www.thedailybeast.com/inside-new-york-fashion-weeks-sexy-night-out-with-chromat-kim-shui-dennis-basso-and-the-blonds', 'https://www.thedailybeast.com/talita-maia-defends-harvey-weinstein-claims-jessica-mann-called-weinstein-her-spiritual-soulmate', 'https://www.thedailybeast.com/justice-department-says-china-was-behind-equifax-data-breach-in-2017', 'https://www.thedailybeast.com/sinn-fein-wins-big-at-irish-elections-but-how-will-the-party-manage-its-ira-past', 'https://www.thedailybeast.com/what-is-mike-pompeo-doing-with-europes-last-dictator', 'https://www.thedailybeast.com/10-dishes-with-celebrity-chef-massimiliano-alajmo-of-sesamo-in-the-royal-mansour-in-marrakech', 'https://www.thedailybeast.com/trumps-foreign-policy-is-just-bullying-and-bloviating', 'https://www.thedailybeast.com/amy-klobuchar-is-having-a-mini-surge-in-new-hampshire-weve-gone-up-to-no-3', 'https://www.thedailybeast.com/antiguas-newest-luxury-adults-only-retreat-is-on-the-edge-of-a-national-park', 'https://www.thedailybeast.com/inside-female-directors-push-for-better-parental-leave-in-the-dga-and-across-hollywood', 'https://www.thedailybeast.com/dick-cavett-breaks-down-why-trump-got-away-with-his-crimes-when-nixon-couldnt', 'https://www.thedailybeast.com/how-the-trump-dojs-own-arguments-may-make-a-biden-probe-impossible', 'https://www.thedailybeast.com/corey-lewandowski-endorses-a-pablo-escobar-phone-that-probably-isnt-real', 'https://www.thedailybeast.com/elon-musk-and-donald-trump-are-on-their-way-to-a-moonstruck-bromance', 'https://www.thedailybeast.com/are-black-voters-quietly-turning-to-mike-bloomberg', 'https://www.thedailybeast.com/parasite-saves-the-2020-oscars-from-a-fiery-hell-of-irrelevance', 'https://www.thedailybeast.com/the-2020-oscars-most-cringeworthy-moment-came-courtesy-of-sigourney-weaver-brie-larson-and-gal-gadot', 'https://www.thedailybeast.com/joaquin-phoenix-rails-against-cancel-culture-cow-insemination-in-wild-oscar-acceptance-speech-for-joker', 'https://www.thedailybeast.com/elizabeth-warren-absorbs-the-downsides-of-being-a-female-candidate-with-little-of-the-history-making-chatter', 'https://www.thedailybeast.com/failed-cop-killer-ordered-takeout-after-nypd-assassination-attempt-who-does-that', 'https://www.thedailybeast.com/the-oscars-red-carpet-served-up-glamorand-so-much-drama', 'https://www.thedailybeast.com/chris-rock-and-steve-martin-roast-oscars-for-hiding-black-actors-and-female-directors', 'https://www.thedailybeast.com/oscars-red-carpet-was-won-by-these-beautiful-expensive-jewels-with-their-own-security-guards', 'https://www.thedailybeast.com/brad-pitt-jokes-about-trump-impeachment-in-best-supporting-actor-oscar-acceptance-speech', 'https://www.thedailybeast.com/the-color-and-drama-of-nyfw-with-brandon-maxwell-laquan-smith-area-tory-burch-and-christopher-john-rogers', 'https://www.thedailybeast.com/north-koreas-secret-coronavirus-crisis-is-crazy-scary', 'https://www.thedailybeast.com/bill-maher-warns-trump-could-win-2020-election-because-democrats-too-woke', 'https://www.thedailybeast.com/lindsey-graham-claims-bill-barr-has-created-a-process-for-giuliani-to-give-him-biden-ukraine-dirt', 'https://www.thedailybeast.com/family-of-harry-dunn-demand-answers-about-spy-wife-anne-sacoolas-cia-background', 'https://www.thedailybeast.com/joe-biden-says-buttigieg-is-no-barack-obama-mayor-pete-responds-neither-are-you', 'https://www.thedailybeast.com/ruggables-washable-rug-is-a-clean-freaks-dream', 'https://www.thedailybeast.com/bernie-sanders-clashes-with-cnns-jake-tapper-over-old-comments-says-you-go-back-to-my-3rd-grade-essay', 'https://www.thedailybeast.com/how-to-watch-the-2020-oscars-on-sunday', 'https://www.thedailybeast.com/gunman-nabbed-after-shooting-second-nypd-cop-reports', 'https://www.thedailybeast.com/meghan-and-harry-decline-invite-to-present-best-picture-oscar-after-appearing-at-miami-billionaires-summit', 'https://www.thedailybeast.com/our-towns-fictional-nh-village-exposes-american-bedrock', 'https://www.thedailybeast.com/omg-i-want-this-house-block-island-ri', 'https://www.thedailybeast.com/did-we-really-find-pliny-the-elders-skull', 'https://www.thedailybeast.com/westminster-dog-show-an-inside-look-behind-the-scenes', 'https://www.thedailybeast.com/these-chinese-christians-were-branded-a-criminal-cult-now-they-have-to-flee', 'https://www.thedailybeast.com/mitzpe-ramon-israels-grand-canyon-is-from-another-world', 'https://www.thedailybeast.com/the-national-organization-for-women-is-tearing-itself-apart-over-sex-work', 'https://www.thedailybeast.com/the-secret-database-of-jehovahs-witness-child-abusers', 'https://www.thedailybeast.com/laura-loomer-trumpy-bigot-embraced-by-the-florida-gop-could-actually-get-to-congress', 'https://www.thedailybeast.com/the-porn-prince-of-new-yorks-live-sex-shows-in-1970s-times-square', 'https://www.thedailybeast.com/oscars-2020-predictions-can-parasite-pull-off-a-major-upset-over-1917-and-win-it-all', 'https://www.thedailybeast.com/the-trumpists-boosting-bernie-sanders-might-get-what-they-wish-for-and-regret-it', 'https://www.thedailybeast.com/snls-weekend-update-mocks-trumps-orange-face-tan-line-photo', 'https://www.thedailybeast.com/snl-larry-david-as-bernie-sanders-defends-his-army-of-internet-trolls', 'https://www.thedailybeast.com/joe-biden-is-running-out-of-gas', 'https://www.thedailybeast.com/bidens-attack-ad-on-mayor-pete-backfires-in-manchester', 'https://www.thedailybeast.com/new-york-fashion-week-kicks-off-the-glamour-with-badgley-mischka-rag-and-bone-sergio-hudson-and-claudia-li', 'https://www.thedailybeast.com/five-evacuated-americans-are-being-tested-for-coronavirus-in-california', 'https://www.thedailybeast.com/the-best-dehumidifiers-on-amazon-to-keep-your-home-comfortable', 'https://www.thedailybeast.com/the-sex-education-bus-scene-thats-making-everyone-cry', 'https://www.thedailybeast.com/russians-on-the-riviera-say-were-not-all-thugs-and-gangsters', 'https://www.thedailybeast.com/coronavirus-cruise-quarantine-went-from-joke-to-hospital-visit-for-oregon-couple', 'https://www.thedailybeast.com/antelope-canyon-is-over-touristed-af-is-it-still-worth-going', 'https://www.thedailybeast.com/if-joker-wins-the-best-picture-oscar-all-hell-will-break-loose', 'https://www.thedailybeast.com/porns-biggest-humanitarian-sofia-rose-is-here-to-give-you-strength', 'https://www.thedailybeast.com/democratic-voters-worry-biden-has-too-much-baggage-after-trumps-ukraine-smears', 'https://www.thedailybeast.com/pete-buttigieg-blows-it-again-as-democratic-debate-focuses-on-race', 'https://www.thedailybeast.com/amy-klobuchar-seizes-the-democratic-debate', 'https://www.thedailybeast.com/jane-fonda-brings-her-climate-activism-and-civil-disobedience-home-to-la', 'https://www.thedailybeast.com/dems-run-scared-from-trump-and-each-other', 'https://www.thedailybeast.com/steve-bannon-outduels-and-embarrasses-bill-maher-on-real-time', 'https://www.thedailybeast.com/friday-night-massacre-of-alexander-vivdman-yevgeny-vindman-and-gordon-sondland-is-just-the-beginning-for-trump', 'https://www.thedailybeast.com/new-hampshire-democratic-debate-opens-with-everyone-bashing-bernie', 'https://www.thedailybeast.com/gordon-sondland-recalled-as-eu-ambassador', 'https://www.thedailybeast.com/the-best-apparel-items-from-amazons-private-label-menswear-brands', 'https://www.thedailybeast.com/jameela-jamil-is-not-the-problem-with-hbos-ballroom-show-legendary', 'https://www.thedailybeast.com/varsity-blues-college-cheating-scandal-lands-ex-pimco-ceo-in-prison-for-9-months', 'https://www.thedailybeast.com/judge-rules-kesha-defamed-dr-luke-by-telling-lady-gaga-he-raped-katy-perry', 'https://www.thedailybeast.com/the-best-oscar-speeches-ever-that-always-make-me-cry', 'https://www.thedailybeast.com/harvey-weinsteins-lawyer-donna-rutonno-says-she-would-never-put-herself-in-position-to-be-sexually-assaulted', 'https://www.thedailybeast.com/msnbcs-donny-deutsch-says-elizabeth-warrens-problem-is-shes-too-strident-and-unlikable', 'https://www.thedailybeast.com/how-to-watch-stream-the-2020-democratic-debate-in-new-hampshire', 'https://www.thedailybeast.com/trump-properties-charged-secret-service-dollar650-a-night-says-report', 'https://www.thedailybeast.com/princess-beatrice-to-marry-edoardo-mapelli-mozzi-on-friday-29-may-in-london', 'https://www.thedailybeast.com/john-kercher-father-of-amanda-knoxs-roommate-and-murder-victim-meredith-kercher-has-died-in-mysterious-circumstances', 'https://www.thedailybeast.com/coronavirus-whistleblower-dr-li-wenliang-died-a-powerful-martyr-for-free-speech-in-china', 'https://www.thedailybeast.com/mythic-quest-ravens-banquet-sees-the-always-sunny-team-take-on-toxic-masculinity-in-gaming', 'https://www.thedailybeast.com/birds-of-prey-gives-margot-robbies-harley-quinn-the-girly-grisly-movie-she-deserves', 'https://www.thedailybeast.com/andrew-peek-nsc-russia-director-was-under-suspicion-before-he-got-the-white-house-job', 'https://www.thedailybeast.com/exclusive-pete-buttigieg-seeks-advice-from-creepy-bill-clinton-in-our-cartoon-president', 'https://www.thedailybeast.com/democrats-new-fear-about-iowa-is-whether-they-have-a-turnout-problem', 'https://www.thedailybeast.com/inside-colombias-air-chapo-cocaine-shipping-scandal', 'https://www.thedailybeast.com/prince-harry-and-meghan-markle-chill-with-archie-and-quietly-plan-their-new-life', 'https://www.thedailybeast.com/the-oscars-biggest-best-picture-screwups-ever-from-citizen-kane-to-green-book', 'https://www.thedailybeast.com/mike-bloomberg-is-paying-influencers-to-make-him-seem-cool-9', 'https://www.thedailybeast.com/whats-the-difference-between-the-kindle-and-kindle-paperwhite-heres-an-explanation', 'https://www.thedailybeast.com/jimmy-kimmel-brutally-roasts-donald-trump-jrs-all-time-worst-looks', 'https://www.thedailybeast.com/seth-meyers-mocks-trump-for-making-mitt-romney-look-incredibly-cool', 'https://www.thedailybeast.com/how-trump-really-invited-russias-election-attack', 'https://www.thedailybeast.com/john-bolton-said-he-would-testify-before-the-senate-but-house-democrats-are-torn-about-demanding-it', 'https://www.thedailybeast.com/king-donald-to-gop-and-now-and-forever-you-shall-be-my-servants', 'https://www.thedailybeast.com/snoop-doggs-attack-on-oprah-and-defense-of-kobe-bryant-michael-jackson-and-cosby-is-classic-misogynoir', 'https://www.thedailybeast.com/producer-paul-feldsher-bashes-liar-actress-annabella-sciorra-and-defends-sex-addict-pal-weinstein-in-court', 'https://www.thedailybeast.com/fox-news-internal-document-bashes-john-solomon-joe-digenova-and-rudy-giuliani-for-spreading-disinformation', 'https://www.thedailybeast.com/donald-trump-jr-is-wrong-mitt-romneys-mom-jeans-are-right-on-trend', 'https://www.thedailybeast.com/trump-celebrates-impeachment-acquittal-with-bizarre-blood-and-bullshit-filled-white-house-speech', 'https://www.thedailybeast.com/coronavirus-charity-efforts-kick-into-high-gear-as-death-toll-keeps-surging', 'https://www.thedailybeast.com/russia-hacked-the-election-trump-hacked-team-obamas-brains', 'https://www.thedailybeast.com/untangling-the-dizzying-network-behind-the-dem-caucus-blowup', 'https://www.thedailybeast.com/trump-drags-prayer-breakfast-into-gutter-attacks-romney-and-pelosis-faith-as-he-rallies-his-faithful', 'https://www.thedailybeast.com/trumps-fox-news-minions-swarm-to-attack-mitt-romney', 'https://www.thedailybeast.com/pete-buttigieg-is-already-planning-for-life-after-new-hampshire', 'https://www.thedailybeast.com/meghan-mccain-unimpressed-by-mitt-romney-says-he-is-nothing-like-my-dad', 'https://www.thedailybeast.com/best-menswear-staples-i-wish-my-husband-would-consider-wearing', 'https://www.thedailybeast.com/hillary-clinton-redoubles-bernie-sanders-attack-to-ellen-degeneres-need-someone-who-can-win', 'https://www.thedailybeast.com/gayle-king-says-kobe-bryant-interview-clip-about-rape-allegations-was-taken-out-of-context', 'https://www.thedailybeast.com/trumps-press-secretary-stephanie-grisham-whines-about-media-lunch-leaks-in-new-leaked-email', 'https://www.thedailybeast.com/derek-mackay-scotlands-finance-secretary-quits-over-predatory-texts-to-16-year-old-schoolboy', 'https://www.thedailybeast.com/harvey-weinstein-fell-asleep-in-court-after-hosting-super-bowl-party-the-night-before', 'https://www.thedailybeast.com/flu-not-coronavirus-is-the-virus-killing-us-kids-like-luca-calanni', 'https://www.thedailybeast.com/the-current-obsession-of-bartender-chase-bracamontes-from-chicago-chefs-special-is-neon-cocktails', 'https://www.thedailybeast.com/forget-burning-man-inside-the-malaysian-festival-filled-with-faith-fasting-and-physical-bondage', 'https://www.thedailybeast.com/inside-the-2020-oscars-biggest-controversies-from-harvey-weinstein-and-jeffrey-epstein-to-diversity-issues', 'https://www.thedailybeast.com/coronavirus-is-terrifying-uber-and-lyft-drivers-and-exposing-customers-to-extra-racism', 'https://www.thedailybeast.com/oprah-winfreys-2020-is-off-to-a-terrible-start-is-her-empire-in-trouble', 'https://www.thedailybeast.com/rudy-giuliani-and-co-plot-new-biden-probes-and-overseas-trip-as-trumps-ukraine-team-lies-in-ruin', 'https://www.thedailybeast.com/stephen-colbert-absolutely-destroys-skin-bag-senator-susan-collins-over-impeachment', 'https://www.thedailybeast.com/dhs-secretary-chad-wolf-tells-tucker-carlson-new-york-residents-will-pay-for-states-sanctuary-law', 'https://www.thedailybeast.com/zelensky-adviser-igor-novikov-says-trump-impeachment-definitely-was-stressful', 'https://www.thedailybeast.com/daily-shows-trevor-noah-exposes-team-trumps-hypocrisy-on-nancy-pelosi-and-rush-limbaugh', 'https://www.thedailybeast.com/buttigieg-campaign-removes-fundraiser-co-host-tied-to-ice-contracts', 'https://www.thedailybeast.com/senate-democrats-nix-contract-talks-with-shadow-company-behind-disastrous-iowa-caucus-app', 'https://www.thedailybeast.com/hollywood-legend-kirk-douglas-dead-at-103', 'https://www.thedailybeast.com/racist-president-donald-trump-honors-racist-radio-pioneer-rush-limbaugh-to-own-the-libs-and-the-black-athletes', 'https://www.thedailybeast.com/the-best-shapewear-cami-is-from-yummie', 'https://www.thedailybeast.com/nicki-minaj-and-meek-mills-war-of-words-just-got-very-ugly-and-very-personal', 'https://www.thedailybeast.com/mitt-romney-cuts-a-profile-in-courage-as-he-votes-to-convict-donald-trump-of-abuse-of-power', 'https://www.thedailybeast.com/today-trump-is-acquitted-tomorrow-he-starts-cheating-on-the-2020-election', 'https://www.thedailybeast.com/senate-republicans-admit-trump-did-it-but-vote-to-acquit-him-anyway', 'https://www.thedailybeast.com/lauren-young-testifies-harvey-weinstein-groped-her-masturbated-in-hotel-bathroom', 'https://www.thedailybeast.com/the-best-apparel-items-from-amazons-private-label-womenswear-brands', 'https://www.thedailybeast.com/republicans-hate-surveillance-on-trump-but-sound-like-theyll-renew-the-patriot-act', 'https://www.thedailybeast.com/mitt-romney-will-vote-to-convict-trump-appalling-abuse-of-public-trust', 'https://www.thedailybeast.com/four-new-coronavirus-evac-flights-to-head-from-china-to-us-as-global-cases-surge', 'https://www.thedailybeast.com/fox-host-dagen-mcdowell-blows-top-over-pelosi-says-shes-a-third-grader-who-is-eating-toilet-paper', 'https://www.thedailybeast.com/vin-diesel-says-fast-10-might-be-split-into-an-epic-two-part-finale', 'https://www.thedailybeast.com/pete-buttigieg-makes-history-and-america-face-the-meaning-of-lgbtq-equalityand-reality-of-prejudice', 'https://www.thedailybeast.com/saw-trailer-chris-rock-samuel-l-jackson-revitalize-a-languishing-franchise-2', 'https://www.thedailybeast.com/alec-baldwin-and-the-view-clash-with-meghan-mccain-over-rush-limbaugh-state-of-the-union-honor', 'https://www.thedailybeast.com/quarantined-cruise-ship-passengers-stuck-on-journey-from-hell-thanks-to-coronavirus-outbreak', 'https://www.thedailybeast.com/pornhub-continues-its-march-to-the-mainstream-as-streaming-stars-make-fashion-week-debut', 'https://www.thedailybeast.com/cooking-through-the-souths-past-present-and-future', 'https://www.thedailybeast.com/fashions-a-list-face-a-dilemma-do-they-go-to-new-york-fashion-week-the-oscarsor-both', 'https://www.thedailybeast.com/here-are-the-terrible-things-trump-did-that-you-might-have-missed-in-the-midst-of-impeachment', 'https://www.thedailybeast.com/coronavirus-pandemic-worst-case-scenario-is-ugly-experts-say', 'https://www.thedailybeast.com/woke-william-activist-prince-would-make-princess-diana-so-proud', 'https://www.thedailybeast.com/this-oscar-season-has-been-a-bigger-disaster-than-iowa', 'https://www.thedailybeast.com/team-trump-already-planning-on-siccing-victims-of-socialism-and-communism-on-bernie-sanders', 'https://www.thedailybeast.com/jimmy-kimmel-rips-trump-for-honoring-rush-limbaugh-during-state-of-the-union', 'https://www.thedailybeast.com/trumps-state-of-the-union-was-half-american-carnage-half-morning-in-america', 'https://www.thedailybeast.com/whoa-donald-trump-just-gave-a-genuinely-good-speech', 'https://www.thedailybeast.com/msnbcs-chris-matthews-gushes-over-trumps-sotu-address-says-its-all-good-stuff', 'https://www.thedailybeast.com/trump-2020-state-of-the-union-address-nationalist-anti-immigrant-socialism-hating-game-show', 'https://www.thedailybeast.com/seth-meyers-unloads-on-pete-buttigieg-for-prematurely-claiming-iowa-caucus-win', 'https://www.thedailybeast.com/da-clears-grant-robicheaux-and-cerissa-riley-couple-accused-of-drugging-and-raping-women', 'https://www.thedailybeast.com/james-carville-rages-over-state-of-democratic-party-says-im-scared-to-death', 'https://www.thedailybeast.com/trump-had-americas-top-tv-news-anchors-over-for-lunch-and-ate-them-alive', 'https://www.thedailybeast.com/amanda-perrault-reported-her-cop-husband-for-domestic-violence-now-shes-dead', 'https://www.thedailybeast.com/mayor-pete-leads-iowa-delegate-race-with-62-reporting', 'https://www.thedailybeast.com/this-handheld-printer-can-print-on-pretty-much-anything', 'https://www.thedailybeast.com/investors-rush-to-downplay-ties-to-shadow-the-firm-behind-iowa-caucus-clusterfuck', 'https://www.thedailybeast.com/how-to-watch-trumps-2020-state-of-the-union-address', 'https://www.thedailybeast.com/the-bachelor-contestant-victoria-f-loses-cosmo-cover-over-white-lives-matter-shoot', 'https://www.thedailybeast.com/emanuela-postacchini-testifies-jessica-mann-was-crying-after-failed-threesome-with-harvey-weinstein', 'https://www.thedailybeast.com/trump-allies-promote-iowa-caucus-conspiracy-theories-as-dems-feud', 'https://www.thedailybeast.com/monique-slams-oprah-winfrey-over-sundance-russell-simmons-doc-rekindles-old-feud', 'https://www.thedailybeast.com/the-view-host-meghan-mccain-says-my-dad-knew-iowa-caucus-was-garbage', 'https://www.thedailybeast.com/pete-buttigieg-wakes-up-in-new-hampshire-with-a-promise-of-transparency-and-a-fresh-dig-at-bernie-sanders', 'https://www.thedailybeast.com/the-dirty-little-secret-behind-iowas-amateur-hour-caucuses', 'https://www.thedailybeast.com/iowa-shitshow-isnt-democracy-in-action-its-the-democratic-national-committee-at-its-worst', 'https://www.thedailybeast.com/the-crazy-coronavirus-cures-on-the-chinese-web-include-trumps-secret-super-drug', 'https://www.thedailybeast.com/republicans-have-one-last-chance-to-avoid-looking-like-total-patsies', 'https://www.thedailybeast.com/comedian-tom-papa-theres-nothing-funny-about-donald-trump', 'https://www.thedailybeast.com/anthrax-is-a-bioweapon-could-it-also-cure-bladder-cancer', 'https://www.thedailybeast.com/10-dishes-with-celebrity-chef-eduardo-ruiz-of-las-chicas-tacos', 'https://www.thedailybeast.com/what-the-hell-is-china-doing-on-the-dark-side-of-the-moon', 'https://www.thedailybeast.com/senate-republicans-salivating-over-chance-to-investigate-joe-biden', 'https://www.thedailybeast.com/meghan-markle-is-the-unofficial-patron-saint-of-daughters-with-toxic-fathers', 'https://www.thedailybeast.com/kelly-clarkson-on-how-the-kelly-clarkson-show-became-the-purest-joy-on-tv', 'https://www.thedailybeast.com/bernie-sanders-takes-the-iowa-caucus-in-a-different-realm-transcendental-meditation-town-fairfield', 'https://www.thedailybeast.com/iowa-democratic-party-botches-caucus-ballot-count-gift-joe-biden-a-second-chance', 'https://www.thedailybeast.com/iowa-caucus-night-is-an-utter-disaster', 'https://www.thedailybeast.com/is-the-bachelors-tammy-ly-the-new-villain-of-peter-webers-season', 'https://www.thedailybeast.com/daily-show-trolls-the-hell-out-of-trump-supporters-in-iowa', 'https://www.thedailybeast.com/jeff-bezos-accuses-his-girlfriend-lauren-sanchezs-brother-of-extortion', 'https://www.thedailybeast.com/msnbc-panel-flips-out-after-bernie-sanders-adviser-nina-turner-calls-bloomberg-an-oligarch', 'https://www.thedailybeast.com/thanks-to-trumps-attacks-journalists-now-have-an-official-safety-kit', 'https://www.thedailybeast.com/purples-hybrid-premier-mattress-made-me-a-better-sleeper', 'https://www.thedailybeast.com/a-day-in-the-life-of-bulleit-whiskey-blender-eboni-major', 'https://www.thedailybeast.com/coronavirus-at-umass-boston-raises-transparency-questions-students-say', 'https://www.thedailybeast.com/disneys-hamilton-deal-might-be-one-of-the-biggest-in-movie-history', 'https://www.thedailybeast.com/weinstein-accuser-details-gross-golden-shower-encounter-with-disgraced-film-mogul', 'https://www.thedailybeast.com/fox-news-host-ed-henry-asks-pete-buttigieg-how-can-you-call-trump-racist-after-super-bowl-ad', 'https://www.thedailybeast.com/how-to-watch-the-2020-iowa-caucuses', 'https://www.thedailybeast.com/cdc-coronavirus-boss-nancy-messonnier-calls-spread-unprecedented-as-cases-surge-in-us-and-abroad', 'https://www.thedailybeast.com/billie-eilish-defends-drake-texting-her-everybodys-so-sensitive', 'https://www.thedailybeast.com/susan-collins-campaign-is-being-helped-by-a-mysterious-hawaii-company', 'https://www.thedailybeast.com/bidens-new-hampshire-team-is-ready-to-right-a-damaged-ship', 'https://www.thedailybeast.com/fox-and-friends-defends-trump-for-confusing-kansas-with-missouri-in-super-bowl-tweet', 'https://www.thedailybeast.com/brad-pitt-and-rebel-wilson-mock-the-royals-while-prince-william-and-kate-middleton-grin-and-bear-it-at-baftas', 'https://www.thedailybeast.com/china-arrested-doctors-who-warned-about-coronavirus-outbreak-now-death-tolls-rising-stocks-are-plunging', 'https://www.thedailybeast.com/man-who-bankrolled-brexit-boasted-of-wikileaks-backchannel', 'https://www.thedailybeast.com/he-avenged-his-sons-murderand-exposed-the-opioid-crisis-in-america', 'https://www.thedailybeast.com/ex-google-boss-eric-schmidts-love-life-exposed-by-dirty-hedge-fund-war', 'https://www.thedailybeast.com/help-i-dont-know-any-of-the-drinks-on-this-menu', 'https://www.thedailybeast.com/intoximeters-breathalyzer-giant-accused-of-fraud-wont-come-clean-about-booze-tests', 'https://www.thedailybeast.com/iowa-caucuses-on-the-first-day-of-whats-poised-to-be-the-ugliest-democratic-primary-fight-ever', 'https://www.thedailybeast.com/which-foreign-trolls-will-attack-americas-2020-presidential-election', 'https://www.thedailybeast.com/washington-post-threatened-another-star-reporter-wesley-lowery-over-his-tweets', 'https://www.thedailybeast.com/2020-democrats-iowa-caucuses-momentum-shifts-in-final-frantic-hours', 'https://www.thedailybeast.com/jennifer-lopez-burned-the-super-bowl-halftime-show-to-the-ground-and-gave-the-oscars-the-middle-finger', 'https://www.thedailybeast.com/three-new-cases-of-coronavirus-confirmed-in-california', 'https://www.thedailybeast.com/trump-faces-backlash-over-super-bowl-ad-on-alice-marie-johnson-release', 'https://www.thedailybeast.com/diddy-and-pharrell-accused-of-exploiting-young-black-talent-to-line-their-own-pockets', 'https://www.thedailybeast.com/donald-the-insult-president-targets-mini-mike-bloomberg-and-both-men-end-up-looking-small', 'https://www.thedailybeast.com/doomsday-writer-chad-daybell-claimed-dead-wife-helped-him-find-new-love-lori-vallow', 'https://www.thedailybeast.com/adam-schiff-blasts-republican-senators-for-scolding-trumps-ukraine-scheme-while-letting-him-slide', 'https://www.thedailybeast.com/this-parka-from-target-will-become-your-go-to-like-it-did-mine', 'https://www.thedailybeast.com/man-who-stabbed-several-people-in-streatham-south-london-shot-by-london-police-in-terrorist-incident', 'https://www.thedailybeast.com/when-is-super-bowl-2020-how-to-watch-the-kansas-city-chiefs-and-san-francisco-49ers-face-off', 'https://www.thedailybeast.com/lamar-alexander-says-its-a-mistake-for-trump-to-peddle-russian-propaganda-by-mentioning-crowdstrike', 'https://www.thedailybeast.com/meghan-markle-was-victim-of-explicit-and-obnoxious-racism-former-british-house-speaker-john-bercow-claims', 'https://www.thedailybeast.com/any-child-who-dies-of-hunger-is-a-murdered-child', 'https://www.thedailybeast.com/omg-i-want-this-house-kortessem-belgium', 'https://www.thedailybeast.com/ghent-altarpieces-multimillion-dollar-restoration-reveals-portions-hidden-for-centuries', 'https://www.thedailybeast.com/meghan-markles-friends-are-so-good-at-saying-nothing', 'https://www.thedailybeast.com/why-an-andy-reid-super-bowl-win-would-be-so-sweet', 'https://www.thedailybeast.com/whos-cheering-for-bernie-sanders-to-win-monday-young-lefties-and-donald-trump', 'https://www.thedailybeast.com/our-elections-are-up-for-grabs-once-trump-gets-off-warns-sen-chris-murphy', 'https://www.thedailybeast.com/albert-speer-the-hitler-henchman-who-enabled-the-holocaust-bears-another-look-today', 'https://www.thedailybeast.com/the-wild-and-messed-up-history-of-demonic-pregnancies', 'https://www.thedailybeast.com/bernie-sanders-outshines-vampire-weekend-at-iowa-concert', 'https://www.thedailybeast.com/the-very-best-of-the-2020-sundance-film-festival-from-minari-to-dick-johnson-is-dead', 'https://www.thedailybeast.com/the-cruel-porn-star-shaming-of-san-francisco-49ers-super-bowl-qb-jimmy-garoppolo', 'https://www.thedailybeast.com/trumps-ugly-media-obsessions-are-fat-meghan-mccain-bitch-katy-tur-joe-and-mikas-love-nest', 'https://www.thedailybeast.com/save-your-indoor-plants-from-dying-in-winter-with-an-led-grow-bulb', 'https://www.thedailybeast.com/the-best-hairsprays-for-your-hair-type', 'https://www.thedailybeast.com/buttigieg-and-biden-strike-same-notes-different-tones-in-one-town', 'https://www.thedailybeast.com/snl-alec-baldwins-trump-goes-full-harvey-weinstein-in-mock-impeachment-trial', 'https://www.thedailybeast.com/trumps-gop-just-opened-a-pandoras-box-of-foreign-election-interference', 'https://www.thedailybeast.com/the-best-mens-flannel-shirts-for-layering-or-on-their-own', 'https://www.thedailybeast.com/bernie-sanders-has-an-emerging-surrogate-problem-after-one-of-them-boos-hillary-clinton', 'https://www.thedailybeast.com/who-cares-if-taylor-swifts-netflix-doc-is-calculating', 'https://www.thedailybeast.com/its-high-time-we-made-domestic-terrorism-a-crime-in-the-us', 'https://www.thedailybeast.com/the-scorched-legacy-of-legendary-hollywood-designer-tony-duquette', 'https://www.thedailybeast.com/meet-the-meryl-streep-of-porn', 'https://www.thedailybeast.com/midlife-hits-us-all-but-it-hits-sex-starved-singles-hardest', 'https://www.thedailybeast.com/kitty-green-on-how-so-many-male-hollywood-execs-passed-on-her-weinstein-inspired-metoo-film-the-assistant', 'https://www.thedailybeast.com/an-iowa-first-theyll-be-caucusing-in-mosques-monday-night', 'https://www.thedailybeast.com/colin-kaepernick-taught-us-how-exposed-white-america-truly-is', 'https://www.thedailybeast.com/heres-why-i-left-the-gop', 'https://www.thedailybeast.com/whats-the-difference-between-sateen-and-percale-sheets-heres-a-breakdown', 'https://www.thedailybeast.com/how-to-have-a-great-american-cross-country-road-trip', 'https://www.thedailybeast.com/the-crown-is-wrong-to-end-in-2003-its-just-when-the-royal-family-of-now-gets-interesting', 'https://www.thedailybeast.com/bill-maher-mocks-trump-lawyer-alan-dershowitz-over-creepy-jeffrey-epstein-ties', 'https://www.thedailybeast.com/bernie-sanders-iowa-army-is-effing-pumped', 'https://www.thedailybeast.com/senators-vote-away-their-own-power-to-save-trump-from-himself', 'https://www.thedailybeast.com/trumps-impeachment-acquittal-will-have-real-national-security-consequences-us-officials-warn', 'https://www.thedailybeast.com/the-gop-follows-lamar-alexanders-example-to-bless-trumps-crimes-he-did-it-get-over-it']\n",
            "['Person in Washington State Is First in U.S. to Die From Coronavirus', 'Jackie Speier’s Question to DOJ on Whether Epstein Was FBI Informant Raises Eyebrows in House Intel Committee', 'What’s the Difference Between Memory Foam and Down Pillows? Find Out Which Pillow Works for You', 'Vladislav Surkov, the ‘Puppet Master’ of Putin’s Kremlin, Is Out but His Sinister Policies are Still In.', 'The Next Big Thing in Scotch Whisky Could Be Homegrown', 'How Whitmer Thomas Used Comedy to Survive After His Mom ‘Partied to Death’', 'We Need to Talk About Hillary Clinton’s Disturbing Harvey Weinstein Ties', 'Tony Smith Designed a Stunning Sculpture. It Ended Up at the Scrapyard.', 'Calgary Central Library is One of the World’s Most Beautiful Libraries', 'The Afghanistan Taliban Peace Deal Might Have Been Had Many Years and Thousands of Lives Ago', 'How Bernie Went From Surviving to Thriving In South Carolina', 'At CPAC, They Hate Socialism but Love Bernie Sanders', 'John ‘Sonny’ Franzese, New York’s Last Bigtime Mafia Boss, Gets Sendoff From His ‘Spark Plug’', 'Italy Shows Just How Crazy Coronavirus Panic Can Get', 'In Bernie Land, $42 Trillion in Revenue Pays for $97 Trillion in Spending', 'Cheating Parents Are Robbing the Girl Scouts at Cookie Time', 'Celebrity Endorsements 2020, All the A-Listers Backing Bernie Sanders, Elizabeth Warren, Buttigieg and More', 'There’s an Unexpected Feeling at a Biden Rally: Hope', 'Amy Klobuchar’s Subtle Pitch to Democratic Presidential Primary Voters Is to Let Her Gender Speak for Itself', 'Coronavirus Spreads to Oregon School Worker, Washington Teenager, California Senior', 'Trump Identifies the Real Coronavirus Victim: His Presidency', 'Trump Nominates John Ratcliffe to Be Director of National Intelligence Again', 'Coronavirus Epidemic Is Chinese Leader Xi Jinping’s Epic Fail', 'Custody Battle With Doomsday Mom Lori Vallow’s Niece Airs Claims of Cults, Child-Stealing and Attempted Murder', 'U.S. Navy Coronavirus Quarantine Could Get Ugly', 'Free Bacon and $13 Million in Ads Have Made Tom Steyer a Household Name in S.C.', 'Laura Bassett Accuses MSNBC Host Chris Matthews of Sexually Harassing Her in 2016', 'Normani Addresses Fellow Fifth Harmony Alum Camilla Cabello’s Old Racist Posts: ‘Devastating’', 'Weinstein Juror Says Nude Photos of Weinstein Were a Turn-off for Jury', 'Meghan McCain Compares Herself to Lady Gaga, Says My Husband’s Ex ‘Was Not Happy’ He Dated Me', '‘Visible: Out on Television’: The Entire History of Gay TV, As Told By the Gays Themselves', 'Rep. John Garamendi Threatens to Beat Up Donald Trump Jr. for Claiming Democrats Want Coronavirus Pandemic', 'Nadler Demands Barr Hands Over Trump Messages Related to Stone Sentencing', 'The Coronavirus Stock Market Rollercoaster Isn’t Stopping Anytime Soon', 'My Five Favorite Meals with Chef Daniel Boulud', 'How a Top GOP Recruit Is Getting His Dark-Money Cash', \"Jaffna, Sri Lanka, is the Country's Forgotten Gem\", 'Our Best Hope Amid Coronavirus Fears? For Trump to Quarantine Himself.', 'Mike Bloomberg Is Trump-Loving CPAC’s Favorite Democratic Presidential Candidate', 'TV Superman and Bootleg Buffy Flop in Creepy CPAC Show Intended to Humiliate Trump Foes', 'Porn Stars Are All In on President Bernie Sanders', 'Trump Didn’t Just Botch the Coronavirus Response. He Enabled Its Spread.', '‘Love Is Blind’: Jessica Batten on Dumping Mark, Her Connection with Barnett', 'Please Don’t Make Us Vote for Bernie Sanders, These Carolina Voters Say', 'Trump Campaign’s New York Times Lawsuit Might Be a Nightmare—for Trump', 'Prince Harry and Meghan Markle Say Farewell to Royal Duties, Quietly', 'At CPAC, Romney Is Now a Bigger Conservative Villain Than Socialism', \"Halsey Says She Was Passed Over for Grammy Glory After Slamming President Neil Portnow's Sexism Remarks\", '‘Daily Show’ Grills Black Voters on South Carolina Field', 'Tucker Carlson Turns to AOC Creepshot Guy Eddie Scarry for Coronavirus Expertise', 'James O’Keefe Takes Victory Lap on ABC News Sting, but His Favorite Media Sage Isn’t Celebrating: ‘Good Grief’', 'F.I.T. Students Reveal Why School’s ‘Racist’ Runway Controversy ‘Just Opened Up a Bigger Wound’', 'Authorities Identify Gunman, 5 Victims in Molson Coors Shooting', 'Amid Coronavirus Mayhem, Trump Takes Time to Meet With Actors in ‘Deep State’ Play', 'Dolores Morgan Enlisted Son Ted Connors to Murder Husband, Daughter for Insurance Money, Prosecutors say', 'Doomsday Mom Lori Vallow Told Her Husband’s Kids Their Dad Was Dead Via Text Message', 'Parachute’s New Linen Towels Will Turn Your Bathroom Into a Spa', 'Coronavirus Testing In the U.S. Is Somehow Looking Worse by the Day', 'Even Meghan McCain Thinks Mike Pence Will Screw Up Coronavirus Response', 'Lori Loughlin’s Lawyer: FBI Told College Admissions Scam Artist to Lie', 'Taylor Swift Takes Aim at Scooter Braun, Leonardo DiCaprio, and Kanye West in ‘The Man’ Music Video', 'This Portable Keyboard Folds Down Smaller Than a Paperback and Will Help You Enjoy Typing on Your Phone', 'Meghan Markle Believes She and Prince Harry Are Being Picked On', 'Iran Can’t Hide Its Coronavirus Explosion, But It’s Trying Hard and Putting the World in Danger', 'Bernie Sanders Could Be the First Jewish Nominee—and Get Fewer Jewish Votes Than Hillary Clinton', '10 Rounds with Christopher Longoria Bar Director at Che Fico in San Francisco', '‘Love Is Blind’ Star Giannina Milady Gibelli on That Disaster Runaway-Bride Wedding', 'Coronavirus Could Explode in the U.S. Overnight Like it Did in Italy', 'Anthony Mackie on ‘Altered Carbon,’ Captain America’s Future, and Why He Doesn’t Take His Kids to the Movies', 'Coronavirus Drug Trials, Overseen by Dr. Andre Kalil, Start Testing on Diamond Princess Evacuee', 'We Found Campaign 2020’s Worst Merch, From the Trump Babygro to the ‘Cup O’ Joe’ Biden Mug', 'Stuck in Wuhan, China’s Coronavirus Capital, Russian Models Instagram Their Stories', 'The Miir Camp Cup Keeps Coffee Hot or Cold No Matter Where You Are', 'Michael Bloomberg’s Stop-and-Frisk Word Vomit Is Actually Sad', '‘Daily Show’ Host Trevor Noah Is Terrified by Trump’s Coronavirus Response', 'Can South Carolina Legend Jim Clyburn’s Endorsement Rescue Joe Biden’s 2020 Presidential Campaign?', 'Doomsday Mom Lori Vallow Drops Fight to Stay in Hawaii, Will Return to Idaho to Face Charges', 'Reno, Philly Residents Join Shen Yun Coronavirus Panic', 'Finnegan Elder and Gabriel Natale Accused of Taking an Italian Cop’s Life Fight for Their Lives', 'Molson Coors Rampage in Milwaukee Leaves Five Dead in ‘Horrific’ Shooting', 'Here’s How Bernie Sanders Plans to Ruin His Rivals’ Homecomings', 'Lori Isenburg Charged With Murdering Husband Larry Isenberg, Who Was Found Dead in Lake, Cops Say', 'MSNBC Benches Contributor Jason Johnson, Who Said Bernie Sanders Staffers Are ‘Island of Misfit Black Girls’', 'Donald Trump Takes Coronavirus So Seriously He Just Put Mike Pence in Charge of Fighting It', 'Meet Harikrishnan, the Designer Behind the Internet’s Favorite ‘Ballbottom’ Pants', 'Alleged Ex-Atomwaffen Division Leader and Other Members Arrested, Charged in FBI Crackdown', 'Glenn Beck, Steve King Go Conspiracy Crazy Over DHS Official’s Death', '‘The View’ Warns Warren About Going After Bloomberg, Tells Her She Must ‘Be Very Careful’', 'Barstool Sports Goons Follow Founder Dave Portnoy’s Order to ‘Attack’ NASCAR Reporter', 'Howard Stern Calls Out Staffer’s Racist Remark About BTS, Coronavirus', 'Fixing the Craft Cocktail Menu', 'Clearview AI, Facial Recognition Company That Works With Law Enforcement, Says Entire Client List Was Stolen', 'Prince Harry No More as Mr. Windsor Declares ‘Call Me Harry’', 'The Working-Class People of Russia Give Putin the Finger in New Documentary', 'The 8-Year-Old Boy Brutally Tortured and Killed by His Own Mother Because She Thought He Was Gay', 'Inside the Living Hell of London in The Plague Year', 'Bats Are Being Blamed for Coronavirus. Bat Lovers Are Freaking Out.', 'Jason Blum on ‘The Invisible Man’s’ #MeToo Message and Elisabeth Moss’ Scientology Ties', 'Harvey Weinstein Is in for a Rude Awakening on Rikers Island', 'Harry and Meghan ‘Megxit’ Will Help Future ‘Royal Spares,’ Says Queen’s Biographer Robert Lacey', 'Stephen Colbert Booed for Brutal Takedown of Bloomberg’s Debate Performance', 'Chris Matthews Ask Elizabeth Warren Why She Believes a Woman Over Bloomberg', 'Elizabeth Warren Inspired a Democratic Debate That Fucking Sucked', 'Desperate Dems Wanted a Debate. They Got a Trainwreck Instead.', 'Biden Clings on for Last Stand Against Sanders', 'Seth Meyers Mocks Mike Bloomberg’s Terrible Twitter Jokes About Bernie Sanders', 'Elizabeth Warren Decides to Murder Michael Bloomberg, 6 Days After Killing Him', 'Lucas Hnath Turns His Mother’s Brutal Kidnapping Into the Stunning Play ‘Dana H.’', 'Bernie Gets Gang-Tackled Out of the Gate at South Carolina Debate', 'Ambra Gutierrez Says DA Cy Vance Should ‘Absolutely’ Resign for Dropping Her Harvey Weinstein Case', 'The One Corporate Tax ‘Shelter’ Bernie Sanders Supported Is Vermont’s', 'Singer Duffy Says She Was Raped, Drugged, Held Captive', 'Dior Is Selling Feminism on the Paris Runway. Are We Buying It?', 'Pete Davidson Says He Was ‘Forced to Apologize’ to Dan Crenshaw in New Netflix Special', 'Mike Bloomberg Said in 2006 John Bolton Did ‘a Great Job’ at United Nations', \"Trump Hints Coronavirus Vaccine Is ‘Very Close.’ Here's the Scarier Reality\", '‘The Bachelor’-verse Alum Chad Johnson Arrested for Domestic Violence', 'Donald Trump Celebrates Harvey Weinstein Verdict by Slamming Democrats', 'Whoopi Goldberg Goes Off on Bernie’s Castro Remarks, Says ‘There’s Nothing Groovy About a Dictatorship!’', 'Sasha Krause, Missing Mennonite Woman, Was Kidnapped and Murdered, Police Say', 'Pedophile Politicians Were Shielded From Justice by the Establishment, Says British Child-Abuse Inquiry', 'Progressive Groups Launch Medicare for All Ad Blitz', 'The Tyranny and Tragedy of Hosni Mubarak, an Obituary', 'Gwyneth Paltrow’s Vagina Candle Is Back in Stock, She Tells Jimmy Kimmel', 'It’s Time for Elizabeth Warren to Burn the Bernie Bridge', 'Pamela Adlon on ‘Better Things,’ ‘King of the Hill,’ and Why She’s Still ‘Proud’ of Her Work With Louis C.K.', 'China’s Paranoid Party Line: America Is the Enemy and Needs to ‘Butt Out’', 'Pentagon Preps Nuclear Moon Rocket', 'Michael Bloomberg’s Campaign Is Enraging the Homeless Community', 'Elizabeth Warren Built an Unrivaled Ground Game. Here’s Why it Failed.', 'Trump’s Post-Impeachment Staff Purge Has Folks in Ukraine Nervous', 'South Bend Has a Lead Paint Crisis. Where Was Mayor Pete?', 'The 2020 Race Has Become The Cable News Primary', '‘Burden’ Is a Truly Appalling White Supremacist Redemption Movie', 'Kobe and Gianna Bryant Memorial Attendee Says ‘I Came Down Here Just to Feel the Energy’', '‘The Bachelor’ Chaos: Did Peter Weber’s Disastrous Sex Confession Ruin Everything?', '‘Daily Show’ Host Trevor Noah Brutally Mocks Trump for ‘Butchering’ India Speech', 'Seth Meyers Unloads on Chris Matthews for ‘Deranged’ Bernie Sanders Attacks', '‘Cambodian Rock Band’ Makes Music From Khmer Rouge Horrors, and Hero Worship in ‘All the Natalie Portmans’', 'Did New Spy Chief Richard Grenell Advise George Clooney?', 'Bernie Sanders Staffer Mocked Elizabeth Warren’s Looks, Pete Buttigieg’s Sexuality on Private Twitter Account', 'MSNBC’s Chris Matthews Apologizes to Bernie Sanders for Nazi Analogy, Saying ‘Senator Sanders, I’m Sorry’', '‘Guns Akimbo’ Director Jason Lei Howden Tries to Combat Online Bullying by Bullying', 'Don’t Tell Me to Be Happy About the Harvey Weinstein Verdict', 'Rosie Perez, Ashley Judd Applaud Harvey Weinstein’s Guilty Verdict', 'This Policy Change Could Be the Solution to Our Physician Shortage', 'U.S. Coronavirus Cases Jump Again as More Diamond Princess Passengers Test Positive', 'The Supreme Court ‘Fulton’ Case Is About Anti-LGBTQ Discrimination—Not ‘Religious Freedom’', 'Donald, Melania, Ivanka, and Jared Visited the Taj Mahal. Their Poses Spoke Volumes.', 'Jussie Smollett Pleads Not Guilty (Again), Released to Await Trial', 'Meghan McCain Says It’s ‘Really Hard’ to Decide if Bernie or Trump Is ‘More in the Tank for Russia’', 'Harvey Weinstein Guilty of Rape, Criminal Sex Act at Watershed Trial', 'Dow Plunges as Italy, South Korea, Iran Coronavirus Outbreaks Cause Global Panic', 'Prince Harry and Meghan Markle Urged: ‘Be More Gracious’', 'A Day in the Life of Star D.C. Chef Kwame Onwuachi from restaurant Kith and Kin', 'Can the Center-Lane Democrats Get Their Sh*t Together and Unite? Unlikely.', 'A Small-Town Louisiana Cop’s Fight to Stop Angry Men With Guns From Killing Women', 'The Republican Party’s Biggest State Investment So Far In 2020 Will Surprise You', \"If Bernie's the Nominee, there's a New Red Scare Coming\", 'Vladimir Putin Sent Her Activist Boyfriend to the Arctic Circle. Now She Wants to Go, Too.', 'Can AOC Inspire Female 2020 Candidates to Dress How They Damn Well Want?', 'Japan’s Coronavirus Cruise Ship Debacle Shows Epidemic Can Be a Gift for Would-Be Dictators', 'Kobe and Vanessa Bryant Had a Complicated Love Story', 'trust and will easy living trust', 'John Oliver Urges the Country to Not Vote for Mike Bloomberg', '‘The Walking Dead’ Premiere’s Insane Sex Scene Might Foreshadow a Major Death', '‘Undine’ Is a Mermaid Love Story Unlike Any You’ve Seen', 'Bloomberg Killed the Best Chance at Justice for the 9/11 Attacks', 'Anand Giridharadas, MSNBC Analyst, Calls Out Chris Matthews for Comparing Bernie Win to Nazi Invasion', 'Chris Wallace Relentlessly Grills Marc Short on Russia Briefing, Asks ‘You Say None of This Happened?!’', 'Prince Harry and Meghan Go to War With the Royals—and Sabotage Themselves', 'Why a Pair of Legendary Directors Took on Islamic Terrorism', 'Coronavirus Explodes in Italy, Threatening Europe. Can It Be Contained?', \"Los Angeles' First Olympics Changed it Forever\", 'Inside the Lachish Temple, the Earliest Example of the Letter Samekh', 'One of Jane Austen’s Most Famous Women Is Actually a Total ‘Dick’', \"School Vouchers Are Just Code for 'Segregation Forever'\", 'OMG, I Want This House: Palm Desert, CA', '#NeverTrumpers Never Had a Chance, but Consultants Still Cashed In', 'Samuel Heber Butler Beat Sex Allegations in Utah for Years. A 6-Year-Old May Change That.', 'I Love These Women-Only Sex Orgies. But Where Are the Lesbians?', \"Netflix’s ‘Gentefied' Is a Brilliant Answer to Latino ‘Trauma Porn’\", 'This Is What Three Years of Trump Ravaging the Earth Looks Like', 'Flat-Earther ‘Mad’ Mike Hughes Killed in Barstow Rocket Crash', 'Trump Is Lobotomizing Our Government', 'This Is the Only Move That Will Stop Bernie Sanders Now', 'Bernie Sanders Runs Away With Nevada Caucuses; Cements Status As Democratic Frontrunner', 'Trump’s National Security Adviser Robert O’Brien Conveniently Forgets His Boss’ Ties to Russia', 'Chris Matthews Likens Bernie’s Strong Nevada Showing to France Falling to Nazi Germany in WWII', 'The 7-Year-Old Trans Girl That’s Captivated the Berlin Film Festival', '20-Year-Old Woman, Boyfriend Arrested in Las Vegas After Calif. Rental Dispute Triple Homicide', 'Myriam Gurba, Author Who Sparked ‘American Dirt’ Controversy, Placed on Leave Amid Calif. Teacher Abuse Probe', 'In South Korea, Coronavirus Meets the Second Coming', 'The Best Men’s Compression Socks for Workouts, Travel, and Everything in Between', 'Critics Trashed Dee Rees’ Ambitious New Netflix Movie. But It’s Much Better Than You’ve Heard.', 'After Coronavirus, Locusts Could be the Next Plague to Hit China', 'Bernie 2016 Wanted DNC to Change the Rules, Bernie 2020 Just Wants to Win', 'Did Rome Archeologists Uncover Proof of Romulus?', 'LA Burlesque: Beyond Bumping and Grinding in the City of Angels', \"Democrats Are the Real 'Party of Life'\", 'Will ‘Medicare for All’ Doom Bernie Sanders and Elizabeth Warren in Nevada?', 'Bloomberg’s Money Won’t Right the Wrong of ‘Guantanamo-on-Hudson’', 'Netflix’s ‘Unabomber: In His Own Words’ Reveals Ted Kaczynski’s Plan to Team Up With Muslim Terrorists', 'Inside Georgina Bloomberg and Ivanka Trump’s Filthy Rich Friendship', 'The Mysterious Death of Pop Smoke, a 20-Year-Old Viral Rap Sensation', '‘Black Milk’ Is a Feminist Saga About a Woman Who Repels Bad Men With Black Breast Milk', 'Donald Trump, Hater of ‘Parasite,’ Has the Absolute Worst Taste in Movies', 'Team Bernie Fingers Richard Grenell for Leaking Russia Story', 'MSNBC Star Dr. Jason Johnson’s Misogynistic Smear of Bernie Sanders Staffers: ‘Island of Misfit Black Girls’', 'Jeremy Christian, White Nationalist, Convicted of 2017 Portland MAX Train Stabbing', 'The Best New Launches from PUMA, Everlane, Bombas, and More', 'Coronavirus Now a ‘Tremendous Public Health Threat’: CDC', 'Weinstein Jury Appears Deadlocked on Most Serious Charges Against Disgraced Mogul', 'Fox News Anchor Chris Wallace Says Trump Has ‘Good Reason’ to Be ‘Paranoid’ About Pelosi and Schiff', 'Broadway’s ‘West Side Story’ Mess Continues as Dozens Protest Opening Night', 'The Daily Beast Staff’s Pop-Culture Obsessions of the Week', 'How Amy Klobuchar’s Signature Bill Became a Disaster for Her Own Party', 'Condé Nast Agrees to End the Use of NDAs Across the Entire Company', 'This Drying Rack Changed My Entire Kitchen Routine', 'Biden Campaign Repeating Iowa Mistakes in Nevada', '10 Rounds with Onofrio Raimondi the head bartender at Fiola in Washington, D.C.', 'Inside Netflix’s Reality-TV Invasion ‘The Circle,’ ‘Love Is Blind,’ ‘Queer Eye’ and Beyond', 'Elizabeth Warren Wanted to Be The Unity Candidate. Now, She’s Playing for Keeps', 'Dems Swarm Nevada, Where Trump Could Shock with Latino Voters', 'Coronavirus Is a Ticking Time Bomb for America’s Uninsured', 'Why Amazon’s Nazi-Killing Show ‘Hunters’ Is So Much More Satisfying Than ‘Jojo Rabbit’', 'Ilhan Omar’s Challenger Danielle Stella Is Literally On the Run From the Law', '‘Sussex Royal’ Is Dead. Long Live Harry and Meghan!', 'Trump’s Fury at Intel Briefing Shows Vladimir Putin’s Bet Keeps Paying Off', 'Pete Buttigieg Fires Back at Rush Limbaugh’s Homophobic Attacks on ‘Ellen’', 'Doomsday Mom Lori Vallow Arrested in Hawaii for Failing to Produce Missing Kids', 'Trump Attacks Fox News’ Neil Cavuto at Rally, Fox Personalities Immediately Jump to Cavuto’s Defense', 'Roger Stone Judge Amy Berman Jackson, Look Out, America, ABJ Is the New RBG', 'NYT Publishes Taliban ‘Terrorist’ Op-Ed, All Hell Breaks Loose', 'Ivo van Hove’s ‘West Side Story’ Broadway Revival Aims to Shock, but Ends Up Lost in Time', '‘No Evidence’ for Bernie Sanders’ Russian Bot Claim, Experts Say', 'Russia Is Helping Elect Trump Again, Intel Official Says', 'Why I Chose The Arlo Pro 3 Security System for My Home', 'HBO McMillions timeline', 'Bloomberg Staffers Dispute That He Pays Women Equally', '‘Why Not?’— Team Trump’s Plans to Attack Bloomberg for Racist, Sexist Things Trump Has Also Done', 'Iowa Professor Gowun Park Bound and Gagged Husband Before His Death, Authorities Say', 'Sonam Saxena, Seattle Google Manager, Arrested After Wife Smriti Saxena’s Body Found on Hawaii Beach', 'Fox News Anchor Harris Faulkner Says Trump Shouldn’t Pay Any ‘Political Price’ for Pardoning Roger Stone', 'White Guys Get Pardons, Black Folks Get a Super Bowl Commercial', 'Ruth Bader Ginsburg Hails ‘Groundswell of Ordinary People’ Fighting for Women’s Equality at DVF Awards', 'Matt Gaetz Embarrasses Himself on ‘The View’', 'Financially Plagued GOP Group Turns to Trump to Save It', 'Racist German Shooter Tobias Rathjen in Hanau Exposes the Global Network of Hate', 'Trump Ally Roger Stone Gets 40 Months for Lying, Witness-Tampering', 'Elizabeth Warren Brings Her Bloomberg Knockout Punch to ‘The View’', 'Katie Hill Speaks Out: Rampant Biphobia Forced Me Out of Congress', 'Ozzy Osbourne: ‘I’m in Unbelievable Pain 24/7,’ but I’ll Be Back', 'Colombia’s Drug-Funded ELN Rebels and FARC Dissidents Are Back in Action Big-Time', 'Life in the Cañada Real, Europe’s Largest Shanty Town as Photographed by Its Children', 'Trump Confesses to Just How Bigly the Olympics Screws Over the Poor', 'Follow Jane Fonda and Sharon Osbourne’s Hair Example. Go White, Not Gray.', 'The Wuhan Coronavirus Is Spreading from China to the U.S. Here’s What You Need to Know', 'The Battle Over Jane Austen’s Whiteness', 'Dwyane Wade’s Acceptance of His Trans Daughter Zaya Triggers Ugly Hip-Hop Hate from Boosie, Young Thug', 'The Vegas Debate Showed That Democrats Are Missing the Ingredient That Will Defeat Trump', 'You Counted Elizabeth Warren Out? Big Mistake.', 'CNN’s Van Jones Says ‘Titanic’ Bloomberg Was Hit by ‘Iceberg Elizabeth Warren’ at Debate', 'Bloomberg Spent Hundreds of Millions to Get His Ass Kicked at Democratic Debate', 'Mayor Pete Buttegieg and Senator Amy Klobuchar Have Pure Hatred For Each Other', 'Elizabeth Warren Torches Michael Bloomberg on #MeToo and Secret Settlements', 'Trump’s Choice for Intel Chief, Richard Grenell, Leaves Officials ‘Blindsided’', 'Bernie: Some of My Angriest Online Bros May Be Russian Bots', 'Bloomberg Gets Savaged Seconds Into Nevada Debate', \"Oracle's Larry Ellison Criticized by Employee for Trump Fundraising\", 'Why ABC News Icon Sam Donaldson Is Backing Bloomberg to Beat ‘Sick’ Trump', 'Bill Barr Is Not Quitting—He’s Doing Some Weapons-Grade Gaslighting of America', 'The Best Indoor and Outdoor Thermometers for Every Situation', 'DeMarcus Little Named Person of Interest in Death of Anitra Gunn, Authorities Say', 'How to Watch, Stream the 2020 Nevada Democratic Presidential Debate', '‘The View’ Host Meghan McCain Confronts Alexandria Ocasio-Cortez: How Do You Defend ‘Bernie Bros?’', 'University of Michigan Hit by Second #MeToo Scandal in a Month', 'Trump Offered Assange Pardon if He Covered Up Russian Hack, WikiLeaks Founder’s Lawyer Claims', 'E. Jean Carroll Claims Elle Magazine Fired Her Over Donald Trump Smear Campaign', 'Ben Affleck Gets Candid About His Alcoholism and the ‘Biggest Regret’ of His Life', 'At Debate, Bloomberg Must Answer for Muslim Surveillance Program', 'Bernie Sanders Campaign Says Asking for His Health Records Is a ‘Smear’ Like Birtherism', 'Prince Harry and Meghan Markle Banned From Trading Off Sussex Royal Name', 'What to Drink at Brooklyn’s New Bar Goto Niban from Bartender Kenta Goto', 'Savage Bloomberg or Criticize Bernie? Dems Like the Easy Option in Next Debate', 'How I Got Lost in British Columbia', 'Gray Ellis Could Make Transgender Political History in North Carolina. It’s Very Personal.', 'Roger Stone Allies Optimistic ‘Thoughtful’ and ‘Judicious’ Trump Will Save Convicted Pal After Clemency Blitz', 'The Democrats’ Surest Path to Victory Is Clear, Defend the ACA from Trump’s Attacks', 'Barney Frank Says Democratic Primary Voters Are the Problem in the 2020 Election', 'Could ‘Love Island’ Host Caroline Flack’s Death by Suicide Urge a Reality TV Reckoning?', 'Bernie Kerik Was as Corrupt as They Come, Just Like Trump', 'Why Rosario Dawson and Jameela Jamil’s ‘Coming Out’ Moments Ring Hollow', 'Ex-Boyfriend Gareth Pursehouse Allegedly Threatened Amie Harwick Years Before Her Murder', 'Russian Intelligence Recruited Mexican Man to Spy on FBI Informant in Miami, Feds Say', 'Cardi B’s Pal Star Brim Charged in Sweeping Bloods Gang Bust', 'Trump Pardons Crooks to Feel Like a King', 'Hayden Panettiere’s Boyfriend Arrested After Allegedly Punching Her', 'Coty Scott Taylor, Who Killed Himself in Home, Abducted, Asphyxiated Faye Swetlik, Authorities Say', \"The GOP Doesn't Need Trump—It's Already Rigged the System\", 'Trump Grants Clemency to Blagojevich, Kerik, Milken and Other People He Saw on Fox News', 'U.S. Coronavirus Cases Nearly Double With No End in Sight', 'Trump Grants Clemency to Former NYPD Boss Bernie Kerik, Former Illinois Gov. Rod Blagojevic, and 9 Others', 'Rush Limbaugh Claims Trump Told Him to ‘Never Apologize’ for His Homophobic Buttigieg Remarks', 'Can Hasan Minhaj and Kenan Thompson Actually Save the White House Correspondents’ Dinner?', 'Meghan McCain and Joy Behar Blow Up Over Bloomberg and Trump: ‘None of Your Business!’', 'Ivanka Trump Finally Found Her Perfect Quid-Pro-Quo Pals', 'Kenan Thompson, Hasan Minhaj Will Bring White House Correspondents Dinner Back to Comedy', 'David Linley Splits From Wife Serena as Another Divorce Rocks the Royals', 'Inside the High Stakes Missions of NASA’s Oldest Deep-Space Probes', 'Can German Activists Stop the Neo-Nazi Resurgence?', 'It’s Suddenly Obvious: Amy Klobuchar Is the Democrats’ Best Bet', 'Why Does Whiskey Taste Like Whiskey? An excerpt from Lew Bryson’s new book “Whiskey Master Class”', '‘True Grit’ Author Charles Portis, a Comic Genius, Is Dead', 'Ben Schwartz Talks Billy Crystal, ‘Sonic the Hedgehog,’ ‘Star Wars’ and ‘Parks and Recreation’', 'Fox News Keeps Rudy Giuliani On-Air Despite Internal ‘Disinformation’ Docs', 'Chronic Illness Influencers Say Being Sick Made Them Famous—and a Target of Trolls', 'Actor Ethan Suplee Knows Body Transformations Like His Are Not for Everyone', 'Right-Wing Activists Discussed Wiretapping Seth Rich’s Family, Three People in the Room Say', '‘Dracula’ and ‘Frankenstein’ Team Up in NYC—With Mixed Results, and ‘Happy Birthday Doug’ Tells Gay Truths', 'I Loathe Mike Bloomberg. But He’s Doing One Thing Right.', 'Amie Harwick, Slain Hollywood Sex Therapist, Asked Court to Protect Her From Ex-Boyfriend', 'Coronavirus Snafus on Diamond Princess and MS Westerdam Stoke Fears of Global Pandemic', 'Trump Gives Up on ‘Endless Wars’—and Russia, China, and Iran Move In', 'Andrew Sabisky Wrote that Black Americans Are Dumber Than White Americans', 'Elton John Tearfully Walks Off Stage, Suffering Pneumonia. Can He Really Tour For Another Three Years?', 'Uber’s Autonomous Cars Are Back—and I Took One for a Test Drive', 'Did the CIA’s Dr. Frank Olson Jump to His Death or Was He Pushed?', 'Here’s Why Winning an Election Might Destroy Your Marriage—If You’re a Woman', 'How to Drink Vodka like a Russian an Excerpt from the New Book “Beyond the North Wind” by Darra Goldstein', 'Forget Fake News: Why We’re Wrong About Nearly Everything', 'Lise Meitner Helped Discover Nuclear Fission—and Was Then Forgotten', 'Ronald Reagan’s Daughter Patti Davis: Presidents Didn’t Used to Be Dictators', 'Why Are Hollywood Celebs Backing a Socialist in California?', 'The Creepy Cult of Onision, A ‘Body Positivity’ YouTube Star Accused of Preying on Young Girls', 'Trump’s Top Trade Adviser Peter Navarro Has a Side Project: Secretly Hunting for ‘Anonymous’', 'John Oliver Absolutely Goes Off on Susan Collins, Fox News in ‘Last Week Tonight’ Return', 'Hollywood Sex Therapist Amie Harwick Plunges to Death, Ex-Boyfriend Arrested', 'Democrats Come Up With an Election System That Could Hand Victory to Trump', 'MS Westerdam Passenger’s Coronavirus Diagnosis Raises New Fears', 'Joe Biden Claims Bernie Sanders Has ‘Never Gotten Anything Done’ on Health Care', 'Kate Middleton: Why I Tried Hypnobirthing, and How I Deal With ‘Mom Guilt’', \"Probation Officer on How to Destroy Prison's Revolving Door\", '‘Chinatown’: The Twisted Characters Behind a Hollywood Masterpiece', 'Lizzo, Billy Porter, and Kristen Wiig Bring Evening Gloves to The Red Carpet', 'In Gustav Klimt Painting Mystery, Italian Police Question Wife of Late Museum Curator', 'Bill Barr Just Cost DOJ Its Prized Public-Corruption Fighter', 'OMG, I Want to Rent This House: Playa Flamingo, Costa Rica', 'Eliseo Gil Trial Highlights How Forgers Prey on True Believers', 'The Luxury City Is Going Bust', 'Confronting ‘Fantasy Island’s’ Thorniest Legacy: Herve Villechaize, Sex, and Disabled Representation', \"Donald Trump's Shady Bid to Divide Black Voters and Conquer the Dems\", 'Our Picks from The Best Presidents’ Day Sales', 'The Women Fighting to Expose Olympic Taekwondo Legends Steven and Jean Lopez as Predators', '‘Photographer’ Juliette Parker Drugged New Mom, Planned to Steal Baby, Cops Say', 'Former National Security Director John Negroponte’s Daughter Sophia Charged With Maryland Murder', 'Second Teenager Charged With Murder of Barnard College Student Tessa Majors in New York', '‘Cokehead, Womanizing, Fag’: Michael Bloomberg’s Book of ‘Wisdom’ Resurfaces', 'Joe Hill Reveals the Secrets of Netflix’s ‘Locke & Key’ and the Comic Book Series’ Future', \"Eating at Denny's. Sleeping at Walmart. What Could Go Wrong?\", 'Is ‘Beanpole’ the First Great Movie of 2020?', 'Bill Barr Is Wrecking the Justice Department, And It May Never Recover', 'The Ancient Sculptor Who First Disrobed Aphrodite, the Goddess of Love', 'Beijing’s Deadly Mistakes on Coronavirus', 'In Mike Bloomberg, Are Democrats Now Turning to an Authoritarian of Their Own?', 'Ukrainian Oligarch Rinat Akhmetov Bought the Most Infamous Mansion on the Riviera', 'The Scandal Rocking California’s Weed Industry', 'Hollywood’s Vain Obsession With Celebrating Itself', 'Bill Maher Booed for Defending Mike Bloomberg’s Racist Stop-and-Frisk Comments', 'Justin Bieber’s ‘Changes’ Sees the Pop Star Wifed-Up and No Longer the Swingin’ Dick', 'The Best New Launches from Serena Williams for Away, W&P, and More', 'Anna Invictus Slams White Supremacist Augustus Sol Invictus, Calls Him a ‘Master Manipulator’', 'Federal Judge Blasted DOJ for Leaving Andrew McCabe in ‘Limbo’', 'Kristen Bell Deserves an Emmy Nod for ‘The Good Place’ Finale', 'Michael Avenatti Guilty on All Counts in Nike Extortion Case', 'Case of 6-Year-Old Faye Swetlik ‘Linked’ to Coty Scott Taylor, Neighbor Found Dead in Home, Authorities Said', 'Justice Department Won’t Charge Former FBI Deputy Director Andrew McCabe in Lying Case', '‘The View’ Hosts Meghan McCain and Joy Behar Explode Over Bloomberg and Trump', 'Harvey Weinstein Was an ‘Abusive Rapist’ Who ‘Stepped on’ Women, Prosecutors Allege at Rape Trial', 'Dem Pro-Israel Group Goes on Air in Nevada Attacking Sanders', 'Dick Pics Doom Benjamin Griveaux, President Emmanuel Macron’s Chosen Candidate for Mayor of Paris', 'Let’s Be Real: Chris Messina Is the Best Hollywood Chris', '‘Cherries Doe’ Tattoo Revealed in New York Cold Case That May Be Tied to Gilgo Beach Serial Killer', 'Condé Nast Backs Vanity Fair Editor Radhika Jones as Rumors of Her Exit Swirl', 'General John Kelly, Trump Stooge, Is No Lieutenant Colonel Alexander Vindman, Patriot', 'Grab Brooklinen Sheets and Towels While They’re on Sale', \"Sir John Soane's Museum: This Architect’s House Will Leave You Reeling With Wonder\", 'Can Craft Beer Survive the White Claw Hard Seltzer Craze?', 'How the Horror of Parkland Led Bill Galvano to Buck His Party on Gun Laws', \"On the Border in Trump's Twilight Zone for Migrants Where No One’s In Charge\", 'Sergio Hudson Wants to Be The Next Versace. Michelle Obama and Beyoncé Approve.', '‘Sanctuary City for the Unborn’ Is the Wacky New Anti-Abortion Tactic Taking Off Across America', 'U.S. Readied Sanctions on Russian Oligarch Oleg Deripaska’s Associates, Then Mysteriously Backed Off', 'Short People Are Pissed at Trump for His Bloomberg Height Attacks', '‘The Photograph’ Is the Rare Hollywood Movie Showing Modern Black Love. If Only It Were a Better Film.', 'Prince Harry and Meghan Markle Reveal True American Loyalties in ‘Megxit Bloodbath’', 'Mike Bloomberg Once Said Taking From the Rich Was a Bigger Problem Than Income Inequality', 'I Was a Sonic Kid. The New ‘Sonic the Hedgehog’ Movie Haunts (and Fascinates) Me.', 'Seth Meyers Mocks Trump’s ‘Very Dumb Obsession’ With Badgers', '‘Daily Show’ Host Trevor Noah Takes Mike Bloomberg to Task for Stop and Frisk', 'Lou Dobbs Loses It Over Bill Barr’s Criticism of Trump’s Tweets, Attacks ‘Rancid’ Justice Department', 'Trump’s New York Shakedown Shows He’ll Never Get Out of the Gutter', 'Billie Eilish’s Bond Theme ‘No Time to Die’ Is Sleek, Sexy, and a Bit of a Bore', 'Former Self-Driving Car Operator Engineers Crash in Tempe, Cops Say', 'Nevada’s Most Powerful Union Endorses...No One', 'Rogue Professor Ran Sexual Arousal Experiments on Disabled Patients in Iowa, Suit Claims', 'Faye Swetlik’s Body Found in Her South Carolina Neighborhood', 'Fox News Anchor Harris Faulkner Says Roger Stone Controversy Would Be ‘Avoidable’ if Trump Just Pardons Him', 'Everyone Came to Gayle King’s Defense Against Snoop Dogg Except ViacomCBS Bosses', 'A Top WH Official, a Pentagon Lobbyist, and a ‘Pawn Star’ Tried to Enlist Trump in a West Wing Reality Show', 'Trump Critics Join Donald Trump in Dunking on Former WH Chief of Staff John Kelly', 'Joe Biden Bombs Big Time on ‘The View’', 'A Valentine’s Day Gift Makeover', 'Trump Plans to Use National Guard Budget for Border Fencing', 'Harvey Weinstein’s Defense Team Tells Jurors to Forget Their ‘Gut Feelings’', 'Coronavirus Keeps Spreading With New Cases in California and Texas', 'Michigan Mom Who Brought Young Daughters Along to Dump Dad’s Body Nabbed in Italy After 18 Years on the Run', 'Target Launches New Travel Brand to Upgrade Your Entire Luggage Collection', 'Sean Spicer Finally Gets a TV Show, but It’s Only on Newsmax', 'The Noise Complaints and Car Bombing That Rocked a Tiny New England Town', 'The U.N. Is Playing Hunger Games With Desperate Migrants in Libya and Displaced Persons in South Sudan', 'Netflix’s ‘Love Is Blind’ Is a Delightfully Weird, Chaotic Cousin to ‘The Bachelor’', 'Ayanna Maertens-Griffin, Joel Bianda Found Slain on Highway', 'Why Gretchen Carlson Can’t Tell You the Full Truth About Fox News', 'Freshly Acquitted Trump Will Now Face GOP Defiance on Iran', '‘Little America’s’ Kumail Nanjiani and Emily V. Gordon Say Hollywood Is ‘Scared’ of Telling Immigrant Stories', 'Why Is Iran Now Pushing Right-Wing Fake News?', '‘Narcos: Mexico’ Season 2 on Netflix Is More Bloody, Druggy, and Chaotic Than Ever', 'One of Amy Klobuchar’s Biggest Backers Is ‘the Worst Company in the World’', '‘Daily Show’s’ Trevor Noah Explains Why He ‘Feels Bad’ for ‘Black Pinocchio’ Jussie Smollett', 'Colorado Cops Say They Don’t Think Missing 11-Year-Old Gannon Stauch Was Abducted', 'Jeff Bezos Unloads $4.1 Billion in Amazon Stock, Buys LA’s Most Expensive House Ever', 'Bernie Sanders Fires Back at James Carville, Calls Him a ‘Political Hack’', 'Miley Cyrus Walks the Runway for Marc Jacobs. Plus, Fe Noel and Sukeina Close Out New York Fashion Week', 'MSNBC’s Chuck Todd Says ‘I Don’t Understand How Bernie’s Considered a Frontrunner’', 'Trump DGAF About Roger Stone or Justice. Here’s the Proof.', 'Mark Zuckerberg’s Private Notebook Shows Fixation on Illusion of Privacy', 'Gary Walker Charged In Gruesome Murder of a Woman Found in a Suitcase', 'Trump Reveals the ‘Lesson’ He Learned From Impeachment', 'Army Isn’t Investigating Lt. Col. Alexander Vindman, Despite Trump’s Tweets', 'Video Shows Minutes Before 6-Year-Old Faye Swetlik Vanished From Her Yard in South Carolina', 'Brewing Coronavirus Mutiny at California Marine Base Slams CDC Response', 'At NYFW, Michael Kors’ Not-So Wild West, Christian Cowan’s Pop Star Appeal, and Aliétte’s Red Carpet Glamor', 'Rush Limbaugh Claims ‘Mr. Man’ Trump Will ‘Have Fun’ With ‘Gay Guy’ Buttigieg Kissing His Husband', 'Trump Turns to Tucker Carlson to Help Decide Roger Stone’s Fate', 'This Samsung Smartwatch Tracks Everything In Your Life', 'Rose McGowan Rips Natalie Portman’s Oscars Cape: ‘You Are the Problem’', 'San Bernardino Cops Chasing Serial Killer Gang Who Killed Middle-School Teacher Nancy Magana and 2-Year-Old', 'With a Big ‘No’ to Married Priests, Pope Francis Shows That, Yes, He’s Still Catholic', 'Staff Photos from Jeffrey Morgenthaler, bar manager of Portland, Oregon, bars Clyde Common and Pépé Le Moko', '‘VFW’ Sees Grizzled Boomers Get Their Bloody Revenge on Opioid-Pushing Millennials', '‘To All the Boys: P.S. I Still Love You’ Proves Teen Romance Can Be Very Boring', 'Zach Woods, Hollywood’s Favorite Awkward Tall Boy, Should Maybe Be Its Spiritual Guru Instead', 'Nevada Is Do-Or-Die for Elizabeth Warren ‘If She Can Even Make It Here’', '‘Jojo Rabbit’ and the Oscars’ Other Big Diversity Problem', 'Why Does Trump Want to Spend Billions on New Nukes?', 'Mike Bloomberg Can’t Hide How He Helped Terrorize Black People With Stop and Frisk Policing', 'Accused Marie Yovanovitch ‘Stalker’ Robert Hyde Now Supplying Documents to Congress', 'Oklahoma’s Universal Aryan Brotherhood Gang Allegedly Murdered Member Over Broken Air Conditioner', 'Jeanna de Waal Stars as Princess Diana on Broadway. ‘It Is Done With Tact. No One Is Playing a Caricature.’', 'Jimmy Kimmel Attacks Trump for Calling Mike Bloomberg a ‘Total Racist’', 'Bernie Sanders Wins New Hampshire Primary, Can’t Shake Pete Buttigieg and Amy Klobuchar', 'Amy Klobuchar Stakes Her Claim as New Hampshire’s New Comeback Kid', '‘The Gloves are Off’ Trump Pushes Revenge Operations', 'Tucker Carlson Signals to Trump, Says Roger Stone ‘Needs a Pardon’', 'Ryan Seacrest Nodded a Lot at Naeem Khan’s New York Fashion Week Show', 'Andrew Yang Ends His 2020 Presidential Bid', 'Trump Iran Man Brian Hook Met With a Former Terror Group’s Rep After Soleimani Strike', 'Thirsty Moderate Democrats Are Lining Up to Endorse Michael Bloomberg', 'Trump Tweets About Roger Stone, William Barr Grovels, and the Justice Department Turns On Itself', 'The Best Bedtime Routine for a Great Night’s Sleep Is a Simple One', '‘Empire’ Actor Jussie Smollett Indicted Again for Making Up Hate-Crime Attack: Special Prosecutor', 'Jason Blum’s ‘The Hunt’ to Open in March Despite Cancellation Controversy', 'Authorities Search for Gannon Stauch, 11-Year-Old Colorado Boy Who Went Missing Two Weeks Ago', 'The Best Men’s Chinos to Add to Your Outfit Rotation', 'Coronavirus Diamond Princess Cruise Ship Fiasco Points to Possible ‘Super-Spreader’', 'Democratic Voter Tells MSNBC She Voted for Bernie Sanders Because of Their ‘Cynical’ Coverage of Him', 'How to Watch, Stream 2020 New Hampshire Primary Coverage', 'Trump World Hammers Bloomberg for ‘Racism’ That Trump Previously Said Himself', 'Michael Bloomberg in 2015 Saw Russia’s Point in Invading Ukraine', 'Prosecutors Quit After DOJ Says It Will Override ‘Disproportionate’ Sentencing Recommendation for Roger Stone', '#IStandWithGayle Takes Off as Stars, Journalists Rally Around Gayle King Amid Kobe Bryant Backlash', 'Joy Behar Chides ‘The View’ Co-Host Sunny Hostin for ‘Prosecuting’ Amy Klobuchar', 'This Air Fryer Is Also a Convection Oven and Has Changed How I Cook', 'Lawrence Ray Ran a Sex Cult Out of Daughter’s Sarah Lawrence Dorm, Feds Say', 'Michael Bloomberg Hovers Over the New Hampshire Primary Like a Ghost', 'Syria Hears the Death Rattle of the Arab Spring as Assad and Putin Forces Advance', 'Russians Think Triumphant Trump Is More Their Man Than Ever', 'Remembering Legendary Drinks Writer Gary Gaz Regan', 'Russell Peters Defends Comedic Stereotypes: Nothing ‘Hacky’ About Indian Accent', 'They’re Voting in New Hampshire, but This Democrat Just Wants to Jump Off a Bridge', 'Ballerinas Secretly Ruled Fashion Trends for Over 50 Years', 'Will Elon Musk Create an Orbiting Garbage Pile Around Earth?', 'Will Bernie Sanders (and Mike Bloomberg) Do to the Democrats What Donald Trump Did to the GOP?', 'Everything We Know About Who Will Win in New Hampshire', 'Right Richter: Michelle Malkin Endorses Racist CPAC Rival America First Political Action Conference', 'Bernie Sanders Has Built The Most Powerful Machine In Democratic Politics—And It May Be Unstoppable', 'How ‘Birds of Prey’ Director Cathy Yan Saved Margot Robbie’s Harley Quinn From Joker and the Male Gaze', 'The Top Bluetooth Headphones for the Best Listening Experience', 'Coronavirus Casualties Hit Grim Milestone Even as China Fudges Numbers', 'Trump Tweets ‘Curb Your Enthusiasm’ Clip But Larry David ‘Could Give a F*ck’ About MAGA Fans', 'Harrison Ford Calls Out ‘Son of a Bitch’ Trump on Jimmy Kimmel', '‘Daily Show’s’ Trevor Noah Brutally Mocks Joe Biden for Attacking Civilians on the Campaign Trail', 'Tulsi Gabbard Tells Sean Hannity She Supports Trump Axing Alexander Vindman and Gordon Sondland', 'Seth Meyers Disgusted by Fox News Host Jeanine Pirro’s ‘Insane Screed’ Against Mitt Romney', 'Team Bernie Blasts Chuck Todd for Segment Likening Supporters to ‘Brown Shirts’', 'The FBI Makes a Bizarre Claim About Pro-Choice Terrorism', 'Cynthia Nixon Shuts Down Boos for Hillary Clinton at Bernie Sanders New Hampshire Rally', 'At New York Fashion Week, Alice + Olivia, Hervé Léger, Anna Sui, and Veronica Beard Glam Up a Rainy Day', 'Anti-Trans Bill Killed in South Dakota Senate Committee Vote', 'How to Take Care of Your Plants, Simplified', 'Parasite’s Historic Oscar Wins Matter More Than You Think, Even if You Hate the Oscars', 'Coronavirus’ Deadliest 24 Hours Yet as New Wave of Americans Infected on Cruise Ship', 'My Favorite Robe for Everything Is This One From Weezie', 'Fox News’ Brit Hume Says It’s a ‘Conspiracy Theory’ to Think Billionaires Are ‘Running the Country’', 'Inside New York Fashion Week’s Sexy Night Out With Chromat, Kim Shui, Dennis Basso, and The Blonds', 'Talita Maia Defends Harvey Weinstein, Claims Jessica Mann Called Weinstein Her ‘Spiritual Soulmate’', 'Justice Department Says China Was Behind Equifax Data Breach in 2017', 'Sinn Féin Wins Big at Irish Elections. But How Will the Party Manage Its IRA Past?', 'What Is Mike Pompeo Doing With Europe’s Last Dictator?', '10 Dishes with Celebrity Chef Massimiliano Alajmo of Sesamo in the Royal Mansour in Marrakech', 'Trump’s Foreign ‘Policy’ Is Just Bullying and Bloviating', 'Amy Klobuchar Is Having a Mini-Surge in New Hampshire: ‘We’ve Gone Up to No. 3!’', 'Antigua’s Newest Luxury, Adults-Only Retreat Is on the Edge of a National Park', 'Inside Female Directors’ Push for Better Parental Leave in the DGA and Across Hollywood', 'Dick Cavett Breaks Down Why Trump Got Away With His Crimes When Nixon Couldn’t', 'How the Trump DOJ’s Own Arguments May Make a Biden Probe Impossible', 'Corey Lewandowski Endorses a Pablo Escobar Phone That Probably Isn’t Real', 'Elon Musk and Donald Trump Are on Their Way to a Moonstruck Bromance', 'Black Voters Turn to Mike Bloomberg', '‘Parasite’ Saves the 2020 Oscars From a Fiery Hell of Irrelevance', 'The 2020 Oscars’ Most Cringeworthy Moment Came Courtesy of Sigourney Weaver, Brie Larson and Gal Gadot', 'Joaquin Phoenix Rails Against Cancel Culture, Cow Insemination in Wild Oscar Acceptance Speech for ‘Joker’', 'Elizabeth Warren Absorbs the Downsides of Being a Female Candidate With Little of the History-Making Chatter', 'Failed Cop Killer Ordered Takeout After NYPD Assassination Attempt: ‘Who Does That?’', 'The Oscars Red Carpet Served Up Glamour—and So Much Drama', 'Chris Rock and Steve Martin Roast Oscars for ‘Hiding’ Black Actors and Female Directors', 'Oscars Red Carpet Was Won by These Beautiful, Expensive Jewels, With Their Own Security Guards', 'Brad Pitt Jokes About Trump Impeachment in Best Supporting Actor Oscar Acceptance Speech', 'The Color and Drama of NYFW, With Brandon Maxwell, LaQuan Smith, Area, Tory Burch, and Christopher John Rogers', 'North Korea’s Secret Coronavirus Crisis is Crazy Scary', 'Bill Maher Warns Trump Could Win 2020 Election Because Democrats Too ‘Woke’', 'Lindsey Graham Claims Bill Barr Has ‘Created a Process’ for Giuliani to Give Him Biden Ukraine Dirt', 'Family of Harry Dunn Demand Answers About Spy Wife Anne Sacoolas’ CIA Background', 'Joe Biden Says Buttigieg Is ‘No Barack Obama.’ Mayor Pete Responds: Neither Are You.', \"Ruggable’s Washable Rug is a Clean Freak's Dream\", \"Bernie Sanders Clashes With CNN's Jake Tapper Over Old Comments, Says ‘You Go Back to My 3rd Grade Essay?!’\", 'How to Watch the 2020 Oscars on Sunday', 'Gunman Nabbed After Shooting Second NYPD Cop', 'Meghan and Harry Decline Invite to Present Best Picture Oscar, After Appearing at Miami Billionaires’ Summit', \"'Our Town's' Fictional NH Village Exposes American Bedrock\", 'OMG, I Want This House: Block Island, RI', 'Did We Really Find Pliny the Elder’s Skull?', 'Westminster Dog Show: An Inside Look Behind the Scenes', 'These Chinese Christians Were Branded A Criminal ‘Cult.’ Now They Have to Flee.', \"Mitzpe Ramon, Israel's ‘Grand Canyon,’ Is From Another World\", 'The National Organization for Women Is Tearing Itself Apart Over Sex Work', 'The Secret Database of Jehovah’s Witness Child Abusers', 'Laura Loomer, Trumpy Bigot Embraced by the Florida GOP, Could Actually Get to Congress', 'The Porn Prince of New York’s Live Sex Shows in 1970s Times Square', 'Oscars 2020 Predictions: Can ‘Parasite’ Pull Off a Major Upset Over ‘1917’ and Win It All?', 'The Trumpists Boosting Bernie Sanders Might Get What They Wish for and Regret It', 'SNL’s Weekend Update Mocks Trump’s Orange Face Tan Line Photo', 'SNL Larry David as Bernie Sanders Exposes His ‘Army of Internet Trolls’', 'Joe Biden Is Running Out Of Gas', 'Mayor Pete Weaponizes Biden’s Attack Ad Against Him', 'New York Fashion Week Kicks Off the Glamour With Badgley Mischka, Rag & Bone, Sergio Hudson, and Claudia Li', 'Five Evacuated Americans Are Being Tested for Coronavirus in California', 'The Best Dehumidifiers on Amazon to Keep Your Home Comfortable', 'The ‘Sex Education’ Bus Scene That’s Making Everyone Cry', 'Russians on the Riviera Say ‘We’re Not All Thugs and Gangsters’', 'Coronavirus Cruise Quarantine Went From Joke to Hospital Visit for Oregon Couple', 'Antelope Canyon Is Over-Touristed AF. Is It Still Worth Going?', 'If ‘Joker’ Wins the Best Picture Oscar All Hell Will Break Loose', 'Porn’s Biggest Humanitarian, Sofia Rose, Is ‘Here to Give You Strength’', 'Democratic Voters Worry Biden Has ‘Too Much Baggage’ After Trump’s Ukraine Smears', 'Pete Buttigieg Blows It Again as Democratic Debate Focuses on Race', 'Amy Klobuchar Seizes the Democratic Debate', 'Jane Fonda Brings Her Climate Activism and Civil Disobedience Home to L.A.', 'Dems Run Scared from Trump and Each Other', 'Steve Bannon Outduels and Embarrasses Bill Maher on ‘Real Time’', 'Friday Night Massacre of Alexander Vivdman, Yevgeny Vindman & Gordon Sondland is Just the Beginning for Trump', 'New Hampshire Democratic Debate Opens With Everyone Bashing Bernie', 'Trump Fires Gordon Sondland, Boots Lt. Col. Alexander Vindman', 'The Best Apparel Items From Amazon’s Private Label Menswear Brands', 'Jameela Jamil Is Not the Problem with HBO’s Ballroom Show ‘Legendary’', 'Varsity Blues College Cheating Scandal Lands Ex-PIMCO CEO in Prison for 9 Months', 'Judge Rules Kesha Defamed Dr. Luke by Telling Lady Gaga He Raped Katy Perry', 'The Best Oscar Speeches Ever (That Always Make Me Cry)', 'Harvey Weinstein’s Lawyer Donna Rotunno Says She Would Never Put Herself in Position to Be Sexually Assaulted', 'MSNBC’s Donny Deutsch Says Elizabeth Warren’s Problem Is She’s Too Strident and Unlikable', 'How to Watch the 2020 Democratic Debate in New Hampshire', 'Trump Properties Charged Secret Service $650 a Night, Says Report', 'Princess Beatrice to Marry Edoardo Mapelli Mozzi on Friday 29 May in London', 'John Kercher, Dad of Amanda Knox Roommate & Murder Victim Meredith Kercher, Died in Mysterious Circumstances', 'Coronavirus Whistleblower Dr. Li Wenliang Died a Powerful Martyr for Free Speech in China', '‘Mythic Quest: Raven’s Banquet’ Sees the ‘Always Sunny’ Team Take on Toxic Masculinity in Gaming', '‘Birds of Prey’ Gives Margot Robbie’s Harley Quinn the Girly, Grisly Movie She Deserves', 'Andrew Peek, NSC Russia Director, Was Under Suspicion Before He Got the White House Job', 'Exclusive: Pete Buttigieg Seeks Advice from Creepy Bill Clinton in ‘Our Cartoon President’', 'Democrats’ New Fear About Iowa Is Whether They Have a Turnout Problem', 'Inside Colombia’s ‘Air Chapo’ Cocaine Shipping Scandal', 'Prince Harry and Meghan Markle Chill With Archie, and Quietly Plan Their New Life', 'The Oscars’ Biggest Best Picture Screwups Ever, From ‘Citizen Kane’ to ‘Green Book’', 'Mike Bloomberg Is Paying ‘Influencers’ to Make Him Seem Cool', 'What’s the Difference Between the Kindle and Kindle Paperwhite? Here’s an Explanation', 'Jimmy Kimmel Brutally Roasts Donald Trump Jr.’s All-Time Worst Looks', 'Seth Meyers Mocks Trump for Making Mitt Romney Look ‘Incredibly Cool’', 'How Trump Really Invited Russia’s Election Attack', 'John Bolton Said He Would Testify Before the Senate, but House Democrats Are Torn About Demanding It', 'King Donald Trump to GOP After Impeachment Acquittal and Now and Forever You Shall Be My Servants', 'Snoop Dogg’s Attack on Oprah and Defense of Kobe Bryant, Michael Jackson and Cosby Is Classic Misogynoir', 'Producer Paul Feldsher Bashes ‘Liar’ Actress Annabella Sciorra and Defends ‘Sex Addict’ Pal Weinstein in Court', 'Fox News Internal Document Bashes John Solomon, Joe diGenova, and Rudy Giuliani for Spreading ‘Disinformation’', 'Donald Trump Jr. Is Wrong. Mitt Romney’s ‘Mom Jeans’ Are Right on Trend', 'Trump Celebrates Impeachment Acquittal With Bizarre ‘Blood’ and ‘Bullshit’ Filled White House Speech', 'Coronavirus Charity Efforts Kick into High Gear as Death Toll Keeps Surging', 'Russia Hacked the Election, Trump Hacked Team Obama’s Brains', 'Untangling the Dizzying Network Behind the Dem Caucus Blowup', 'Trump Drags Prayer Breakfast Into Gutter With Attack on Romney and Pelosi’s Faith', 'Trump’s Fox News Minions Swarm to Attack Mitt Romney', 'Pete Buttigieg Is Already Planning for Life After New Hampshire', 'Meghan McCain Unimpressed by Mitt Romney, Says He ‘Is Nothing Like My Dad’', 'Best Menswear Staples I Wish My Husband Would Consider Wearing', 'Hillary Clinton Redoubles Bernie Sanders Attack to Ellen DeGeneres: Need Someone ‘Who Can Win’', 'Gayle King Says Kobe Bryant Interview Clip About Rape Allegations Was ‘Taken Out of Context’', 'Trump’s Press Secretary Stephanie Grisham Whines About Media Lunch Leaks in New Leaked Email', 'Derek Mackay, Scotland’s Finance Secretary, Quits Over ‘Predatory’\\xa0Texts to 16-Year-Old Schoolboy', 'Harvey Weinstein Fell Asleep in Court After Hosting Super Bowl Party the Night Before', 'Flu, Not Coronavirus, Is the Virus Killing U.S. Kids Like Luca Calanni', 'The Current Obsession of Bartender Chase Bracamontes from Chicago Chef’s Special is Neon Cocktails', 'Forget Burning Man: Inside the Malaysian Festival Filled With Faith, Fasting, and Physical Bondage', 'Inside the 2020 Oscars’ Biggest Controversies, From Harvey Weinstein and Jeffrey Epstein to Diversity Issues', 'Coronavirus Is Terrifying Uber and Lyft Drivers and Exposing Customers to Extra Racism', 'Oprah Winfrey’s 2020 Is Off to a Terrible Start. Is Her Empire in Trouble?', 'Rudy Giuliani & Co. Plot New Biden Probes and Overseas Trip as Trump’s Ukraine Team Lies in Ruin', 'Stephen Colbert Absolutely Destroys ‘Skin-Bag’ Senator Susan Collins Over Impeachment', 'DHS Secretary Says New Yorkers Will Be Cut Off From Global Entry in Response to State’s Sanctuary Law', 'Zelensky Adviser Igor Novikov Says Trump Impeachment ‘Definitely Was Stressful’', '‘Daily Show’s’ Trevor Noah Exposes Team Trump’s Hypocrisy on Nancy Pelosi and Rush Limbaugh', 'Buttigieg Campaign Removes Fundraiser Co-Host Tied to ICE Contracts', 'Senate Democrats Nix Contract Talks With Shadow, Company Behind Disastrous Iowa Caucus App', 'Kirk Douglas, One of the Last Surviving Stars of Hollywood’s Golden Age, Dies at 103', 'Racist President Donald Trump Honors Racist Radio Pioneer Rush Limbaugh to Own the Libs and the Black Athletes', 'The Best Shapewear Cami Is from Yummie', 'Nicki Minaj and Meek Mill’s War of Words Just Got Very Ugly, and Very Personal', 'Mitt Romney Cuts a Profile in Courage as He Votes to Convict Donald Trump of Abuse of Power', 'Trump Is Acquitted. Now, He Starts Cheating on the 2020 Election.', 'Senate Republicans Admit Trump Did It but Vote to Acquit Him in Impeachment Trial', 'Lauren Young Testifies Harvey Weinstein Groped Her, Masturbated in Hotel Bathroom', 'The Best Apparel Items from Amazon’s Private Label Womenswear Brands', 'Republicans Hate Surveillance on Trump, but Sound Like They’ll Renew the PATRIOT Act', 'Mitt Romney Will Vote to Convict Trump: ‘Appalling Abuse of Public Trust’', 'Escaping Coronavirus, More Americans Flee China on 4 Flights to the U.S.', 'Fox News Host Dagen McDowell Blows Top Over Pelosi, Says ‘She’s a Third-Grader’ Who Is ‘Eating Toilet Paper’', 'Vin Diesel Says ‘Fast 10’ Might Be Split Into an Epic Two-Part Finale', 'Pete Buttigieg Makes History, and Makes America Face the Meaning of LGBTQ Equality—and Reality of Prejudice', '‘Saw’ Trailer — Chris Rock, Samuel L. Jackson Revitalize a Languishing Franchise', 'Alec Baldwin and ‘The View’ Clash With Meghan McCain Over Rush Limbaugh State of the Union Honor', 'Quarantined Cruise Ship Passengers Stuck on Journey From Hell Thanks to Coronavirus Outbreak', 'Pornhub Continues Its March to the Mainstream as Streaming Stars Make Fashion Week Debut', 'Cooking Through the South’s Past, Present & Future', 'Fashion’s A-List Face a Dilemma. Do They Go To New York Fashion Week, the Oscars—or Both?', 'Here are the Terrible Things Trump Did That You Might Have Missed in the Midst of Impeachment', 'Coronavirus Pandemic Worst-Case Scenario Is Ugly, Experts Say', '‘Woke William,’ Activist Prince, Would Make Princess Diana So Proud', 'This Oscar Season Has Been a Bigger Disaster Than Iowa', 'Team Trump Plans Its Assault on Bernie. Step One Is ‘Victims of Socialism.’', 'Jimmy Kimmel Rips Trump for Honoring Rush Limbaugh During State of the Union', 'Trump’s Speech Was a Bataan Death March of Bullsh*t', 'Whoa, Donald Trump Just Gave a Genuinely Good Speech', 'MSNBC’s Chris Matthews Gushes Over Trump’s State of the Union, Says ‘It’s All Good Stuff!’', 'Trump 2020 State of the Union Address Nationalist, Anti-Immigrant, Socialism-Hating Game Show', 'Seth Meyers Unloads on Pete Buttigieg for Prematurely Claiming Iowa Caucus Win', 'DA Clears Grant Robicheaux and Cerissa Riley, Couple Accused of Drugging and Raping Women', 'James Carville Rages Over State of Democratic Party, Says ‘I’m Scared to Death!’', 'Trump Had America’s Top TV News Anchors Over for Lunch and Ate Them Alive', \"Amanda Perrault Reported Her Cop Husband for Domestic Violence. Now She's Dead.\", 'Pete Buttigieg Leads Iowa Delegate Race With 75 Percent Reporting', 'This Handheld Printer Can Print on Pretty Much Anything', 'Investors Rush to Downplay Ties to Shadow, the Firm Behind Iowa Caucus Clusterf*ck', 'How to Watch Trump’s 2020 State of the Union Address', '‘The Bachelor’ Contestant Victoria F. Loses ‘Cosmo’ Cover over ‘White Lives Matter’ Shoot', 'Actress Emanuela Postacchini Testifies Jessica Mann Was Crying After Failed Threesome with Harvey Weinstein', 'Trump Allies Promote Iowa Caucus Conspiracy Theories as Dems Feud', 'Mo’Nique Slams Oprah Winfrey Over Sundance Russell Simmons Doc, Rekindles Old Feud', '‘The View’ Host Meghan McCain Says ‘My Dad’ Knew Iowa Caucus Was ‘Garbage’', 'Pete Buttigieg Wakes Up in New Hampshire With a Promise of ‘Transparency’ and a Fresh Dig at Bernie Sanders', 'The Dirty Little Secret Behind Iowa’s Amateur Hour Caucuses', 'This Caucus Has to Be the Last Iowa Shitshow', 'The Crazy Coronavirus ‘Cures’ on the Chinese Web Include Trump’s Secret ‘Super-Drug’', 'Republicans Have One Last Chance to Avoid Looking Like Total Patsies', 'Comedian Tom Papa: There’s Nothing ‘Funny’ About Donald Trump', 'Anthrax Is a Bioweapon. Could It Also Cure Bladder Cancer?', '10 Dishes With Celebrity Chef Eduardo Ruiz of L.A.’s Chicas Tacos', 'What the Hell Is China Doing on the Dark Side of the Moon?', 'GOP Base Is Hot to Probe Biden, Senate Republicans Not So Much', 'Meghan Markle Is The Unofficial Patron Saint of Daughters With Toxic Fathers', 'Kelly Clarkson on How ‘The Kelly Clarkson Show’ Became the Purest Joy on TV', 'New Age Town of Fairfield Keeps Calm, Picks Bernie as Iowa Loses Its Mind', 'Iowa Democratic Party Botches Caucus Ballot Count, Gift Joe Biden a Second Chance', 'Iowa Caucus Night Is an Utter Disaster', 'Is ‘The Bachelor’s’ Tammy Ly the New Villain of Peter Weber’s Season?', '‘Daily Show’ Trolls the Hell Out of Trump Supporters in Iowa', 'Jeff Bezos Accuses His Girlfriend Lauren Sanchez’s Brother of ‘Extortion’', 'MSNBC Panel Flips Out After Bernie Sanders Adviser Nina Turner Calls Bloomberg an ‘Oligarch’', 'Thanks to Trump’s Attacks, Journalists Now Have an Official ‘Safety Kit’', 'Purple’s Hybrid Premier Mattress Made Me a Better Sleeper', 'A Day in the Life of Bulleit Whiskey Blender Eboni Major', 'Coronavirus at UMass Boston Raises Transparency Questions, Students Say', 'Disney’s ‘Hamilton’ Deal Might Be One of the Biggest in Movie History', 'Weinstein Accuser Details Gross ‘Golden Shower’ Encounter With Disgraced Film Mogul', 'Fox News Host Ed Henry Asks Pete Buttigieg How Can You Call Trump Racist After Super Bowl Ad?', 'How to Watch the 2020 Iowa Caucuses', 'CDC Coronavirus Boss Nancy Messonnier Calls Spread ‘Unprecedented’ as Cases Surge in U.S. and Abroad', 'Billie Eilish Defends Drake Texting Her: ‘Everybody’s So Sensitive’', 'Susan Collins’ Campaign Is Being Helped by a Mysterious Hawaii Company', 'Team Biden Readies for a New Hampshire Rescue', '‘Fox & Friends’ Defends Trump for Confusing Kansas With Missouri in Super Bowl Tweet', 'Brad Pitt and Rebel Wilson Mock the Royals While Prince William and Kate Middleton Grin and Bear It at BAFTAs', 'China Arrested Doctors Who Warned About Coronavirus Outbreak. Now Death Toll’s Rising, Stocks Are Plunging.', 'Man Who Bankrolled Brexit Boasted of WikiLeaks Backchannel', 'He Avenged His Son’s Murder—And Exposed the Opioid Crisis in America', 'Ex-Google Boss Eric Schmidt’s Love Life Exposed by Dirty Hedge Fund War', 'Help! I Don’t Know Any of the Drinks on This Menu!', 'Intoximeters, Breathalyzer Giant Accused of Fraud, Won’t Come Clean About Booze Tests', 'Iowa Caucuses on the First Day of What’s Poised to be The Ugliest Democratic Primary Fight Ever', 'Which Foreign Trolls Will Attack America’s 2020 Presidential Election?', 'Washington Post Threatened Another Star Reporter, Wesley Lowery, Over His Tweets', '2020 Democrats’ Iowa Caucuses Momentum Shifts in Final Frantic Hours', 'Jennifer Lopez Burned the Super Bowl Halftime Show to the Ground—and Gave the Oscars the Middle Finger', 'Three New Cases of Coronavirus Confirmed in California', 'Trump Faces Backlash Over Super Bowl Ad on Alice Marie Johnson Release', 'Diddy and Pharrell Accused of Exploiting Young Black Talent to Line Their Own Pockets', 'Donald the Insult President Targets ‘Mini Mike’ Bloomberg, and Both Men End Up Looking Small', 'Doomsday Writer Chad Daybell Claimed Dead Wife Helped Him Find New Love Lori Vallow', 'Adam Schiff Blasts Republican Senators for Scolding Trump’s Ukraine Scheme While Letting Him Slide', 'This Parka From Target Will Become Your Go-To Like It Did Mine', 'Just-Freed Terrorist Sudesh Amman Killed by Cops After London Stabbing Spree', 'When Is Super Bowl 2020? How to Watch the Kansas City Chiefs and San Francisco 49ers Face Off', \"Lamar Alexander Says It's a 'Mistake' for Trump to Peddle Russian Propaganda by Mentioning CrowdStrike\", 'Meghan Markle Was Victim of ‘Explicit and Obnoxious Racism,’ Former British House Speaker John Bercow Claims', 'Any Child Who Dies of Hunger Is a Murdered Child', 'OMG, I Want This House: Kortessem, Belgium', 'Ghent Altarpiece’s Multimillion-Dollar Restoration Reveals Portions Hidden for Centuries', 'Meghan Markle’s Friends Are So Good at Saying Nothing', 'Why an Andy Reid Super Bowl Win Would Be So Sweet', 'Who’s Cheering for Bernie Sanders to Win Monday? Young Lefties and Donald Trump', 'Our Elections Are Up for Grabs Once Trump Gets Off, Warns Sen. Chris Murphy', 'Albert Speer, the Hitler Henchman Who Enabled the Holocaust, Bears Another Look Today', 'The Wild and Messed Up History of ‘Demonic’ Pregnancies', 'Bernie Sanders, Featuring Vampire Weekend, Rocks to a Close in Iowa', 'The Very Best of the 2020 Sundance Film Festival, From ‘Minari’ to ‘Dick Johnson Is Dead’', 'The Cruel Porn Star-Shaming of San Francisco 49ers’ Super Bowl QB Jimmy Garoppolo', 'Trump’s Ugly Media Obsessions Are ‘Fat’ Meghan McCain, ‘Bitch’ Katy Tur, Joe & Mika’s Love Nest', 'Save Your Indoor Plants From Dying With an LED Grow Bulb', 'The Best Hairsprays for Your Hair Type', 'Buttigieg Looks Forward and Biden Looks Back in Waterloo', 'SNL Alec Baldwin’s Trump Goes Full Harvey Weinstein in Mock Impeachment Trial', 'The Worst Day for Democracy Since the Civil War', 'The Best Men’s Flannel Shirts for Layering or On Their Own', 'Bernie Sanders Has an Emerging Surrogate Problem After One of Them Boos Hillary Clinton', 'Who Cares if Taylor Swift’s Netflix Doc Is Calculating?', \"It's High Time We Made Domestic Terrorism a Crime in the US\", 'The Scorched Legacy of Legendary Hollywood Designer Tony Duquette', 'Meet the Meryl Streep of Porn', 'Midlife Hits Us All. But It Hits Sex-Starved Singles Hardest', 'Kitty Green on How So Many Male Hollywood Execs Passed on Her Weinstein-Inspired #MeToo Film ‘The Assistant’', 'An Iowa First: They’ll Be Caucusing in Mosques Monday Night', 'Colin Kaepernick Taught Us How Exposed White America Truly Is', 'Here’s Why I Left the GOP', 'What’s the Difference Between Sateen and Percale Sheets? Here’s a Breakdown.', 'How to Have a Great American Cross-Country Road Trip', '‘The Crown’ Is Wrong to End in 2003. It’s Just When the Royal Family of Now Gets Interesting.', 'Bill Maher Brutally Mocks Alan Dershowitz Over Creepy Jeffrey Epstein Ties', 'Bernie Sanders’ Iowa Army Is ‘Effing Pumped’', 'Senators Vote Away Their Own Power to Save Trump From Himself', 'Trump’s Impeachment Acquittal Will Have ‘Real National Security Consequences,’ U.S. Officials Warn', 'The GOP Follows Lamar Alexander’s Example to Bless Trump’s Crimes: He Did It, Get Over It']\n"
          ],
          "name": "stdout"
        }
      ]
    },
    {
      "cell_type": "markdown",
      "metadata": {
        "id": "EyrihOv-YQaW"
      },
      "source": [
        "# Tải file cần lưu vào lên Colab"
      ]
    },
    {
      "cell_type": "code",
      "metadata": {
        "colab": {
          "resources": {
            "http://localhost:8080/nbextensions/google.colab/files.js": {
              "data": "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",
              "ok": true,
              "headers": [
                [
                  "content-type",
                  "application/javascript"
                ]
              ],
              "status": 200,
              "status_text": ""
            }
          },
          "base_uri": "https://localhost:8080/",
          "height": 73
        },
        "id": "ZsvKdJO8jsOK",
        "outputId": "a4f9b31f-458c-4ea8-9cd5-d74d9a35f5e9"
      },
      "source": [
        "#Upload file\n",
        "from google.colab import files\n",
        "uploaded = files.upload()"
      ],
      "execution_count": null,
      "outputs": [
        {
          "output_type": "display_data",
          "data": {
            "text/html": [
              "\n",
              "     <input type=\"file\" id=\"files-c3a45090-b561-4fa7-afbe-de82fa27484c\" name=\"files[]\" multiple disabled\n",
              "        style=\"border:none\" />\n",
              "     <output id=\"result-c3a45090-b561-4fa7-afbe-de82fa27484c\">\n",
              "      Upload widget is only available when the cell has been executed in the\n",
              "      current browser session. Please rerun this cell to enable.\n",
              "      </output>\n",
              "      <script src=\"/nbextensions/google.colab/files.js\"></script> "
            ],
            "text/plain": [
              "<IPython.core.display.HTML object>"
            ]
          },
          "metadata": {
            "tags": []
          }
        },
        {
          "output_type": "stream",
          "text": [
            "Saving thedailybeast.com.txt to thedailybeast.com (2).txt\n"
          ],
          "name": "stdout"
        }
      ]
    },
    {
      "cell_type": "markdown",
      "metadata": {
        "id": "oywGPD4FmIxq"
      },
      "source": [
        "# Ghi dữ liệu vào file"
      ]
    },
    {
      "cell_type": "code",
      "metadata": {
        "id": "I6nTiSIal4sC"
      },
      "source": [
        "with open('nytimes.json', 'w') as outfile:\n",
        "    for i in data4:\n",
        "        json.dump(i, outfile, ensure_ascii=False)\n",
        "        outfile.write('\\n')"
      ],
      "execution_count": null,
      "outputs": []
    },
    {
      "cell_type": "code",
      "metadata": {
        "id": "-b5i9lnel54J"
      },
      "source": [
        "with open('euronews.json', 'w') as outfile:\n",
        "    for i in data5:\n",
        "        json.dump(i, outfile, ensure_ascii=False)\n",
        "        outfile.write('\\n')"
      ],
      "execution_count": null,
      "outputs": []
    },
    {
      "cell_type": "code",
      "metadata": {
        "id": "VnbCpLaZl6HQ"
      },
      "source": [
        "with open('thetimes.co.uk.json', 'w') as outfile:\n",
        "    for i in data6:\n",
        "        json.dump(i, outfile, ensure_ascii=False)\n",
        "        outfile.write('\\n')"
      ],
      "execution_count": null,
      "outputs": []
    },
    {
      "cell_type": "code",
      "metadata": {
        "id": "c7TAcyPGk-W9"
      },
      "source": [
        "with open('thedailybeast.com.json', 'w') as outfile:\n",
        "    for i in data7:\n",
        "        json.dump(i, outfile, ensure_ascii=False)\n",
        "        outfile.write('\\n')"
      ],
      "execution_count": null,
      "outputs": []
    },
    {
      "cell_type": "markdown",
      "metadata": {
        "id": "J16qVQXcmKiR"
      },
      "source": [
        "# Download file"
      ]
    },
    {
      "cell_type": "code",
      "metadata": {
        "colab": {
          "base_uri": "https://localhost:8080/",
          "height": 17
        },
        "id": "NFjqAIvLmSQp",
        "outputId": "c70935e1-2241-4d18-8f99-0d38268da5e9"
      },
      "source": [
        "files.download(\"nytimes.json\")"
      ],
      "execution_count": null,
      "outputs": [
        {
          "output_type": "display_data",
          "data": {
            "application/javascript": [
              "\n",
              "    async function download(id, filename, size) {\n",
              "      if (!google.colab.kernel.accessAllowed) {\n",
              "        return;\n",
              "      }\n",
              "      const div = document.createElement('div');\n",
              "      const label = document.createElement('label');\n",
              "      label.textContent = `Downloading \"${filename}\": `;\n",
              "      div.appendChild(label);\n",
              "      const progress = document.createElement('progress');\n",
              "      progress.max = size;\n",
              "      div.appendChild(progress);\n",
              "      document.body.appendChild(div);\n",
              "\n",
              "      const buffers = [];\n",
              "      let downloaded = 0;\n",
              "\n",
              "      const channel = await google.colab.kernel.comms.open(id);\n",
              "      // Send a message to notify the kernel that we're ready.\n",
              "      channel.send({})\n",
              "\n",
              "      for await (const message of channel.messages) {\n",
              "        // Send a message to notify the kernel that we're ready.\n",
              "        channel.send({})\n",
              "        if (message.buffers) {\n",
              "          for (const buffer of message.buffers) {\n",
              "            buffers.push(buffer);\n",
              "            downloaded += buffer.byteLength;\n",
              "            progress.value = downloaded;\n",
              "          }\n",
              "        }\n",
              "      }\n",
              "      const blob = new Blob(buffers, {type: 'application/binary'});\n",
              "      const a = document.createElement('a');\n",
              "      a.href = window.URL.createObjectURL(blob);\n",
              "      a.download = filename;\n",
              "      div.appendChild(a);\n",
              "      a.click();\n",
              "      div.remove();\n",
              "    }\n",
              "  "
            ],
            "text/plain": [
              "<IPython.core.display.Javascript object>"
            ]
          },
          "metadata": {
            "tags": []
          }
        },
        {
          "output_type": "display_data",
          "data": {
            "application/javascript": [
              "download(\"download_bfee70b2-1d41-4db5-9d8b-bbcb9d2b7151\", \"nytimes.json\", 594193)"
            ],
            "text/plain": [
              "<IPython.core.display.Javascript object>"
            ]
          },
          "metadata": {
            "tags": []
          }
        }
      ]
    },
    {
      "cell_type": "code",
      "metadata": {
        "colab": {
          "base_uri": "https://localhost:8080/",
          "height": 17
        },
        "id": "BaR711tnmVVp",
        "outputId": "d8d594a4-3bb8-4f35-e8e8-db5d41343d6d"
      },
      "source": [
        "files.download(\"euronews.json\")"
      ],
      "execution_count": null,
      "outputs": [
        {
          "output_type": "display_data",
          "data": {
            "application/javascript": [
              "\n",
              "    async function download(id, filename, size) {\n",
              "      if (!google.colab.kernel.accessAllowed) {\n",
              "        return;\n",
              "      }\n",
              "      const div = document.createElement('div');\n",
              "      const label = document.createElement('label');\n",
              "      label.textContent = `Downloading \"${filename}\": `;\n",
              "      div.appendChild(label);\n",
              "      const progress = document.createElement('progress');\n",
              "      progress.max = size;\n",
              "      div.appendChild(progress);\n",
              "      document.body.appendChild(div);\n",
              "\n",
              "      const buffers = [];\n",
              "      let downloaded = 0;\n",
              "\n",
              "      const channel = await google.colab.kernel.comms.open(id);\n",
              "      // Send a message to notify the kernel that we're ready.\n",
              "      channel.send({})\n",
              "\n",
              "      for await (const message of channel.messages) {\n",
              "        // Send a message to notify the kernel that we're ready.\n",
              "        channel.send({})\n",
              "        if (message.buffers) {\n",
              "          for (const buffer of message.buffers) {\n",
              "            buffers.push(buffer);\n",
              "            downloaded += buffer.byteLength;\n",
              "            progress.value = downloaded;\n",
              "          }\n",
              "        }\n",
              "      }\n",
              "      const blob = new Blob(buffers, {type: 'application/binary'});\n",
              "      const a = document.createElement('a');\n",
              "      a.href = window.URL.createObjectURL(blob);\n",
              "      a.download = filename;\n",
              "      div.appendChild(a);\n",
              "      a.click();\n",
              "      div.remove();\n",
              "    }\n",
              "  "
            ],
            "text/plain": [
              "<IPython.core.display.Javascript object>"
            ]
          },
          "metadata": {
            "tags": []
          }
        },
        {
          "output_type": "display_data",
          "data": {
            "application/javascript": [
              "download(\"download_69a47a71-e10d-4362-8bd4-858a6e483ff4\", \"euronews.json\", 70923)"
            ],
            "text/plain": [
              "<IPython.core.display.Javascript object>"
            ]
          },
          "metadata": {
            "tags": []
          }
        }
      ]
    },
    {
      "cell_type": "code",
      "metadata": {
        "colab": {
          "base_uri": "https://localhost:8080/",
          "height": 17
        },
        "id": "snfR9tbkmWGg",
        "outputId": "462cedf6-9591-4667-e864-594bb5aae41e"
      },
      "source": [
        "files.download(\"thetimes.co.uk.json\")"
      ],
      "execution_count": null,
      "outputs": [
        {
          "output_type": "display_data",
          "data": {
            "application/javascript": [
              "\n",
              "    async function download(id, filename, size) {\n",
              "      if (!google.colab.kernel.accessAllowed) {\n",
              "        return;\n",
              "      }\n",
              "      const div = document.createElement('div');\n",
              "      const label = document.createElement('label');\n",
              "      label.textContent = `Downloading \"${filename}\": `;\n",
              "      div.appendChild(label);\n",
              "      const progress = document.createElement('progress');\n",
              "      progress.max = size;\n",
              "      div.appendChild(progress);\n",
              "      document.body.appendChild(div);\n",
              "\n",
              "      const buffers = [];\n",
              "      let downloaded = 0;\n",
              "\n",
              "      const channel = await google.colab.kernel.comms.open(id);\n",
              "      // Send a message to notify the kernel that we're ready.\n",
              "      channel.send({})\n",
              "\n",
              "      for await (const message of channel.messages) {\n",
              "        // Send a message to notify the kernel that we're ready.\n",
              "        channel.send({})\n",
              "        if (message.buffers) {\n",
              "          for (const buffer of message.buffers) {\n",
              "            buffers.push(buffer);\n",
              "            downloaded += buffer.byteLength;\n",
              "            progress.value = downloaded;\n",
              "          }\n",
              "        }\n",
              "      }\n",
              "      const blob = new Blob(buffers, {type: 'application/binary'});\n",
              "      const a = document.createElement('a');\n",
              "      a.href = window.URL.createObjectURL(blob);\n",
              "      a.download = filename;\n",
              "      div.appendChild(a);\n",
              "      a.click();\n",
              "      div.remove();\n",
              "    }\n",
              "  "
            ],
            "text/plain": [
              "<IPython.core.display.Javascript object>"
            ]
          },
          "metadata": {
            "tags": []
          }
        },
        {
          "output_type": "display_data",
          "data": {
            "application/javascript": [
              "download(\"download_da389c1c-622c-470f-9d01-6c2aee614ea5\", \"thetimes.co.uk.json\", 0)"
            ],
            "text/plain": [
              "<IPython.core.display.Javascript object>"
            ]
          },
          "metadata": {
            "tags": []
          }
        }
      ]
    },
    {
      "cell_type": "code",
      "metadata": {
        "colab": {
          "base_uri": "https://localhost:8080/",
          "height": 17
        },
        "id": "oa5FtMA1lGn0",
        "outputId": "1f67218f-e018-45bd-9016-ae3b6ea79b12"
      },
      "source": [
        "files.download(\"thedailybeast.com.json\")"
      ],
      "execution_count": null,
      "outputs": [
        {
          "output_type": "display_data",
          "data": {
            "application/javascript": [
              "\n",
              "    async function download(id, filename, size) {\n",
              "      if (!google.colab.kernel.accessAllowed) {\n",
              "        return;\n",
              "      }\n",
              "      const div = document.createElement('div');\n",
              "      const label = document.createElement('label');\n",
              "      label.textContent = `Downloading \"${filename}\": `;\n",
              "      div.appendChild(label);\n",
              "      const progress = document.createElement('progress');\n",
              "      progress.max = size;\n",
              "      div.appendChild(progress);\n",
              "      document.body.appendChild(div);\n",
              "\n",
              "      const buffers = [];\n",
              "      let downloaded = 0;\n",
              "\n",
              "      const channel = await google.colab.kernel.comms.open(id);\n",
              "      // Send a message to notify the kernel that we're ready.\n",
              "      channel.send({})\n",
              "\n",
              "      for await (const message of channel.messages) {\n",
              "        // Send a message to notify the kernel that we're ready.\n",
              "        channel.send({})\n",
              "        if (message.buffers) {\n",
              "          for (const buffer of message.buffers) {\n",
              "            buffers.push(buffer);\n",
              "            downloaded += buffer.byteLength;\n",
              "            progress.value = downloaded;\n",
              "          }\n",
              "        }\n",
              "      }\n",
              "      const blob = new Blob(buffers, {type: 'application/binary'});\n",
              "      const a = document.createElement('a');\n",
              "      a.href = window.URL.createObjectURL(blob);\n",
              "      a.download = filename;\n",
              "      div.appendChild(a);\n",
              "      a.click();\n",
              "      div.remove();\n",
              "    }\n",
              "  "
            ],
            "text/plain": [
              "<IPython.core.display.Javascript object>"
            ]
          },
          "metadata": {
            "tags": []
          }
        },
        {
          "output_type": "display_data",
          "data": {
            "application/javascript": [
              "download(\"download_11aec95e-298c-4f54-8ec7-d68a5c5d3c7e\", \"thedailybeast.com.json\", 9092052)"
            ],
            "text/plain": [
              "<IPython.core.display.Javascript object>"
            ]
          },
          "metadata": {
            "tags": []
          }
        }
      ]
    },
    {
      "cell_type": "markdown",
      "metadata": {
        "id": "tuTxTz5JHm5N"
      },
      "source": [
        "## Nhân xét:\n",
        "\n",
        "1.  Sau khi sarcasm data của các trang báo, em thấy những trang báo có link \"site map\" thì dễ lấy dữ liệu của các năm hơn, vì em lọc tin theo ràng buộc ngày tháng năm.\n",
        "2.  Có một số trang em sarcasm data xong thì phát hiện có link nhưng không có tiêu đề và ngược lại, dẫn đến các link với tiêu đề bị nối không khớp với nhau.\n",
        "3.  Thông tin data mà nhóm em thu được:\n",
        "- Ở trang nytimes.com, thu được: 47363\n",
        "- Ở trang euronews.com, thu được: 41043\n",
        "- Ở trang thedailybeast.com, thu được: 40453\n",
        "- Ở trang thetimes.co.uk, thu được: 2483, nhưng sau khi kiểm tra thì em phát hiện bị sai lệch tiêu đề với link, nên em thay thế bằng trang thedailybeast.com cho trang này thì lượng data tăng đáng kể.\n",
        "\n",
        "\n"
      ]
    }
  ]
}
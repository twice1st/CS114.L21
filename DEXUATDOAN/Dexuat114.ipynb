{
  "nbformat": 4,
  "nbformat_minor": 0,
  "metadata": {
    "colab": {
      "name": "Dexuat114.ipynb",
      "provenance": [],
      "collapsed_sections": [],
      "authorship_tag": "ABX9TyOchIcHuXxCg4Y6Lxczl2Ve",
      "include_colab_link": true
    },
    "kernelspec": {
      "name": "python3",
      "display_name": "Python 3"
    },
    "language_info": {
      "name": "python"
    }
  },
  "cells": [
    {
      "cell_type": "markdown",
      "metadata": {
        "id": "view-in-github",
        "colab_type": "text"
      },
      "source": [
        "<a href=\"https://colab.research.google.com/github/twice1st/CS114.L21/blob/main/DEXUATDOAN/Dexuat114.ipynb\" target=\"_parent\"><img src=\"https://colab.research.google.com/assets/colab-badge.svg\" alt=\"Open In Colab\"/></a>"
      ]
    },
    {
      "cell_type": "markdown",
      "metadata": {
        "id": "W3wJ_djlV1gQ"
      },
      "source": [
        "# **1. GIỚI THIỆU:**\n",
        "\n",
        "**Giảng viên hướng dẫn:**\n",
        "1.   Nguyễn Đình Duy\n",
        "2.   Phạm Nguyễn Trường An\n",
        "\n",
        "**Nhóm thực hiện:**\n",
        "\n",
        "1. Nguyễn Thành Trọng - 19522410\n",
        "2. Đào Văn Tài - 19522148\n",
        "3. Ngô Gia Kiệt - 19521725\n",
        "\n",
        "# **2. MÔ TẢ ĐỒ ÁN:**\n",
        "\n",
        "Do dịch bệnh Covid-19 ngày càng phức tạp trên Thế Giới nói chung và Việt Nam ta nói riêng. Trước tình hình đó thì nhóm em nghĩ ra một đề xuất ứng dụng để góp phần vào việc phòng chống dịch bệnh như sau: lặp đặt camera trước các nơi có cửa tự động như cửa hàng tiện lợi,... Thông qua việc camera quét và nhận diện khuôn mặt của con người và cho ra các thông báo \"không đeo khẩu trang, đeo khẩu trang không đúng cách, đeo khẩu trang đúng cách\" và cửa sẽ được mở khi mọi người đều \"đeo khẩu trang đúng cách\". Nhóm em nghĩ điều đó sẽ giúp mọi người ý thức hơn vào việc phòng chống dịch bệnh.\n",
        "\n",
        "**2.1 Mô tả bộ dữ liệu:**\n",
        "\n",
        "+ Cách thức xây dựng bộ dữ liệu: Nhóm chúng em tự đi thu thập từ bên ngoài\n",
        "+ Số lượng, độ đa dạng: gồm ba bộ dataset như mô tả, mỗi bộ có khoảng 1000-1500 ảnh.\n",
        "+ Các thao tác tiền xử lý dữ liệu: \n",
        "  - Xác định khuôn mặt của mỗi người, loại bỏ các nét không liên quan hoặc mờ nhạt của khuôn mặt để tránh bị nhiễu (thủ công). \n",
        "  - Xử dụng các thư viện có sẵn để chỉnh sửa ảnh sao cho ảnh có độ rõ và đúng trọng tâm ta cần.\n",
        "+ Phân chia dữ liệu: Với dữ liệu khoảng 4000 ảnh nhóm chúng em chia như sau:\n",
        "  - Train: 60%\n",
        "  - Validation: 20%\n",
        "  - Test: 20%\n",
        "\n",
        "**2.2 Mô tả bộ đặc trưng:**\n",
        "\n"
      ]
    }
  ]
}